{
 "cells": [
  {
   "cell_type": "code",
   "execution_count": 166,
   "metadata": {},
   "outputs": [],
   "source": [
    "import pandas as pd\n",
    "import numpy as np \n",
    "import plotly.offline as py\n",
    "import plotly.graph_objects as go\n",
    "import matplotlib.pyplot as plt\n",
    "import seaborn as sns\n",
    "from functools import reduce\n",
    "from geopy.geocoders import Nominatim\n",
    "import folium\n",
    "from folium.plugins import HeatMap\n",
    "from geopy.exc import GeocoderTimedOut, GeocoderUnavailable\n",
    "\n",
    "sns.set_style('white')"
   ]
  },
  {
   "cell_type": "code",
   "execution_count": 167,
   "metadata": {},
   "outputs": [],
   "source": [
    "#after imputation\n",
    "data_deu = pd.read_csv('C:/Users/a0095989/Desktop/important/Thesis/Model_Thesis/imputed_deu_data1.csv', parse_dates=[0])\n",
    "# Verify dataset loading\n",
    "#print(data_deu.head())\n"
   ]
  },
  {
   "cell_type": "code",
   "execution_count": 168,
   "metadata": {},
   "outputs": [],
   "source": [
    "data_ind = data_deu[data_deu['Country']=='Germany']\n",
    "#data_deu.head()"
   ]
  },
  {
   "cell_type": "code",
   "execution_count": 169,
   "metadata": {},
   "outputs": [
    {
     "data": {
      "text/plain": [
       "(262359, 12)"
      ]
     },
     "execution_count": 169,
     "metadata": {},
     "output_type": "execute_result"
    }
   ],
   "source": [
    "data_ind.shape"
   ]
  },
  {
   "cell_type": "code",
   "execution_count": 170,
   "metadata": {},
   "outputs": [
    {
     "name": "stdout",
     "output_type": "stream",
     "text": [
      "<class 'pandas.core.frame.DataFrame'>\n",
      "RangeIndex: 262359 entries, 0 to 262358\n",
      "Data columns (total 12 columns):\n",
      " #   Column                         Non-Null Count   Dtype         \n",
      "---  ------                         --------------   -----         \n",
      " 0   dt                             262359 non-null  datetime64[ns]\n",
      " 1   AverageTemperature             262359 non-null  float64       \n",
      " 2   AverageTemperatureUncertainty  262359 non-null  float64       \n",
      " 3   City                           262359 non-null  object        \n",
      " 4   Country                        262359 non-null  object        \n",
      " 5   Latitude                       262359 non-null  object        \n",
      " 6   Longitude                      262359 non-null  object        \n",
      " 7   TemperatureAnomaly             262359 non-null  float64       \n",
      " 8   Year                           262359 non-null  int64         \n",
      " 9   Month                          262359 non-null  int64         \n",
      " 10  Season                         262359 non-null  object        \n",
      " 11  TemperatureChange              262278 non-null  float64       \n",
      "dtypes: datetime64[ns](1), float64(4), int64(2), object(5)\n",
      "memory usage: 24.0+ MB\n"
     ]
    }
   ],
   "source": [
    "data_ind.info()"
   ]
  },
  {
   "cell_type": "code",
   "execution_count": 171,
   "metadata": {},
   "outputs": [
    {
     "data": {
      "text/html": [
       "<div>\n",
       "<style scoped>\n",
       "    .dataframe tbody tr th:only-of-type {\n",
       "        vertical-align: middle;\n",
       "    }\n",
       "\n",
       "    .dataframe tbody tr th {\n",
       "        vertical-align: top;\n",
       "    }\n",
       "\n",
       "    .dataframe thead th {\n",
       "        text-align: right;\n",
       "    }\n",
       "</style>\n",
       "<table border=\"1\" class=\"dataframe\">\n",
       "  <thead>\n",
       "    <tr style=\"text-align: right;\">\n",
       "      <th></th>\n",
       "      <th>dt</th>\n",
       "      <th>AverageTemperature</th>\n",
       "      <th>AverageTemperatureUncertainty</th>\n",
       "      <th>TemperatureAnomaly</th>\n",
       "      <th>Year</th>\n",
       "      <th>Month</th>\n",
       "      <th>TemperatureChange</th>\n",
       "    </tr>\n",
       "  </thead>\n",
       "  <tbody>\n",
       "    <tr>\n",
       "      <th>count</th>\n",
       "      <td>262359</td>\n",
       "      <td>262359.000000</td>\n",
       "      <td>262359.000000</td>\n",
       "      <td>2.623590e+05</td>\n",
       "      <td>262359.000000</td>\n",
       "      <td>262359.000000</td>\n",
       "      <td>262278.000000</td>\n",
       "    </tr>\n",
       "    <tr>\n",
       "      <th>mean</th>\n",
       "      <td>1878-09-30 21:41:17.431306752</td>\n",
       "      <td>8.489331</td>\n",
       "      <td>1.614473</td>\n",
       "      <td>1.280477e-16</td>\n",
       "      <td>1878.291757</td>\n",
       "      <td>6.498919</td>\n",
       "      <td>0.002417</td>\n",
       "    </tr>\n",
       "    <tr>\n",
       "      <th>min</th>\n",
       "      <td>1743-11-01 00:00:00</td>\n",
       "      <td>-12.008000</td>\n",
       "      <td>0.055000</td>\n",
       "      <td>-1.940859e+01</td>\n",
       "      <td>1743.000000</td>\n",
       "      <td>1.000000</td>\n",
       "      <td>-13.345000</td>\n",
       "    </tr>\n",
       "    <tr>\n",
       "      <th>25%</th>\n",
       "      <td>1811-04-01 00:00:00</td>\n",
       "      <td>2.810000</td>\n",
       "      <td>0.298000</td>\n",
       "      <td>-5.726850e+00</td>\n",
       "      <td>1811.000000</td>\n",
       "      <td>3.000000</td>\n",
       "      <td>-3.250000</td>\n",
       "    </tr>\n",
       "    <tr>\n",
       "      <th>50%</th>\n",
       "      <td>1878-10-01 00:00:00</td>\n",
       "      <td>8.399000</td>\n",
       "      <td>0.662000</td>\n",
       "      <td>-1.466057e-01</td>\n",
       "      <td>1878.000000</td>\n",
       "      <td>6.000000</td>\n",
       "      <td>0.203000</td>\n",
       "    </tr>\n",
       "    <tr>\n",
       "      <th>75%</th>\n",
       "      <td>1946-04-01 00:00:00</td>\n",
       "      <td>14.816000</td>\n",
       "      <td>2.179000</td>\n",
       "      <td>6.317656e+00</td>\n",
       "      <td>1946.000000</td>\n",
       "      <td>9.000000</td>\n",
       "      <td>3.099000</td>\n",
       "    </tr>\n",
       "    <tr>\n",
       "      <th>90%</th>\n",
       "      <td>1986-10-01 00:00:00</td>\n",
       "      <td>17.235000</td>\n",
       "      <td>4.292000</td>\n",
       "      <td>8.681656e+00</td>\n",
       "      <td>1986.000000</td>\n",
       "      <td>11.000000</td>\n",
       "      <td>5.130000</td>\n",
       "    </tr>\n",
       "    <tr>\n",
       "      <th>95%</th>\n",
       "      <td>2000-04-01 00:00:00</td>\n",
       "      <td>18.127000</td>\n",
       "      <td>5.859000</td>\n",
       "      <td>9.614118e+00</td>\n",
       "      <td>2000.000000</td>\n",
       "      <td>12.000000</td>\n",
       "      <td>6.379000</td>\n",
       "    </tr>\n",
       "    <tr>\n",
       "      <th>max</th>\n",
       "      <td>2013-09-01 00:00:00</td>\n",
       "      <td>23.795000</td>\n",
       "      <td>14.828000</td>\n",
       "      <td>1.489941e+01</td>\n",
       "      <td>2013.000000</td>\n",
       "      <td>12.000000</td>\n",
       "      <td>16.573000</td>\n",
       "    </tr>\n",
       "    <tr>\n",
       "      <th>std</th>\n",
       "      <td>NaN</td>\n",
       "      <td>6.778794</td>\n",
       "      <td>2.023411</td>\n",
       "      <td>6.738203e+00</td>\n",
       "      <td>77.918891</td>\n",
       "      <td>3.452044</td>\n",
       "      <td>4.064085</td>\n",
       "    </tr>\n",
       "  </tbody>\n",
       "</table>\n",
       "</div>"
      ],
      "text/plain": [
       "                                  dt  AverageTemperature  \\\n",
       "count                         262359       262359.000000   \n",
       "mean   1878-09-30 21:41:17.431306752            8.489331   \n",
       "min              1743-11-01 00:00:00          -12.008000   \n",
       "25%              1811-04-01 00:00:00            2.810000   \n",
       "50%              1878-10-01 00:00:00            8.399000   \n",
       "75%              1946-04-01 00:00:00           14.816000   \n",
       "90%              1986-10-01 00:00:00           17.235000   \n",
       "95%              2000-04-01 00:00:00           18.127000   \n",
       "max              2013-09-01 00:00:00           23.795000   \n",
       "std                              NaN            6.778794   \n",
       "\n",
       "       AverageTemperatureUncertainty  TemperatureAnomaly           Year  \\\n",
       "count                  262359.000000        2.623590e+05  262359.000000   \n",
       "mean                        1.614473        1.280477e-16    1878.291757   \n",
       "min                         0.055000       -1.940859e+01    1743.000000   \n",
       "25%                         0.298000       -5.726850e+00    1811.000000   \n",
       "50%                         0.662000       -1.466057e-01    1878.000000   \n",
       "75%                         2.179000        6.317656e+00    1946.000000   \n",
       "90%                         4.292000        8.681656e+00    1986.000000   \n",
       "95%                         5.859000        9.614118e+00    2000.000000   \n",
       "max                        14.828000        1.489941e+01    2013.000000   \n",
       "std                         2.023411        6.738203e+00      77.918891   \n",
       "\n",
       "               Month  TemperatureChange  \n",
       "count  262359.000000      262278.000000  \n",
       "mean        6.498919           0.002417  \n",
       "min         1.000000         -13.345000  \n",
       "25%         3.000000          -3.250000  \n",
       "50%         6.000000           0.203000  \n",
       "75%         9.000000           3.099000  \n",
       "90%        11.000000           5.130000  \n",
       "95%        12.000000           6.379000  \n",
       "max        12.000000          16.573000  \n",
       "std         3.452044           4.064085  "
      ]
     },
     "execution_count": 171,
     "metadata": {},
     "output_type": "execute_result"
    }
   ],
   "source": [
    "data_ind.describe([.25,.50,.75,.90,.95])"
   ]
  },
  {
   "cell_type": "markdown",
   "metadata": {},
   "source": [
    "Step2: EDA\n",
    "Univariate Analysis"
   ]
  },
  {
   "cell_type": "code",
   "execution_count": 172,
   "metadata": {},
   "outputs": [
    {
     "name": "stderr",
     "output_type": "stream",
     "text": [
      "C:\\Users\\a0095989\\AppData\\Local\\Temp\\ipykernel_15484\\1291012885.py:2: UserWarning:\n",
      "\n",
      "\n",
      "\n",
      "`distplot` is a deprecated function and will be removed in seaborn v0.14.0.\n",
      "\n",
      "Please adapt your code to use either `displot` (a figure-level function with\n",
      "similar flexibility) or `histplot` (an axes-level function for histograms).\n",
      "\n",
      "For a guide to updating your code to use the new functions, please see\n",
      "https://gist.github.com/mwaskom/de44147ed2974457ad6372750bbe5751\n",
      "\n",
      "\n"
     ]
    },
    {
     "data": {
      "text/plain": [
       "<Axes: xlabel='AverageTemperature', ylabel='Density'>"
      ]
     },
     "execution_count": 172,
     "metadata": {},
     "output_type": "execute_result"
    },
    {
     "data": {
      "image/png": "[encoded data removed]",
      "text/plain": [
       "<Figure size 640x480 with 1 Axes>"
      ]
     },
     "metadata": {},
     "output_type": "display_data"
    }
   ],
   "source": [
    "#univariate analysis for average temperature\n",
    "sns.distplot(data_ind['AverageTemperature'])"
   ]
  },
  {
   "cell_type": "code",
   "execution_count": 173,
   "metadata": {},
   "outputs": [
    {
     "name": "stderr",
     "output_type": "stream",
     "text": [
      "C:\\Users\\a0095989\\AppData\\Local\\Temp\\ipykernel_15484\\1259859377.py:1: UserWarning:\n",
      "\n",
      "\n",
      "\n",
      "`distplot` is a deprecated function and will be removed in seaborn v0.14.0.\n",
      "\n",
      "Please adapt your code to use either `displot` (a figure-level function with\n",
      "similar flexibility) or `histplot` (an axes-level function for histograms).\n",
      "\n",
      "For a guide to updating your code to use the new functions, please see\n",
      "https://gist.github.com/mwaskom/de44147ed2974457ad6372750bbe5751\n",
      "\n",
      "\n"
     ]
    },
    {
     "data": {
      "text/plain": [
       "<Axes: xlabel='AverageTemperatureUncertainty', ylabel='Density'>"
      ]
     },
     "execution_count": 173,
     "metadata": {},
     "output_type": "execute_result"
    },
    {
     "data": {
      "image/png": "[encoded data removed]",
      "text/plain": [
       "<Figure size 640x480 with 1 Axes>"
      ]
     },
     "metadata": {},
     "output_type": "display_data"
    }
   ],
   "source": [
    "sns.distplot(data_ind['AverageTemperatureUncertainty'])"
   ]
  },
  {
   "cell_type": "markdown",
   "metadata": {},
   "source": [
    "Multivariate Analysis"
   ]
  },
  {
   "cell_type": "code",
   "execution_count": 174,
   "metadata": {},
   "outputs": [],
   "source": [
    "def boxplt(i):\n",
    "    sns.boxplot(\n",
    "        x=data_ind[data_ind['City'] == i]['City'],\n",
    "        y=data_ind[data_ind['City'] == i]['AverageTemperature'],\n",
    "        color='c'\n",
    "    )\n",
    "    plt.tight_layout()\n"
   ]
  },
  {
   "cell_type": "code",
   "execution_count": 175,
   "metadata": {},
   "outputs": [
    {
     "data": {
      "image/png": "[encoded data removed]",
      "text/plain": [
       "<Figure size 3000x2000 with 7 Axes>"
      ]
     },
     "metadata": {},
     "output_type": "display_data"
    }
   ],
   "source": [
    "plt.figure(figsize=(30, 20))\n",
    "\n",
    "# Loop through cities and create subplots\n",
    "for l, i in enumerate(['Aachen', 'Augsburg', 'Bergisch Gladbach', 'Berlin', 'Bielefeld', 'Bochum', 'Bonn']):\n",
    "    plt.subplot(2, 4, l + 1)  # Use 2 rows, 4 columns (adjust based on the number of cities)\n",
    "    \n",
    "    # Assuming boxplt is your custom function to plot boxplots\n",
    "    boxplt(i)\n",
    "    \n",
    "    # Darken and increase the visibility of various elements\n",
    "    plt.title(i, fontsize=20, fontweight='bold', color='darkblue')  # Darker title\n",
    "    plt.xticks(fontsize=16, color='black')  # Larger x-ticks\n",
    "    plt.yticks(fontsize=16, color='black')  # Larger y-ticks\n",
    "    plt.gca().spines['top'].set_visible(True)  # Show the top spine\n",
    "    plt.gca().spines['right'].set_visible(True)  # Show the right spine\n",
    "    plt.gca().spines['bottom'].set_linewidth(4)  # Thicker bottom border\n",
    "    plt.gca().spines['left'].set_linewidth(4)  # Thicker left border\n",
    "    plt.gca().spines['top'].set_linewidth(4)  # Thicker top border\n",
    "    plt.gca().spines['right'].set_linewidth(4)  # Thicker right border\n",
    "    plt.gca().xaxis.label.set_size(20)  # Larger x-axis label\n",
    "    plt.gca().yaxis.label.set_size(20)  # Larger y-axis label\n",
    "\n",
    "# Adjust spacing between subplots for better readability\n",
    "plt.tight_layout()\n",
    "plt.show()\n",
    "\n"
   ]
  },
  {
   "cell_type": "code",
   "execution_count": 176,
   "metadata": {},
   "outputs": [
    {
     "name": "stdout",
     "output_type": "stream",
     "text": [
      "dt                               datetime64[ns]\n",
      "AverageTemperature                      float64\n",
      "AverageTemperatureUncertainty           float64\n",
      "City                                     object\n",
      "Country                                  object\n",
      "Latitude                                 object\n",
      "Longitude                                object\n",
      "TemperatureAnomaly                      float64\n",
      "Year                                      int64\n",
      "Month                                     int64\n",
      "Season                                   object\n",
      "TemperatureChange                       float64\n",
      "dtype: object\n"
     ]
    }
   ],
   "source": [
    "print(data_ind.dtypes)\n"
   ]
  },
  {
   "cell_type": "markdown",
   "metadata": {},
   "source": [
    "Century Analysis\n",
    "18th century\n",
    "19th century\n",
    "20th century"
   ]
  },
  {
   "cell_type": "code",
   "execution_count": 177,
   "metadata": {},
   "outputs": [],
   "source": [
    "# Define the numeric columns to calculate the mean\n",
    "numeric_cols = ['AverageTemperature', 'AverageTemperatureUncertainty']\n",
    "\n",
    "# Filter for 19th century temperatures and group by 'City'\n",
    "century_temp_18 = data_ind[(data_ind['dt'] >= '1800-01-01') & (data_ind['dt'] < '1900-01-01')]\n",
    "century_temp_18 = century_temp_18.groupby('City')[numeric_cols].mean()\n",
    "\n",
    "# Filter for 20th century temperatures and group by 'City'\n",
    "century_temp_19 = data_ind[(data_ind['dt'] >= '1900-01-01') & (data_ind['dt'] < '2000-01-01')]\n",
    "century_temp_19 = century_temp_19.groupby('City')[numeric_cols].mean()\n",
    "\n",
    "# Filter for 21st century temperatures and group by 'City'\n",
    "century_temp_20 = data_ind[(data_ind['dt'] >= '2000-01-01') & (data_ind['dt'] < '2100-01-01')]\n",
    "century_temp_20 = century_temp_20.groupby('City')[numeric_cols].mean()\n"
   ]
  },
  {
   "cell_type": "markdown",
   "metadata": {},
   "source": [
    "Verifications:\n",
    "Check that the filtering and grouping work correctly"
   ]
  },
  {
   "cell_type": "code",
   "execution_count": 178,
   "metadata": {},
   "outputs": [
    {
     "name": "stdout",
     "output_type": "stream",
     "text": [
      "                   AverageTemperature  AverageTemperatureUncertainty\n",
      "City                                                                \n",
      "Aachen                       8.547264                       1.675458\n",
      "Augsburg                     4.365536                       1.720842\n",
      "Bergisch Gladbach            8.547264                       1.675458\n",
      "Berlin                       8.616107                       1.664897\n",
      "Bielefeld                    8.701503                       1.678258\n",
      "                   AverageTemperature  AverageTemperatureUncertainty\n",
      "City                                                                \n",
      "Aachen                       9.012111                       0.305904\n",
      "Augsburg                     4.809650                       0.428920\n",
      "Bergisch Gladbach            9.012111                       0.305904\n",
      "Berlin                       9.111492                       0.276775\n",
      "Bielefeld                    9.177860                       0.297889\n",
      "                   AverageTemperature  AverageTemperatureUncertainty\n",
      "City                                                                \n",
      "Aachen                      10.053388                       0.228315\n",
      "Augsburg                     5.908176                       0.344279\n",
      "Bergisch Gladbach           10.053388                       0.228315\n",
      "Berlin                      10.174073                       0.239861\n",
      "Bielefeld                   10.237830                       0.246897\n"
     ]
    }
   ],
   "source": [
    "print(century_temp_18.head())\n",
    "print(century_temp_19.head())\n",
    "print(century_temp_20.head())\n"
   ]
  },
  {
   "cell_type": "code",
   "execution_count": 179,
   "metadata": {},
   "outputs": [],
   "source": [
    "l1 = [century_temp_18, century_temp_19, century_temp_20]\n",
    "\n",
    "century_comb = reduce(lambda left,right: pd.merge(left,right,on=['City'], suffixes=('_18','_19')), l1)\n",
    "century_comb.columns = ['AverageTemperature_18','AverageTemperatureUncertainty_18', 'AverageTemperature_19','AverageTemperatureUncertainty_19',\n",
    "                        'AverageTemperature_20','AverageTemperatureUncertainty_20']"
   ]
  },
  {
   "cell_type": "code",
   "execution_count": 180,
   "metadata": {},
   "outputs": [
    {
     "name": "stdout",
     "output_type": "stream",
     "text": [
      "                   AverageTemperature_18  AverageTemperatureUncertainty_18  \\\n",
      "City                                                                         \n",
      "Aachen                          8.547264                          1.675458   \n",
      "Augsburg                        4.365536                          1.720842   \n",
      "Bergisch Gladbach               8.547264                          1.675458   \n",
      "Berlin                          8.616107                          1.664897   \n",
      "Bielefeld                       8.701503                          1.678258   \n",
      "\n",
      "                   AverageTemperature_19  AverageTemperatureUncertainty_19  \\\n",
      "City                                                                         \n",
      "Aachen                          9.012111                          0.305904   \n",
      "Augsburg                        4.809650                          0.428920   \n",
      "Bergisch Gladbach               9.012111                          0.305904   \n",
      "Berlin                          9.111492                          0.276775   \n",
      "Bielefeld                       9.177860                          0.297889   \n",
      "\n",
      "                   AverageTemperature_20  AverageTemperatureUncertainty_20  \n",
      "City                                                                        \n",
      "Aachen                         10.053388                          0.228315  \n",
      "Augsburg                        5.908176                          0.344279  \n",
      "Bergisch Gladbach              10.053388                          0.228315  \n",
      "Berlin                         10.174073                          0.239861  \n",
      "Bielefeld                      10.237830                          0.246897  \n"
     ]
    }
   ],
   "source": [
    "#Verifications:\n",
    "print(century_comb.head())\n"
   ]
  },
  {
   "cell_type": "code",
   "execution_count": 181,
   "metadata": {},
   "outputs": [
    {
     "name": "stdout",
     "output_type": "stream",
     "text": [
      "                   AverageTemperature_18  AverageTemperatureUncertainty_18  \\\n",
      "City                                                                         \n",
      "Aachen                          8.547264                          1.675458   \n",
      "Augsburg                        4.365536                          1.720842   \n",
      "Bergisch Gladbach               8.547264                          1.675458   \n",
      "Berlin                          8.616107                          1.664897   \n",
      "Bielefeld                       8.701503                          1.678258   \n",
      "\n",
      "                   AverageTemperature_19  AverageTemperatureUncertainty_19  \\\n",
      "City                                                                         \n",
      "Aachen                          9.012111                          0.305904   \n",
      "Augsburg                        4.809650                          0.428920   \n",
      "Bergisch Gladbach               9.012111                          0.305904   \n",
      "Berlin                          9.111492                          0.276775   \n",
      "Bielefeld                       9.177860                          0.297889   \n",
      "\n",
      "                   AverageTemperature_20  AverageTemperatureUncertainty_20  \n",
      "City                                                                        \n",
      "Aachen                         10.053388                          0.228315  \n",
      "Augsburg                        5.908176                          0.344279  \n",
      "Bergisch Gladbach              10.053388                          0.228315  \n",
      "Berlin                         10.174073                          0.239861  \n",
      "Bielefeld                      10.237830                          0.246897  \n"
     ]
    }
   ],
   "source": [
    "#Verifications:\n",
    "print(century_comb.head())\n"
   ]
  },
  {
   "cell_type": "code",
   "execution_count": 182,
   "metadata": {},
   "outputs": [],
   "source": [
    "century_comb['Diff18_20'] = [y-i for i,y in zip(century_comb['AverageTemperature_18'], century_comb['AverageTemperature_20'])]\n",
    "order_century_comb = century_comb.sort_values(by='Diff18_20', ascending=False)"
   ]
  },
  {
   "cell_type": "code",
   "execution_count": 183,
   "metadata": {},
   "outputs": [
    {
     "name": "stdout",
     "output_type": "stream",
     "text": [
      "         City  AverageTemperature_18  AverageTemperature_20  Diff18_20\n",
      "0     Dresden               7.938811               9.534836   1.596026\n",
      "1    Chemnitz               7.938811               9.534836   1.596026\n",
      "2    Ratisbon               7.464431               9.038564   1.574133\n",
      "3   Nuremberg               7.464431               9.038564   1.574133\n",
      "4  Ingolstadt               7.464431               9.038564   1.574133\n"
     ]
    }
   ],
   "source": [
    "\n",
    "# Reset the index after sorting for the final DataFrame (if you are using 'order_century_comb')\n",
    "order_century_comb = order_century_comb.reset_index()\n",
    "\n",
    "# Now print the desired columns\n",
    "print(order_century_comb[['City', 'AverageTemperature_18', 'AverageTemperature_20', 'Diff18_20']].head())"
   ]
  },
  {
   "cell_type": "code",
   "execution_count": 184,
   "metadata": {},
   "outputs": [
    {
     "name": "stdout",
     "output_type": "stream",
     "text": [
      "RangeIndex(start=0, stop=5, step=1)\n",
      "RangeIndex(start=75, stop=80, step=1)\n"
     ]
    }
   ],
   "source": [
    "print(order_century_comb[:5].index)\n",
    "print(order_century_comb[-6:-1].index)"
   ]
  },
  {
   "cell_type": "code",
   "execution_count": 185,
   "metadata": {},
   "outputs": [
    {
     "data": {
      "application/vnd.plotly.v1+json": {
       "config": {
        "plotlyServerURL": "https://plot.ly"
       },
       "data": [
        {
         "name": "18th Century",
         "type": "scatter",
         "x": [
          "Aachen",
          "Augsburg",
          "Bergisch Gladbach",
          "Berlin",
          "Bielefeld",
          "Bochum",
          "Bonn",
          "Bottrop",
          "Bremen",
          "Bremerhaven",
          "Brunswick",
          "Chemnitz",
          "Cologne",
          "Cottbus",
          "Darmstadt",
          "Dortmund",
          "Dresden",
          "Duisburg",
          "Düsseldorf",
          "Erfurt",
          "Erlangen",
          "Essen",
          "Frankfurt",
          "Freiburg",
          "Fürth",
          "Gelsenkirchen",
          "Gera",
          "Göttingen",
          "Hagen",
          "Halle",
          "Hamburg",
          "Hamm",
          "Hanover",
          "Heidelberg",
          "Heilbronn",
          "Herne",
          "Hildesheim",
          "Ingolstadt",
          "Karlsruhe",
          "Kassel",
          "Kiel",
          "Koblenz",
          "Krefeld",
          "Leipzig",
          "Leverkusen",
          "Ludwigshafen",
          "Lübeck",
          "Magdeburg",
          "Mainz",
          "Mannheim",
          "Moers",
          "Munich",
          "Mönchengladbach",
          "Mülheim",
          "Münster",
          "Neuss",
          "Nuremberg",
          "Oberhausen",
          "Offenbach",
          "Oldenburg",
          "Osnabrück",
          "Paderborn",
          "Pforzheim",
          "Potsdam",
          "Ratisbon",
          "Recklinghausen",
          "Remscheid",
          "Reutlingen",
          "Rostock",
          "Saarbrücken",
          "Salzgitter",
          "Siegen",
          "Solingen",
          "Stuttgart",
          "Trier",
          "Ulm",
          "Wiesbaden",
          "Witten",
          "Wolfsburg",
          "Wuppertal",
          "Würzburg"
         ],
         "y": [
          8.547264166666666,
          4.365535833333333,
          8.547264166666666,
          8.616106666666667,
          8.701503333333333,
          8.701503333333333,
          8.547264166666666,
          8.701503333333333,
          8.040725833333333,
          8.040725833333333,
          8.153808333333332,
          7.938810833333334,
          8.547264166666666,
          8.616106666666667,
          7.869554166666667,
          8.701503333333333,
          7.938810833333334,
          8.547264166666666,
          8.547264166666666,
          7.275591666666666,
          8.382867500000001,
          8.547264166666666,
          7.869554166666667,
          6.556155,
          8.382867500000001,
          8.701503333333333,
          7.275591666666666,
          8.153808333333332,
          8.701503333333333,
          7.275591666666666,
          8.040725833333333,
          8.701503333333333,
          8.153808333333332,
          8.382867500000001,
          8.382867500000001,
          8.701503333333333,
          8.153808333333332,
          7.464430833333332,
          8.7989,
          7.869554166666667,
          8.040725833333333,
          8.547264166666666,
          8.547264166666666,
          7.275591666666666,
          8.547264166666666,
          8.7989,
          8.040725833333333,
          8.153808333333332,
          7.869554166666667,
          8.7989,
          8.547264166666666,
          4.365535833333333,
          8.547264166666666,
          8.547264166666666,
          8.701503333333333,
          8.547264166666666,
          7.464430833333332,
          8.547264166666666,
          7.869554166666667,
          8.701503333333333,
          8.701503333333333,
          8.701503333333333,
          8.382867500000001,
          8.616106666666667,
          7.464430833333332,
          8.701503333333333,
          8.547264166666666,
          8.382867500000001,
          7.966313333333333,
          8.7989,
          8.153808333333332,
          7.869554166666667,
          8.547264166666666,
          8.382867500000001,
          8.7989,
          8.382867500000001,
          7.869554166666667,
          8.701503333333333,
          8.153808333333332,
          8.547264166666666,
          8.382867500000001
         ]
        },
        {
         "name": "19th Century",
         "type": "scatter",
         "x": [
          "Aachen",
          "Augsburg",
          "Bergisch Gladbach",
          "Berlin",
          "Bielefeld",
          "Bochum",
          "Bonn",
          "Bottrop",
          "Bremen",
          "Bremerhaven",
          "Brunswick",
          "Chemnitz",
          "Cologne",
          "Cottbus",
          "Darmstadt",
          "Dortmund",
          "Dresden",
          "Duisburg",
          "Düsseldorf",
          "Erfurt",
          "Erlangen",
          "Essen",
          "Frankfurt",
          "Freiburg",
          "Fürth",
          "Gelsenkirchen",
          "Gera",
          "Göttingen",
          "Hagen",
          "Halle",
          "Hamburg",
          "Hamm",
          "Hanover",
          "Heidelberg",
          "Heilbronn",
          "Herne",
          "Hildesheim",
          "Ingolstadt",
          "Karlsruhe",
          "Kassel",
          "Kiel",
          "Koblenz",
          "Krefeld",
          "Leipzig",
          "Leverkusen",
          "Ludwigshafen",
          "Lübeck",
          "Magdeburg",
          "Mainz",
          "Mannheim",
          "Moers",
          "Munich",
          "Mönchengladbach",
          "Mülheim",
          "Münster",
          "Neuss",
          "Nuremberg",
          "Oberhausen",
          "Offenbach",
          "Oldenburg",
          "Osnabrück",
          "Paderborn",
          "Pforzheim",
          "Potsdam",
          "Ratisbon",
          "Recklinghausen",
          "Remscheid",
          "Reutlingen",
          "Rostock",
          "Saarbrücken",
          "Salzgitter",
          "Siegen",
          "Solingen",
          "Stuttgart",
          "Trier",
          "Ulm",
          "Wiesbaden",
          "Witten",
          "Wolfsburg",
          "Wuppertal",
          "Würzburg"
         ],
         "y": [
          9.012110833333333,
          4.8096499999999995,
          9.012110833333333,
          9.111492499999999,
          9.17786,
          9.17786,
          9.012110833333333,
          9.17786,
          8.523673333333333,
          8.523673333333333,
          8.647163333333333,
          8.41179,
          9.012110833333333,
          9.111492499999999,
          8.349763333333334,
          9.17786,
          8.41179,
          9.012110833333333,
          9.012110833333333,
          7.757311666666666,
          8.8487525,
          9.012110833333333,
          8.349763333333334,
          7.007038333333333,
          8.8487525,
          9.17786,
          7.757311666666666,
          8.647163333333333,
          9.17786,
          7.757311666666666,
          8.523673333333333,
          9.17786,
          8.647163333333333,
          8.8487525,
          8.8487525,
          9.17786,
          8.647163333333333,
          7.917206666666666,
          9.266039166666665,
          8.349763333333334,
          8.523673333333333,
          9.012110833333333,
          9.012110833333333,
          7.757311666666666,
          9.012110833333333,
          9.266039166666665,
          8.523673333333333,
          8.647163333333333,
          8.349763333333334,
          9.266039166666665,
          9.012110833333333,
          4.8096499999999995,
          9.012110833333333,
          9.012110833333333,
          9.17786,
          9.012110833333333,
          7.917206666666666,
          9.012110833333333,
          8.349763333333334,
          9.17786,
          9.17786,
          9.17786,
          8.8487525,
          9.111492499999999,
          7.917206666666666,
          9.17786,
          9.012110833333333,
          8.8487525,
          8.459265833333333,
          9.266039166666665,
          8.647163333333333,
          8.349763333333334,
          9.012110833333333,
          8.8487525,
          9.266039166666665,
          8.8487525,
          8.349763333333334,
          9.17786,
          8.647163333333333,
          9.012110833333333,
          8.8487525
         ]
        },
        {
         "name": "20th Century",
         "type": "scatter",
         "x": [
          "Aachen",
          "Augsburg",
          "Bergisch Gladbach",
          "Berlin",
          "Bielefeld",
          "Bochum",
          "Bonn",
          "Bottrop",
          "Bremen",
          "Bremerhaven",
          "Brunswick",
          "Chemnitz",
          "Cologne",
          "Cottbus",
          "Darmstadt",
          "Dortmund",
          "Dresden",
          "Duisburg",
          "Düsseldorf",
          "Erfurt",
          "Erlangen",
          "Essen",
          "Frankfurt",
          "Freiburg",
          "Fürth",
          "Gelsenkirchen",
          "Gera",
          "Göttingen",
          "Hagen",
          "Halle",
          "Hamburg",
          "Hamm",
          "Hanover",
          "Heidelberg",
          "Heilbronn",
          "Herne",
          "Hildesheim",
          "Ingolstadt",
          "Karlsruhe",
          "Kassel",
          "Kiel",
          "Koblenz",
          "Krefeld",
          "Leipzig",
          "Leverkusen",
          "Ludwigshafen",
          "Lübeck",
          "Magdeburg",
          "Mainz",
          "Mannheim",
          "Moers",
          "Munich",
          "Mönchengladbach",
          "Mülheim",
          "Münster",
          "Neuss",
          "Nuremberg",
          "Oberhausen",
          "Offenbach",
          "Oldenburg",
          "Osnabrück",
          "Paderborn",
          "Pforzheim",
          "Potsdam",
          "Ratisbon",
          "Recklinghausen",
          "Remscheid",
          "Reutlingen",
          "Rostock",
          "Saarbrücken",
          "Salzgitter",
          "Siegen",
          "Solingen",
          "Stuttgart",
          "Trier",
          "Ulm",
          "Wiesbaden",
          "Witten",
          "Wolfsburg",
          "Wuppertal",
          "Würzburg"
         ],
         "y": [
          10.053387878787879,
          5.908175757575758,
          10.053387878787879,
          10.174072727272726,
          10.237830303030302,
          10.237830303030302,
          10.053387878787879,
          10.237830303030302,
          9.600999999999999,
          9.600999999999999,
          9.701872727272727,
          9.534836363636364,
          10.053387878787879,
          10.174072727272726,
          9.418569696969698,
          10.237830303030302,
          9.534836363636364,
          10.053387878787879,
          10.053387878787879,
          8.849278787878788,
          9.933442424242424,
          10.053387878787879,
          9.418569696969698,
          8.094042424242424,
          9.933442424242424,
          10.237830303030302,
          8.849278787878788,
          9.701872727272727,
          10.237830303030302,
          8.849278787878788,
          9.600999999999999,
          10.237830303030302,
          9.701872727272727,
          9.933442424242424,
          9.933442424242424,
          10.237830303030302,
          9.701872727272727,
          9.038563636363637,
          10.322369696969696,
          9.418569696969698,
          9.600999999999999,
          10.053387878787879,
          10.053387878787879,
          8.849278787878788,
          10.053387878787879,
          10.322369696969696,
          9.600999999999999,
          9.701872727272727,
          9.418569696969698,
          10.322369696969696,
          10.053387878787879,
          5.908175757575758,
          10.053387878787879,
          10.053387878787879,
          10.237830303030302,
          10.053387878787879,
          9.038563636363637,
          10.053387878787879,
          9.418569696969698,
          10.237830303030302,
          10.237830303030302,
          10.237830303030302,
          9.933442424242424,
          10.174072727272726,
          9.038563636363637,
          10.237830303030302,
          10.053387878787879,
          9.933442424242424,
          9.531660606060605,
          10.322369696969696,
          9.701872727272727,
          9.418569696969698,
          10.053387878787879,
          9.933442424242424,
          10.322369696969696,
          9.933442424242424,
          9.418569696969698,
          10.237830303030302,
          9.701872727272727,
          10.053387878787879,
          9.933442424242424
         ]
        }
       ],
       "layout": {
        "height": 800,
        "template": {
         "data": {
          "bar": [
           {
            "error_x": {
             "color": "#2a3f5f"
            },
            "error_y": {
             "color": "#2a3f5f"
            },
            "marker": {
             "line": {
              "color": "#E5ECF6",
              "width": 0.5
             },
             "pattern": {
              "fillmode": "overlay",
              "size": 10,
              "solidity": 0.2
             }
            },
            "type": "bar"
           }
          ],
          "barpolar": [
           {
            "marker": {
             "line": {
              "color": "#E5ECF6",
              "width": 0.5
             },
             "pattern": {
              "fillmode": "overlay",
              "size": 10,
              "solidity": 0.2
             }
            },
            "type": "barpolar"
           }
          ],
          "carpet": [
           {
            "aaxis": {
             "endlinecolor": "#2a3f5f",
             "gridcolor": "white",
             "linecolor": "white",
             "minorgridcolor": "white",
             "startlinecolor": "#2a3f5f"
            },
            "baxis": {
             "endlinecolor": "#2a3f5f",
             "gridcolor": "white",
             "linecolor": "white",
             "minorgridcolor": "white",
             "startlinecolor": "#2a3f5f"
            },
            "type": "carpet"
           }
          ],
          "choropleth": [
           {
            "colorbar": {
             "outlinewidth": 0,
             "ticks": ""
            },
            "type": "choropleth"
           }
          ],
          "contour": [
           {
            "colorbar": {
             "outlinewidth": 0,
             "ticks": ""
            },
            "colorscale": [
             [
              0,
              "#0d0887"
             ],
             [
              0.1111111111111111,
              "#46039f"
             ],
             [
              0.2222222222222222,
              "#7201a8"
             ],
             [
              0.3333333333333333,
              "#9c179e"
             ],
             [
              0.4444444444444444,
              "#bd3786"
             ],
             [
              0.5555555555555556,
              "#d8576b"
             ],
             [
              0.6666666666666666,
              "#ed7953"
             ],
             [
              0.7777777777777778,
              "#fb9f3a"
             ],
             [
              0.8888888888888888,
              "#fdca26"
             ],
             [
              1,
              "#f0f921"
             ]
            ],
            "type": "contour"
           }
          ],
          "contourcarpet": [
           {
            "colorbar": {
             "outlinewidth": 0,
             "ticks": ""
            },
            "type": "contourcarpet"
           }
          ],
          "heatmap": [
           {
            "colorbar": {
             "outlinewidth": 0,
             "ticks": ""
            },
            "colorscale": [
             [
              0,
              "#0d0887"
             ],
             [
              0.1111111111111111,
              "#46039f"
             ],
             [
              0.2222222222222222,
              "#7201a8"
             ],
             [
              0.3333333333333333,
              "#9c179e"
             ],
             [
              0.4444444444444444,
              "#bd3786"
             ],
             [
              0.5555555555555556,
              "#d8576b"
             ],
             [
              0.6666666666666666,
              "#ed7953"
             ],
             [
              0.7777777777777778,
              "#fb9f3a"
             ],
             [
              0.8888888888888888,
              "#fdca26"
             ],
             [
              1,
              "#f0f921"
             ]
            ],
            "type": "heatmap"
           }
          ],
          "heatmapgl": [
           {
            "colorbar": {
             "outlinewidth": 0,
             "ticks": ""
            },
            "colorscale": [
             [
              0,
              "#0d0887"
             ],
             [
              0.1111111111111111,
              "#46039f"
             ],
             [
              0.2222222222222222,
              "#7201a8"
             ],
             [
              0.3333333333333333,
              "#9c179e"
             ],
             [
              0.4444444444444444,
              "#bd3786"
             ],
             [
              0.5555555555555556,
              "#d8576b"
             ],
             [
              0.6666666666666666,
              "#ed7953"
             ],
             [
              0.7777777777777778,
              "#fb9f3a"
             ],
             [
              0.8888888888888888,
              "#fdca26"
             ],
             [
              1,
              "#f0f921"
             ]
            ],
            "type": "heatmapgl"
           }
          ],
          "histogram": [
           {
            "marker": {
             "pattern": {
              "fillmode": "overlay",
              "size": 10,
              "solidity": 0.2
             }
            },
            "type": "histogram"
           }
          ],
          "histogram2d": [
           {
            "colorbar": {
             "outlinewidth": 0,
             "ticks": ""
            },
            "colorscale": [
             [
              0,
              "#0d0887"
             ],
             [
              0.1111111111111111,
              "#46039f"
             ],
             [
              0.2222222222222222,
              "#7201a8"
             ],
             [
              0.3333333333333333,
              "#9c179e"
             ],
             [
              0.4444444444444444,
              "#bd3786"
             ],
             [
              0.5555555555555556,
              "#d8576b"
             ],
             [
              0.6666666666666666,
              "#ed7953"
             ],
             [
              0.7777777777777778,
              "#fb9f3a"
             ],
             [
              0.8888888888888888,
              "#fdca26"
             ],
             [
              1,
              "#f0f921"
             ]
            ],
            "type": "histogram2d"
           }
          ],
          "histogram2dcontour": [
           {
            "colorbar": {
             "outlinewidth": 0,
             "ticks": ""
            },
            "colorscale": [
             [
              0,
              "#0d0887"
             ],
             [
              0.1111111111111111,
              "#46039f"
             ],
             [
              0.2222222222222222,
              "#7201a8"
             ],
             [
              0.3333333333333333,
              "#9c179e"
             ],
             [
              0.4444444444444444,
              "#bd3786"
             ],
             [
              0.5555555555555556,
              "#d8576b"
             ],
             [
              0.6666666666666666,
              "#ed7953"
             ],
             [
              0.7777777777777778,
              "#fb9f3a"
             ],
             [
              0.8888888888888888,
              "#fdca26"
             ],
             [
              1,
              "#f0f921"
             ]
            ],
            "type": "histogram2dcontour"
           }
          ],
          "mesh3d": [
           {
            "colorbar": {
             "outlinewidth": 0,
             "ticks": ""
            },
            "type": "mesh3d"
           }
          ],
          "parcoords": [
           {
            "line": {
             "colorbar": {
              "outlinewidth": 0,
              "ticks": ""
             }
            },
            "type": "parcoords"
           }
          ],
          "pie": [
           {
            "automargin": true,
            "type": "pie"
           }
          ],
          "scatter": [
           {
            "fillpattern": {
             "fillmode": "overlay",
             "size": 10,
             "solidity": 0.2
            },
            "type": "scatter"
           }
          ],
          "scatter3d": [
           {
            "line": {
             "colorbar": {
              "outlinewidth": 0,
              "ticks": ""
             }
            },
            "marker": {
             "colorbar": {
              "outlinewidth": 0,
              "ticks": ""
             }
            },
            "type": "scatter3d"
           }
          ],
          "scattercarpet": [
           {
            "marker": {
             "colorbar": {
              "outlinewidth": 0,
              "ticks": ""
             }
            },
            "type": "scattercarpet"
           }
          ],
          "scattergeo": [
           {
            "marker": {
             "colorbar": {
              "outlinewidth": 0,
              "ticks": ""
             }
            },
            "type": "scattergeo"
           }
          ],
          "scattergl": [
           {
            "marker": {
             "colorbar": {
              "outlinewidth": 0,
              "ticks": ""
             }
            },
            "type": "scattergl"
           }
          ],
          "scattermapbox": [
           {
            "marker": {
             "colorbar": {
              "outlinewidth": 0,
              "ticks": ""
             }
            },
            "type": "scattermapbox"
           }
          ],
          "scatterpolar": [
           {
            "marker": {
             "colorbar": {
              "outlinewidth": 0,
              "ticks": ""
             }
            },
            "type": "scatterpolar"
           }
          ],
          "scatterpolargl": [
           {
            "marker": {
             "colorbar": {
              "outlinewidth": 0,
              "ticks": ""
             }
            },
            "type": "scatterpolargl"
           }
          ],
          "scatterternary": [
           {
            "marker": {
             "colorbar": {
              "outlinewidth": 0,
              "ticks": ""
             }
            },
            "type": "scatterternary"
           }
          ],
          "surface": [
           {
            "colorbar": {
             "outlinewidth": 0,
             "ticks": ""
            },
            "colorscale": [
             [
              0,
              "#0d0887"
             ],
             [
              0.1111111111111111,
              "#46039f"
             ],
             [
              0.2222222222222222,
              "#7201a8"
             ],
             [
              0.3333333333333333,
              "#9c179e"
             ],
             [
              0.4444444444444444,
              "#bd3786"
             ],
             [
              0.5555555555555556,
              "#d8576b"
             ],
             [
              0.6666666666666666,
              "#ed7953"
             ],
             [
              0.7777777777777778,
              "#fb9f3a"
             ],
             [
              0.8888888888888888,
              "#fdca26"
             ],
             [
              1,
              "#f0f921"
             ]
            ],
            "type": "surface"
           }
          ],
          "table": [
           {
            "cells": {
             "fill": {
              "color": "#EBF0F8"
             },
             "line": {
              "color": "white"
             }
            },
            "header": {
             "fill": {
              "color": "#C8D4E3"
             },
             "line": {
              "color": "white"
             }
            },
            "type": "table"
           }
          ]
         },
         "layout": {
          "annotationdefaults": {
           "arrowcolor": "#2a3f5f",
           "arrowhead": 0,
           "arrowwidth": 1
          },
          "autotypenumbers": "strict",
          "coloraxis": {
           "colorbar": {
            "outlinewidth": 0,
            "ticks": ""
           }
          },
          "colorscale": {
           "diverging": [
            [
             0,
             "#8e0152"
            ],
            [
             0.1,
             "#c51b7d"
            ],
            [
             0.2,
             "#de77ae"
            ],
            [
             0.3,
             "#f1b6da"
            ],
            [
             0.4,
             "#fde0ef"
            ],
            [
             0.5,
             "#f7f7f7"
            ],
            [
             0.6,
             "#e6f5d0"
            ],
            [
             0.7,
             "#b8e186"
            ],
            [
             0.8,
             "#7fbc41"
            ],
            [
             0.9,
             "#4d9221"
            ],
            [
             1,
             "#276419"
            ]
           ],
           "sequential": [
            [
             0,
             "#0d0887"
            ],
            [
             0.1111111111111111,
             "#46039f"
            ],
            [
             0.2222222222222222,
             "#7201a8"
            ],
            [
             0.3333333333333333,
             "#9c179e"
            ],
            [
             0.4444444444444444,
             "#bd3786"
            ],
            [
             0.5555555555555556,
             "#d8576b"
            ],
            [
             0.6666666666666666,
             "#ed7953"
            ],
            [
             0.7777777777777778,
             "#fb9f3a"
            ],
            [
             0.8888888888888888,
             "#fdca26"
            ],
            [
             1,
             "#f0f921"
            ]
           ],
           "sequentialminus": [
            [
             0,
             "#0d0887"
            ],
            [
             0.1111111111111111,
             "#46039f"
            ],
            [
             0.2222222222222222,
             "#7201a8"
            ],
            [
             0.3333333333333333,
             "#9c179e"
            ],
            [
             0.4444444444444444,
             "#bd3786"
            ],
            [
             0.5555555555555556,
             "#d8576b"
            ],
            [
             0.6666666666666666,
             "#ed7953"
            ],
            [
             0.7777777777777778,
             "#fb9f3a"
            ],
            [
             0.8888888888888888,
             "#fdca26"
            ],
            [
             1,
             "#f0f921"
            ]
           ]
          },
          "colorway": [
           "#636efa",
           "#EF553B",
           "#00cc96",
           "#ab63fa",
           "#FFA15A",
           "#19d3f3",
           "#FF6692",
           "#B6E880",
           "#FF97FF",
           "#FECB52"
          ],
          "font": {
           "color": "#2a3f5f"
          },
          "geo": {
           "bgcolor": "white",
           "lakecolor": "white",
           "landcolor": "#E5ECF6",
           "showlakes": true,
           "showland": true,
           "subunitcolor": "white"
          },
          "hoverlabel": {
           "align": "left"
          },
          "hovermode": "closest",
          "mapbox": {
           "style": "light"
          },
          "paper_bgcolor": "white",
          "plot_bgcolor": "#E5ECF6",
          "polar": {
           "angularaxis": {
            "gridcolor": "white",
            "linecolor": "white",
            "ticks": ""
           },
           "bgcolor": "#E5ECF6",
           "radialaxis": {
            "gridcolor": "white",
            "linecolor": "white",
            "ticks": ""
           }
          },
          "scene": {
           "xaxis": {
            "backgroundcolor": "#E5ECF6",
            "gridcolor": "white",
            "gridwidth": 2,
            "linecolor": "white",
            "showbackground": true,
            "ticks": "",
            "zerolinecolor": "white"
           },
           "yaxis": {
            "backgroundcolor": "#E5ECF6",
            "gridcolor": "white",
            "gridwidth": 2,
            "linecolor": "white",
            "showbackground": true,
            "ticks": "",
            "zerolinecolor": "white"
           },
           "zaxis": {
            "backgroundcolor": "#E5ECF6",
            "gridcolor": "white",
            "gridwidth": 2,
            "linecolor": "white",
            "showbackground": true,
            "ticks": "",
            "zerolinecolor": "white"
           }
          },
          "shapedefaults": {
           "line": {
            "color": "#2a3f5f"
           }
          },
          "ternary": {
           "aaxis": {
            "gridcolor": "white",
            "linecolor": "white",
            "ticks": ""
           },
           "baxis": {
            "gridcolor": "white",
            "linecolor": "white",
            "ticks": ""
           },
           "bgcolor": "#E5ECF6",
           "caxis": {
            "gridcolor": "white",
            "linecolor": "white",
            "ticks": ""
           }
          },
          "title": {
           "x": 0.05
          },
          "xaxis": {
           "automargin": true,
           "gridcolor": "white",
           "linecolor": "white",
           "ticks": "",
           "title": {
            "standoff": 15
           },
           "zerolinecolor": "white",
           "zerolinewidth": 2
          },
          "yaxis": {
           "automargin": true,
           "gridcolor": "white",
           "linecolor": "white",
           "ticks": "",
           "title": {
            "standoff": 15
           },
           "zerolinecolor": "white",
           "zerolinewidth": 2
          }
         }
        },
        "title": {
         "text": "Mean Temperature For Cities (Every Century)"
        },
        "width": 1500,
        "xaxis": {
         "rangeslider": {
          "visible": true
         },
         "title": {
          "text": "Cities"
         }
        },
        "yaxis": {
         "title": {
          "text": "Mean Temperature"
         }
        }
       }
      }
     },
     "metadata": {},
     "output_type": "display_data"
    }
   ],
   "source": [
    "fig = go.Figure()\n",
    "fig.add_trace(go.Scatter(y=century_temp_18['AverageTemperature'], x=century_temp_18.index,name='18th Century'))\n",
    "fig.add_trace(go.Scatter(y=century_temp_19['AverageTemperature'], x=century_temp_19.index, name='19th Century'))\n",
    "fig.add_trace(go.Scatter(y=century_temp_20['AverageTemperature'], x=century_temp_20.index, name='20th Century'))\n",
    "fig.update_xaxes(rangeslider_visible=True, title_text = 'Cities')\n",
    "fig.update_yaxes(title_text='Mean Temperature')\n",
    "fig.update_layout(title = 'Mean Temperature For Cities (Every Century)', height=800, width=1500)\n",
    "fig.show()"
   ]
  },
  {
   "cell_type": "code",
   "execution_count": 186,
   "metadata": {},
   "outputs": [
    {
     "data": {
      "application/vnd.plotly.v1+json": {
       "config": {
        "plotlyServerURL": "https://plot.ly"
       },
       "data": [
        {
         "name": "Temperature",
         "type": "scatter",
         "x": [
          "Aachen",
          "Augsburg",
          "Bergisch Gladbach",
          "Berlin",
          "Bielefeld",
          "Bochum",
          "Bonn",
          "Bottrop",
          "Bremen",
          "Bremerhaven",
          "Brunswick",
          "Chemnitz",
          "Cologne",
          "Cottbus",
          "Darmstadt",
          "Dortmund",
          "Dresden",
          "Duisburg",
          "Düsseldorf",
          "Erfurt",
          "Erlangen",
          "Essen",
          "Frankfurt",
          "Freiburg",
          "Fürth",
          "Gelsenkirchen",
          "Gera",
          "Göttingen",
          "Hagen",
          "Halle",
          "Hamburg",
          "Hamm",
          "Hanover",
          "Heidelberg",
          "Heilbronn",
          "Herne",
          "Hildesheim",
          "Ingolstadt",
          "Karlsruhe",
          "Kassel",
          "Kiel",
          "Koblenz",
          "Krefeld",
          "Leipzig",
          "Leverkusen",
          "Ludwigshafen",
          "Lübeck",
          "Magdeburg",
          "Mainz",
          "Mannheim",
          "Moers",
          "Munich",
          "Mönchengladbach",
          "Mülheim",
          "Münster",
          "Neuss",
          "Nuremberg",
          "Oberhausen",
          "Offenbach",
          "Oldenburg",
          "Osnabrück",
          "Paderborn",
          "Pforzheim",
          "Potsdam",
          "Ratisbon",
          "Recklinghausen",
          "Remscheid",
          "Reutlingen",
          "Rostock",
          "Saarbrücken",
          "Salzgitter",
          "Siegen",
          "Solingen",
          "Stuttgart",
          "Trier",
          "Ulm",
          "Wiesbaden",
          "Witten",
          "Wolfsburg",
          "Wuppertal",
          "Würzburg"
         ],
         "y": [
          1.5061237121212123,
          1.5426399242424242,
          1.5061237121212123,
          1.5579660606060592,
          1.5363269696969688,
          1.5363269696969688,
          1.5061237121212123,
          1.5363269696969688,
          1.560274166666666,
          1.560274166666666,
          1.548064393939395,
          1.59602553030303,
          1.5061237121212123,
          1.5579660606060592,
          1.5490155303030306,
          1.5363269696969688,
          1.59602553030303,
          1.5061237121212123,
          1.5061237121212123,
          1.5736871212121217,
          1.5505749242424223,
          1.5061237121212123,
          1.5490155303030306,
          1.5378874242424239,
          1.5505749242424223,
          1.5363269696969688,
          1.5736871212121217,
          1.548064393939395,
          1.5363269696969688,
          1.5736871212121217,
          1.560274166666666,
          1.5363269696969688,
          1.548064393939395,
          1.5505749242424223,
          1.5505749242424223,
          1.5363269696969688,
          1.548064393939395,
          1.574132803030305,
          1.5234696969696966,
          1.5490155303030306,
          1.560274166666666,
          1.5061237121212123,
          1.5061237121212123,
          1.5736871212121217,
          1.5061237121212123,
          1.5234696969696966,
          1.560274166666666,
          1.548064393939395,
          1.5490155303030306,
          1.5234696969696966,
          1.5061237121212123,
          1.5426399242424242,
          1.5061237121212123,
          1.5061237121212123,
          1.5363269696969688,
          1.5061237121212123,
          1.574132803030305,
          1.5061237121212123,
          1.5490155303030306,
          1.5363269696969688,
          1.5363269696969688,
          1.5363269696969688,
          1.5505749242424223,
          1.5579660606060592,
          1.574132803030305,
          1.5363269696969688,
          1.5061237121212123,
          1.5505749242424223,
          1.565347272727272,
          1.5234696969696966,
          1.548064393939395,
          1.5490155303030306,
          1.5061237121212123,
          1.5505749242424223,
          1.5234696969696966,
          1.5505749242424223,
          1.5490155303030306,
          1.5363269696969688,
          1.548064393939395,
          1.5061237121212123,
          1.5505749242424223
         ]
        }
       ],
       "layout": {
        "height": 800,
        "template": {
         "data": {
          "bar": [
           {
            "error_x": {
             "color": "#2a3f5f"
            },
            "error_y": {
             "color": "#2a3f5f"
            },
            "marker": {
             "line": {
              "color": "#E5ECF6",
              "width": 0.5
             },
             "pattern": {
              "fillmode": "overlay",
              "size": 10,
              "solidity": 0.2
             }
            },
            "type": "bar"
           }
          ],
          "barpolar": [
           {
            "marker": {
             "line": {
              "color": "#E5ECF6",
              "width": 0.5
             },
             "pattern": {
              "fillmode": "overlay",
              "size": 10,
              "solidity": 0.2
             }
            },
            "type": "barpolar"
           }
          ],
          "carpet": [
           {
            "aaxis": {
             "endlinecolor": "#2a3f5f",
             "gridcolor": "white",
             "linecolor": "white",
             "minorgridcolor": "white",
             "startlinecolor": "#2a3f5f"
            },
            "baxis": {
             "endlinecolor": "#2a3f5f",
             "gridcolor": "white",
             "linecolor": "white",
             "minorgridcolor": "white",
             "startlinecolor": "#2a3f5f"
            },
            "type": "carpet"
           }
          ],
          "choropleth": [
           {
            "colorbar": {
             "outlinewidth": 0,
             "ticks": ""
            },
            "type": "choropleth"
           }
          ],
          "contour": [
           {
            "colorbar": {
             "outlinewidth": 0,
             "ticks": ""
            },
            "colorscale": [
             [
              0,
              "#0d0887"
             ],
             [
              0.1111111111111111,
              "#46039f"
             ],
             [
              0.2222222222222222,
              "#7201a8"
             ],
             [
              0.3333333333333333,
              "#9c179e"
             ],
             [
              0.4444444444444444,
              "#bd3786"
             ],
             [
              0.5555555555555556,
              "#d8576b"
             ],
             [
              0.6666666666666666,
              "#ed7953"
             ],
             [
              0.7777777777777778,
              "#fb9f3a"
             ],
             [
              0.8888888888888888,
              "#fdca26"
             ],
             [
              1,
              "#f0f921"
             ]
            ],
            "type": "contour"
           }
          ],
          "contourcarpet": [
           {
            "colorbar": {
             "outlinewidth": 0,
             "ticks": ""
            },
            "type": "contourcarpet"
           }
          ],
          "heatmap": [
           {
            "colorbar": {
             "outlinewidth": 0,
             "ticks": ""
            },
            "colorscale": [
             [
              0,
              "#0d0887"
             ],
             [
              0.1111111111111111,
              "#46039f"
             ],
             [
              0.2222222222222222,
              "#7201a8"
             ],
             [
              0.3333333333333333,
              "#9c179e"
             ],
             [
              0.4444444444444444,
              "#bd3786"
             ],
             [
              0.5555555555555556,
              "#d8576b"
             ],
             [
              0.6666666666666666,
              "#ed7953"
             ],
             [
              0.7777777777777778,
              "#fb9f3a"
             ],
             [
              0.8888888888888888,
              "#fdca26"
             ],
             [
              1,
              "#f0f921"
             ]
            ],
            "type": "heatmap"
           }
          ],
          "heatmapgl": [
           {
            "colorbar": {
             "outlinewidth": 0,
             "ticks": ""
            },
            "colorscale": [
             [
              0,
              "#0d0887"
             ],
             [
              0.1111111111111111,
              "#46039f"
             ],
             [
              0.2222222222222222,
              "#7201a8"
             ],
             [
              0.3333333333333333,
              "#9c179e"
             ],
             [
              0.4444444444444444,
              "#bd3786"
             ],
             [
              0.5555555555555556,
              "#d8576b"
             ],
             [
              0.6666666666666666,
              "#ed7953"
             ],
             [
              0.7777777777777778,
              "#fb9f3a"
             ],
             [
              0.8888888888888888,
              "#fdca26"
             ],
             [
              1,
              "#f0f921"
             ]
            ],
            "type": "heatmapgl"
           }
          ],
          "histogram": [
           {
            "marker": {
             "pattern": {
              "fillmode": "overlay",
              "size": 10,
              "solidity": 0.2
             }
            },
            "type": "histogram"
           }
          ],
          "histogram2d": [
           {
            "colorbar": {
             "outlinewidth": 0,
             "ticks": ""
            },
            "colorscale": [
             [
              0,
              "#0d0887"
             ],
             [
              0.1111111111111111,
              "#46039f"
             ],
             [
              0.2222222222222222,
              "#7201a8"
             ],
             [
              0.3333333333333333,
              "#9c179e"
             ],
             [
              0.4444444444444444,
              "#bd3786"
             ],
             [
              0.5555555555555556,
              "#d8576b"
             ],
             [
              0.6666666666666666,
              "#ed7953"
             ],
             [
              0.7777777777777778,
              "#fb9f3a"
             ],
             [
              0.8888888888888888,
              "#fdca26"
             ],
             [
              1,
              "#f0f921"
             ]
            ],
            "type": "histogram2d"
           }
          ],
          "histogram2dcontour": [
           {
            "colorbar": {
             "outlinewidth": 0,
             "ticks": ""
            },
            "colorscale": [
             [
              0,
              "#0d0887"
             ],
             [
              0.1111111111111111,
              "#46039f"
             ],
             [
              0.2222222222222222,
              "#7201a8"
             ],
             [
              0.3333333333333333,
              "#9c179e"
             ],
             [
              0.4444444444444444,
              "#bd3786"
             ],
             [
              0.5555555555555556,
              "#d8576b"
             ],
             [
              0.6666666666666666,
              "#ed7953"
             ],
             [
              0.7777777777777778,
              "#fb9f3a"
             ],
             [
              0.8888888888888888,
              "#fdca26"
             ],
             [
              1,
              "#f0f921"
             ]
            ],
            "type": "histogram2dcontour"
           }
          ],
          "mesh3d": [
           {
            "colorbar": {
             "outlinewidth": 0,
             "ticks": ""
            },
            "type": "mesh3d"
           }
          ],
          "parcoords": [
           {
            "line": {
             "colorbar": {
              "outlinewidth": 0,
              "ticks": ""
             }
            },
            "type": "parcoords"
           }
          ],
          "pie": [
           {
            "automargin": true,
            "type": "pie"
           }
          ],
          "scatter": [
           {
            "fillpattern": {
             "fillmode": "overlay",
             "size": 10,
             "solidity": 0.2
            },
            "type": "scatter"
           }
          ],
          "scatter3d": [
           {
            "line": {
             "colorbar": {
              "outlinewidth": 0,
              "ticks": ""
             }
            },
            "marker": {
             "colorbar": {
              "outlinewidth": 0,
              "ticks": ""
             }
            },
            "type": "scatter3d"
           }
          ],
          "scattercarpet": [
           {
            "marker": {
             "colorbar": {
              "outlinewidth": 0,
              "ticks": ""
             }
            },
            "type": "scattercarpet"
           }
          ],
          "scattergeo": [
           {
            "marker": {
             "colorbar": {
              "outlinewidth": 0,
              "ticks": ""
             }
            },
            "type": "scattergeo"
           }
          ],
          "scattergl": [
           {
            "marker": {
             "colorbar": {
              "outlinewidth": 0,
              "ticks": ""
             }
            },
            "type": "scattergl"
           }
          ],
          "scattermapbox": [
           {
            "marker": {
             "colorbar": {
              "outlinewidth": 0,
              "ticks": ""
             }
            },
            "type": "scattermapbox"
           }
          ],
          "scatterpolar": [
           {
            "marker": {
             "colorbar": {
              "outlinewidth": 0,
              "ticks": ""
             }
            },
            "type": "scatterpolar"
           }
          ],
          "scatterpolargl": [
           {
            "marker": {
             "colorbar": {
              "outlinewidth": 0,
              "ticks": ""
             }
            },
            "type": "scatterpolargl"
           }
          ],
          "scatterternary": [
           {
            "marker": {
             "colorbar": {
              "outlinewidth": 0,
              "ticks": ""
             }
            },
            "type": "scatterternary"
           }
          ],
          "surface": [
           {
            "colorbar": {
             "outlinewidth": 0,
             "ticks": ""
            },
            "colorscale": [
             [
              0,
              "#0d0887"
             ],
             [
              0.1111111111111111,
              "#46039f"
             ],
             [
              0.2222222222222222,
              "#7201a8"
             ],
             [
              0.3333333333333333,
              "#9c179e"
             ],
             [
              0.4444444444444444,
              "#bd3786"
             ],
             [
              0.5555555555555556,
              "#d8576b"
             ],
             [
              0.6666666666666666,
              "#ed7953"
             ],
             [
              0.7777777777777778,
              "#fb9f3a"
             ],
             [
              0.8888888888888888,
              "#fdca26"
             ],
             [
              1,
              "#f0f921"
             ]
            ],
            "type": "surface"
           }
          ],
          "table": [
           {
            "cells": {
             "fill": {
              "color": "#EBF0F8"
             },
             "line": {
              "color": "white"
             }
            },
            "header": {
             "fill": {
              "color": "#C8D4E3"
             },
             "line": {
              "color": "white"
             }
            },
            "type": "table"
           }
          ]
         },
         "layout": {
          "annotationdefaults": {
           "arrowcolor": "#2a3f5f",
           "arrowhead": 0,
           "arrowwidth": 1
          },
          "autotypenumbers": "strict",
          "coloraxis": {
           "colorbar": {
            "outlinewidth": 0,
            "ticks": ""
           }
          },
          "colorscale": {
           "diverging": [
            [
             0,
             "#8e0152"
            ],
            [
             0.1,
             "#c51b7d"
            ],
            [
             0.2,
             "#de77ae"
            ],
            [
             0.3,
             "#f1b6da"
            ],
            [
             0.4,
             "#fde0ef"
            ],
            [
             0.5,
             "#f7f7f7"
            ],
            [
             0.6,
             "#e6f5d0"
            ],
            [
             0.7,
             "#b8e186"
            ],
            [
             0.8,
             "#7fbc41"
            ],
            [
             0.9,
             "#4d9221"
            ],
            [
             1,
             "#276419"
            ]
           ],
           "sequential": [
            [
             0,
             "#0d0887"
            ],
            [
             0.1111111111111111,
             "#46039f"
            ],
            [
             0.2222222222222222,
             "#7201a8"
            ],
            [
             0.3333333333333333,
             "#9c179e"
            ],
            [
             0.4444444444444444,
             "#bd3786"
            ],
            [
             0.5555555555555556,
             "#d8576b"
            ],
            [
             0.6666666666666666,
             "#ed7953"
            ],
            [
             0.7777777777777778,
             "#fb9f3a"
            ],
            [
             0.8888888888888888,
             "#fdca26"
            ],
            [
             1,
             "#f0f921"
            ]
           ],
           "sequentialminus": [
            [
             0,
             "#0d0887"
            ],
            [
             0.1111111111111111,
             "#46039f"
            ],
            [
             0.2222222222222222,
             "#7201a8"
            ],
            [
             0.3333333333333333,
             "#9c179e"
            ],
            [
             0.4444444444444444,
             "#bd3786"
            ],
            [
             0.5555555555555556,
             "#d8576b"
            ],
            [
             0.6666666666666666,
             "#ed7953"
            ],
            [
             0.7777777777777778,
             "#fb9f3a"
            ],
            [
             0.8888888888888888,
             "#fdca26"
            ],
            [
             1,
             "#f0f921"
            ]
           ]
          },
          "colorway": [
           "#636efa",
           "#EF553B",
           "#00cc96",
           "#ab63fa",
           "#FFA15A",
           "#19d3f3",
           "#FF6692",
           "#B6E880",
           "#FF97FF",
           "#FECB52"
          ],
          "font": {
           "color": "#2a3f5f"
          },
          "geo": {
           "bgcolor": "white",
           "lakecolor": "white",
           "landcolor": "#E5ECF6",
           "showlakes": true,
           "showland": true,
           "subunitcolor": "white"
          },
          "hoverlabel": {
           "align": "left"
          },
          "hovermode": "closest",
          "mapbox": {
           "style": "light"
          },
          "paper_bgcolor": "white",
          "plot_bgcolor": "#E5ECF6",
          "polar": {
           "angularaxis": {
            "gridcolor": "white",
            "linecolor": "white",
            "ticks": ""
           },
           "bgcolor": "#E5ECF6",
           "radialaxis": {
            "gridcolor": "white",
            "linecolor": "white",
            "ticks": ""
           }
          },
          "scene": {
           "xaxis": {
            "backgroundcolor": "#E5ECF6",
            "gridcolor": "white",
            "gridwidth": 2,
            "linecolor": "white",
            "showbackground": true,
            "ticks": "",
            "zerolinecolor": "white"
           },
           "yaxis": {
            "backgroundcolor": "#E5ECF6",
            "gridcolor": "white",
            "gridwidth": 2,
            "linecolor": "white",
            "showbackground": true,
            "ticks": "",
            "zerolinecolor": "white"
           },
           "zaxis": {
            "backgroundcolor": "#E5ECF6",
            "gridcolor": "white",
            "gridwidth": 2,
            "linecolor": "white",
            "showbackground": true,
            "ticks": "",
            "zerolinecolor": "white"
           }
          },
          "shapedefaults": {
           "line": {
            "color": "#2a3f5f"
           }
          },
          "ternary": {
           "aaxis": {
            "gridcolor": "white",
            "linecolor": "white",
            "ticks": ""
           },
           "baxis": {
            "gridcolor": "white",
            "linecolor": "white",
            "ticks": ""
           },
           "bgcolor": "#E5ECF6",
           "caxis": {
            "gridcolor": "white",
            "linecolor": "white",
            "ticks": ""
           }
          },
          "title": {
           "x": 0.05
          },
          "xaxis": {
           "automargin": true,
           "gridcolor": "white",
           "linecolor": "white",
           "ticks": "",
           "title": {
            "standoff": 15
           },
           "zerolinecolor": "white",
           "zerolinewidth": 2
          },
          "yaxis": {
           "automargin": true,
           "gridcolor": "white",
           "linecolor": "white",
           "ticks": "",
           "title": {
            "standoff": 15
           },
           "zerolinecolor": "white",
           "zerolinewidth": 2
          }
         }
        },
        "title": {
         "text": "Mean Temperature Increase from 18th to 20th Century (For Cities)"
        },
        "width": 1500,
        "xaxis": {
         "rangeslider": {
          "visible": true
         },
         "title": {
          "text": "Cities"
         }
        },
        "yaxis": {
         "title": {
          "text": "Mean Temperature"
         }
        }
       }
      }
     },
     "metadata": {},
     "output_type": "display_data"
    }
   ],
   "source": [
    "fig = go.Figure()\n",
    "fig.add_trace(go.Scatter(y=century_comb['Diff18_20'], x=century_comb.index,name='Temperature'))\n",
    "\n",
    "fig.update_xaxes(rangeslider_visible=True, title_text = 'Cities')\n",
    "fig.update_yaxes(title_text='Mean Temperature')\n",
    "fig.update_layout(title = 'Mean Temperature Increase from 18th to 20th Century (For Cities)', height=800, width=1500)\n",
    "fig.show()"
   ]
  },
  {
   "cell_type": "code",
   "execution_count": 187,
   "metadata": {},
   "outputs": [],
   "source": [
    "lat_lon = []\n",
    "geolocater = Nominatim(user_agent='app',timeout=4)\n",
    "for location in century_comb.index:\n",
    "  location = geolocater.geocode(location)\n",
    "  if location is None:\n",
    "    lat_lon.append(np.nan)\n",
    "  else:\n",
    "    geo = (location.latitude, location.longitude)\n",
    "    lat_lon.append(geo)\n",
    "\n",
    "century_comb['geo'] = lat_lon"
   ]
  },
  {
   "cell_type": "code",
   "execution_count": 188,
   "metadata": {},
   "outputs": [],
   "source": [
    "century_comb_copy = century_comb.copy()\n",
    "century_comb_copy.dropna(inplace=True)\n",
    "lat, lon = zip(*np.array(century_comb_copy['geo']))\n",
    "century_comb_copy['lat'] = lat\n",
    "century_comb_copy['lon'] = lon "
   ]
  },
  {
   "cell_type": "code",
   "execution_count": 189,
   "metadata": {},
   "outputs": [
    {
     "data": {
      "text/html": [
       "<div style=\"width:100%;\"><div style=\"position:relative;width:100%;height:0;padding-bottom:60%;\"><span style=\"color:#565656\">Make this Notebook Trusted to load map: File -> Trust Notebook</span><iframe srcdoc=\"&lt;!DOCTYPE html&gt;\n",
       "&lt;html&gt;\n",
       "&lt;head&gt;\n",
       "    \n",
       "    &lt;meta http-equiv=&quot;content-type&quot; content=&quot;text/html; charset=UTF-8&quot; /&gt;\n",
       "    \n",
       "        &lt;script&gt;\n",
       "            L_NO_TOUCH = false;\n",
       "            L_DISABLE_3D = false;\n",
       "        &lt;/script&gt;\n",
       "    \n",
       "    &lt;style&gt;html, body {width: 100%;height: 100%;margin: 0;padding: 0;}&lt;/style&gt;\n",
       "    &lt;style&gt;#map {position:absolute;top:0;bottom:0;right:0;left:0;}&lt;/style&gt;\n",
       "    &lt;script src=&quot;https://cdn.jsdelivr.net/npm/leaflet@1.9.3/dist/leaflet.js&quot;&gt;&lt;/script&gt;\n",
       "    &lt;script src=&quot;https://code.jquery.com/jquery-3.7.1.min.js&quot;&gt;&lt;/script&gt;\n",
       "    &lt;script src=&quot;https://cdn.jsdelivr.net/npm/bootstrap@5.2.2/dist/js/bootstrap.bundle.min.js&quot;&gt;&lt;/script&gt;\n",
       "    &lt;script src=&quot;https://cdnjs.cloudflare.com/ajax/libs/Leaflet.awesome-markers/2.0.2/leaflet.awesome-markers.js&quot;&gt;&lt;/script&gt;\n",
       "    &lt;link rel=&quot;stylesheet&quot; href=&quot;https://cdn.jsdelivr.net/npm/leaflet@1.9.3/dist/leaflet.css&quot;/&gt;\n",
       "    &lt;link rel=&quot;stylesheet&quot; href=&quot;https://cdn.jsdelivr.net/npm/bootstrap@5.2.2/dist/css/bootstrap.min.css&quot;/&gt;\n",
       "    &lt;link rel=&quot;stylesheet&quot; href=&quot;https://netdna.bootstrapcdn.com/bootstrap/3.0.0/css/bootstrap-glyphicons.css&quot;/&gt;\n",
       "    &lt;link rel=&quot;stylesheet&quot; href=&quot;https://cdn.jsdelivr.net/npm/@fortawesome/fontawesome-free@6.2.0/css/all.min.css&quot;/&gt;\n",
       "    &lt;link rel=&quot;stylesheet&quot; href=&quot;https://cdnjs.cloudflare.com/ajax/libs/Leaflet.awesome-markers/2.0.2/leaflet.awesome-markers.css&quot;/&gt;\n",
       "    &lt;link rel=&quot;stylesheet&quot; href=&quot;https://cdn.jsdelivr.net/gh/python-visualization/folium/folium/templates/leaflet.awesome.rotate.min.css&quot;/&gt;\n",
       "    \n",
       "            &lt;meta name=&quot;viewport&quot; content=&quot;width=device-width,\n",
       "                initial-scale=1.0, maximum-scale=1.0, user-scalable=no&quot; /&gt;\n",
       "            &lt;style&gt;\n",
       "                #map_9cebb18316d936c3f51080290e98012f {\n",
       "                    position: relative;\n",
       "                    width: 100.0%;\n",
       "                    height: 100.0%;\n",
       "                    left: 0.0%;\n",
       "                    top: 0.0%;\n",
       "                }\n",
       "                .leaflet-container { font-size: 1rem; }\n",
       "            &lt;/style&gt;\n",
       "        \n",
       "    &lt;script src=&quot;https://cdn.jsdelivr.net/gh/python-visualization/folium@main/folium/templates/leaflet_heat.min.js&quot;&gt;&lt;/script&gt;\n",
       "&lt;/head&gt;\n",
       "&lt;body&gt;\n",
       "    \n",
       "    \n",
       "&lt;div style=&quot;\n",
       "    position: fixed; \n",
       "    bottom: 50px; left: 50px; width: 300px; height: 180px; \n",
       "    background-color: white; \n",
       "    border:2px solid grey; \n",
       "    border-radius: 10px; \n",
       "    box-shadow: 2px 2px 5px grey;\n",
       "    padding: 10px;\n",
       "    font-size: 14px;\n",
       "    z-index:9999;\n",
       "&quot;&gt;\n",
       "&lt;b&gt;Temperature Trends:&lt;/b&gt;&lt;br&gt;\n",
       "&lt;span style=&quot;color:red; font-weight:bold;&quot;&gt;Red Areas:&lt;/span&gt; Significant temp increases over two centuries.&lt;br&gt;\n",
       "&lt;span style=&quot;color:orange; font-weight:bold;&quot;&gt;Yellow Areas:&lt;/span&gt; Moderate increases in temp.&lt;br&gt;\n",
       "&lt;span style=&quot;color:green; font-weight:bold;&quot;&gt;Green Areas:&lt;/span&gt; Moderate increases in temp.&lt;br&gt;\n",
       "&lt;span style=&quot;color:blue; font-weight:bold;&quot;&gt;Blue Areas:&lt;/span&gt; Lower temp increases, less impacted.&lt;br&gt;\n",
       "&lt;/div&gt;\n",
       "    \n",
       "            &lt;div class=&quot;folium-map&quot; id=&quot;map_9cebb18316d936c3f51080290e98012f&quot; &gt;&lt;/div&gt;\n",
       "        \n",
       "&lt;/body&gt;\n",
       "&lt;script&gt;\n",
       "    \n",
       "    \n",
       "            var map_9cebb18316d936c3f51080290e98012f = L.map(\n",
       "                &quot;map_9cebb18316d936c3f51080290e98012f&quot;,\n",
       "                {\n",
       "                    center: [20.5937, 78.9629],\n",
       "                    crs: L.CRS.EPSG3857,\n",
       "                    ...{\n",
       "  &quot;zoom&quot;: 5,\n",
       "  &quot;zoomControl&quot;: true,\n",
       "  &quot;preferCanvas&quot;: false,\n",
       "}\n",
       "\n",
       "                }\n",
       "            );\n",
       "            L.control.scale().addTo(map_9cebb18316d936c3f51080290e98012f);\n",
       "\n",
       "            \n",
       "\n",
       "        \n",
       "    \n",
       "            var tile_layer_d2fad912fd0aa130ec63fdbe33cf1f2b = L.tileLayer(\n",
       "                &quot;https://tile.openstreetmap.org/{z}/{x}/{y}.png&quot;,\n",
       "                {\n",
       "  &quot;minZoom&quot;: 0,\n",
       "  &quot;maxZoom&quot;: 19,\n",
       "  &quot;maxNativeZoom&quot;: 19,\n",
       "  &quot;noWrap&quot;: false,\n",
       "  &quot;attribution&quot;: &quot;\\u0026copy; \\u003ca href=\\&quot;https://www.openstreetmap.org/copyright\\&quot;\\u003eOpenStreetMap\\u003c/a\\u003e contributors&quot;,\n",
       "  &quot;subdomains&quot;: &quot;abc&quot;,\n",
       "  &quot;detectRetina&quot;: false,\n",
       "  &quot;tms&quot;: false,\n",
       "  &quot;opacity&quot;: 1,\n",
       "}\n",
       "\n",
       "            );\n",
       "        \n",
       "    \n",
       "            tile_layer_d2fad912fd0aa130ec63fdbe33cf1f2b.addTo(map_9cebb18316d936c3f51080290e98012f);\n",
       "        \n",
       "    \n",
       "            var heat_map_cc19f2041d05f380c3eea96823d47833 = L.heatLayer(\n",
       "                [[50.776351, 6.083862, 1.5061237121212123], [48.3690341, 10.8979522, 1.5426399242424242], [50.9929303, 7.1277379, 1.5061237121212123], [52.510885, 13.3989367, 1.5579660606060592], [52.0191005, 8.531007, 1.5363269696969688], [51.4818111, 7.2196635, 1.5363269696969688], [50.7352621, 7.1024635, 1.5061237121212123], [51.521581, 6.929204, 1.5363269696969688], [53.0758196, 8.8071646, 1.560274166666666], [53.5505392, 8.5851945, 1.560274166666666], [52.2646577, 10.5236066, 1.548064393939395], [50.8323531, 12.918914, 1.59602553030303], [43.7218277, 0.9774958, 1.5061237121212123], [51.7567447, 14.3357307, 1.5579660606060592], [49.8851869, 8.6736295, 1.5490155303030306], [51.5142273, 7.4652789, 1.5363269696969688], [51.0493286, 13.7381437, 1.59602553030303], [51.434999, 6.759562, 1.5061237121212123], [51.2254018, 6.7763137, 1.5061237121212123], [50.9777974, 11.0287364, 1.5736871212121217], [49.589157099999994, 10.98120719922546, 1.5505749242424223], [51.4582235, 7.0158171, 1.5061237121212123], [50.1106444, 8.6820917, 1.5490155303030306], [47.9960901, 7.8494005, 1.5378874242424239], [49.488571050000004, 10.95872031326412, 1.5505749242424223], [51.5110321, 7.0960124, 1.5363269696969688], [50.8765537, 12.0832666, 1.5736871212121217], [51.5328328, 9.9351811, 1.548064393939395], [51.3582945, 7.473296, 1.5363269696969688], [51.4825041, 11.9705452, 1.5736871212121217], [53.550341, 10.000654, 1.560274166666666], [51.681281, 7.8191185, 1.5363269696969688], [52.3744779, 9.7385532, 1.548064393939395], [49.4093582, 8.694724, 1.5505749242424223], [49.142291, 9.218655, 1.5505749242424223], [51.5380394, 7.219985, 1.5363269696969688], [52.1527188, 9.9518083, 1.548064393939395], [48.7630165, 11.4250395, 1.574132803030305], [49.0068705, 8.4034195, 1.5234696969696966], [51.3157833, 9.4978479, 1.5490155303030306], [54.3227085, 10.135555, 1.560274166666666], [50.3533278, 7.5943951, 1.5061237121212123], [51.3331205, 6.5623343, 1.5061237121212123], [51.3406321, 12.3747329, 1.5736871212121217], [51.0324743, 6.9881194, 1.5061237121212123], [49.4704113, 8.4381568, 1.5234696969696966], [53.866444, 10.684738, 1.560274166666666], [52.1315889, 11.6399609, 1.548064393939395], [49.9995205, 8.2736253, 1.5490155303030306], [49.4892913, 8.4673098, 1.5234696969696966], [51.451283, 6.62843, 1.5061237121212123], [48.1371079, 11.5753822, 1.5426399242424242], [51.1947131, 6.4353792, 1.5061237121212123], [51.4272925, 6.8829192, 1.5061237121212123], [51.9625101, 7.6251879, 1.5363269696969688], [51.1981778, 6.6916476, 1.5061237121212123], [49.453872, 11.077298, 1.574132803030305], [51.4696137, 6.8514435, 1.5061237121212123], [50.1055002, 8.7610698, 1.5490155303030306], [53.1389753, 8.2146017, 1.5363269696969688], [52.2719595, 8.047635, 1.5363269696969688], [51.7177044, 8.752653, 1.5363269696969688], [48.8908846, 8.7029532, 1.5505749242424223], [52.4009309, 13.0591397, 1.5579660606060592], [49.0195333, 12.0974869, 1.574132803030305], [51.6143815, 7.1978546, 1.5363269696969688], [51.1798706, 7.1943544, 1.5061237121212123], [48.4919508, 9.2114144, 1.5505749242424223], [54.0886707, 12.1400211, 1.565347272727272], [49.234362, 6.996379, 1.5234696969696966], [52.1503721, 10.3593147, 1.548064393939395], [50.8751175, 8.0256131, 1.5490155303030306], [51.1721629, 7.0845893, 1.5061237121212123], [48.7784485, 9.1800132, 1.5505749242424223], [49.7596208, 6.6441878, 1.5234696969696966], [48.3984968, 9.9912458, 1.5505749242424223], [50.0820384, 8.2416556, 1.5490155303030306], [51.4370171, 7.335124, 1.5363269696969688], [52.4205588, 10.7861682, 1.548064393939395], [51.264018, 7.1780374, 1.5061237121212123], [49.7933723, 9.9309779, 1.5505749242424223]],\n",
       "                {\n",
       "  &quot;minOpacity&quot;: 0.5,\n",
       "  &quot;maxZoom&quot;: 18,\n",
       "  &quot;radius&quot;: 15,\n",
       "  &quot;blur&quot;: 15,\n",
       "}\n",
       "            );\n",
       "        \n",
       "    \n",
       "            heat_map_cc19f2041d05f380c3eea96823d47833.addTo(map_9cebb18316d936c3f51080290e98012f);\n",
       "        \n",
       "&lt;/script&gt;\n",
       "&lt;/html&gt;\" style=\"position:absolute;width:100%;height:100%;left:0;top:0;border:none !important;\" allowfullscreen webkitallowfullscreen mozallowfullscreen></iframe></div></div>"
      ],
      "text/plain": [
       "<folium.folium.Map at 0x22d59226930>"
      ]
     },
     "execution_count": 189,
     "metadata": {},
     "output_type": "execute_result"
    }
   ],
   "source": [
    "#heatmap1\n",
    "import folium\n",
    "from folium.plugins import HeatMap\n",
    "from folium.map import LayerControl\n",
    "\n",
    "# Create the base map\n",
    "basemap = folium.Map(control_scale=True, zoom_start=5, location=(20.5937, 78.9629))\n",
    "\n",
    "# Add the heatmap\n",
    "HeatMap(century_comb_copy[['lat', 'lon', 'Diff18_20']].values.tolist(), radius=15).add_to(basemap)\n",
    "\n",
    "# Create an HTML legend\n",
    "legend_html = '''\n",
    "<div style=\"\n",
    "    position: fixed; \n",
    "    bottom: 50px; left: 50px; width: 300px; height: 180px; \n",
    "    background-color: white; \n",
    "    border:2px solid grey; \n",
    "    border-radius: 10px; \n",
    "    box-shadow: 2px 2px 5px grey;\n",
    "    padding: 10px;\n",
    "    font-size: 14px;\n",
    "    z-index:9999;\n",
    "\">\n",
    "<b>Temperature Trends:</b><br>\n",
    "<span style=\"color:red; font-weight:bold;\">Red Areas:</span> Significant temp increases over two centuries.<br>\n",
    "<span style=\"color:orange; font-weight:bold;\">Yellow Areas:</span> Moderate increases in temp.<br>\n",
    "<span style=\"color:green; font-weight:bold;\">Green Areas:</span> Moderate increases in temp.<br>\n",
    "<span style=\"color:blue; font-weight:bold;\">Blue Areas:</span> Lower temp increases, less impacted.<br>\n",
    "</div>\n",
    "'''\n",
    "\n",
    "# Add the legend to the map\n",
    "basemap.get_root().html.add_child(folium.Element(legend_html))\n",
    "\n",
    "# Show the map\n",
    "basemap\n"
   ]
  },
  {
   "cell_type": "markdown",
   "metadata": {},
   "source": [
    "Decade Analysis"
   ]
  },
  {
   "cell_type": "code",
   "execution_count": 190,
   "metadata": {},
   "outputs": [],
   "source": [
    "numeric_cols = ['AverageTemperature', 'AverageTemperatureUncertainty']  # Add more columns if necessary\n",
    "\n",
    "# Apply aggregation for the selected numeric columns\n",
    "decade_19_1 = data_ind[(data_ind['dt'] >= '1910-01-01') & (data_ind['dt'] < '1920-01-01')]\n",
    "decade_19_1 = decade_19_1.groupby('City')[numeric_cols].agg('mean')\n",
    "\n",
    "decade_19_2 = data_ind[(data_ind['dt'] >= '1920-01-01') & (data_ind['dt'] < '1930-01-01')]\n",
    "decade_19_2 = decade_19_2.groupby('City')[numeric_cols].agg('mean')\n",
    "\n",
    "decade_19_3 = data_ind[(data_ind['dt'] >= '1930-01-01') & (data_ind['dt'] < '1940-01-01')]\n",
    "decade_19_3 = decade_19_3.groupby('City')[numeric_cols].agg('mean')\n",
    "\n",
    "decade_19_4 = data_ind[(data_ind['dt'] >= '1940-01-01') & (data_ind['dt'] < '1950-01-01')]\n",
    "decade_19_4 = decade_19_4.groupby('City')[numeric_cols].agg('mean')\n",
    "\n",
    "decade_19_5 = data_ind[(data_ind['dt'] >= '1950-01-01') & (data_ind['dt'] < '1960-01-01')]\n",
    "decade_19_5 = decade_19_5.groupby('City')[numeric_cols].agg('mean')\n",
    "\n",
    "decade_19_6 = data_ind[(data_ind['dt'] >= '1960-01-01') & (data_ind['dt'] < '1970-01-01')]\n",
    "decade_19_6 = decade_19_6.groupby('City')[numeric_cols].agg('mean')\n",
    "\n",
    "decade_19_7 = data_ind[(data_ind['dt'] >= '1970-01-01') & (data_ind['dt'] < '1980-01-01')]\n",
    "decade_19_7 = decade_19_7.groupby('City')[numeric_cols].agg('mean')\n",
    "\n",
    "decade_19_8 = data_ind[(data_ind['dt'] >= '1980-01-01') & (data_ind['dt'] < '1990-01-01')]\n",
    "decade_19_8 = decade_19_8.groupby('City')[numeric_cols].agg('mean')\n",
    "\n",
    "decade_19_9 = data_ind[(data_ind['dt'] >= '1990-01-01') & (data_ind['dt'] < '2000-01-01')]\n",
    "decade_19_9 = decade_19_9.groupby('City')[numeric_cols].agg('mean')\n",
    "\n",
    "decade_20_1 = data_ind[(data_ind['dt'] >= '2000-01-01') & (data_ind['dt'] < '2010-01-01')]\n",
    "decade_20_1 = decade_20_1.groupby('City')[numeric_cols].agg('mean')\n",
    "\n",
    "decade_20_2 = data_ind[(data_ind['dt'] >= '2010-01-01') & (data_ind['dt'] < '2020-01-01')]\n",
    "decade_20_2 = decade_20_2.groupby('City')[numeric_cols].agg('mean')\n"
   ]
  },
  {
   "cell_type": "code",
   "execution_count": 191,
   "metadata": {},
   "outputs": [
    {
     "data": {
      "application/vnd.plotly.v1+json": {
       "config": {
        "plotlyServerURL": "https://plot.ly"
       },
       "data": [
        {
         "name": "1910",
         "type": "scatter",
         "x": [
          "Aachen",
          "Augsburg",
          "Bergisch Gladbach",
          "Berlin",
          "Bielefeld",
          "Bochum",
          "Bonn",
          "Bottrop",
          "Bremen",
          "Bremerhaven",
          "Brunswick",
          "Chemnitz",
          "Cologne",
          "Cottbus",
          "Darmstadt",
          "Dortmund",
          "Dresden",
          "Duisburg",
          "Düsseldorf",
          "Erfurt",
          "Erlangen",
          "Essen",
          "Frankfurt",
          "Freiburg",
          "Fürth",
          "Gelsenkirchen",
          "Gera",
          "Göttingen",
          "Hagen",
          "Halle",
          "Hamburg",
          "Hamm",
          "Hanover",
          "Heidelberg",
          "Heilbronn",
          "Herne",
          "Hildesheim",
          "Ingolstadt",
          "Karlsruhe",
          "Kassel",
          "Kiel",
          "Koblenz",
          "Krefeld",
          "Leipzig",
          "Leverkusen",
          "Ludwigshafen",
          "Lübeck",
          "Magdeburg",
          "Mainz",
          "Mannheim",
          "Moers",
          "Munich",
          "Mönchengladbach",
          "Mülheim",
          "Münster",
          "Neuss",
          "Nuremberg",
          "Oberhausen",
          "Offenbach",
          "Oldenburg",
          "Osnabrück",
          "Paderborn",
          "Pforzheim",
          "Potsdam",
          "Ratisbon",
          "Recklinghausen",
          "Remscheid",
          "Reutlingen",
          "Rostock",
          "Saarbrücken",
          "Salzgitter",
          "Siegen",
          "Solingen",
          "Stuttgart",
          "Trier",
          "Ulm",
          "Wiesbaden",
          "Witten",
          "Wolfsburg",
          "Wuppertal",
          "Würzburg"
         ],
         "y": [
          8.819066666666666,
          4.471408333333333,
          8.819066666666666,
          9.029191666666666,
          9.066158333333334,
          9.066158333333334,
          8.819066666666666,
          9.066158333333334,
          8.445208333333333,
          8.445208333333333,
          8.561516666666668,
          8.290358333333334,
          8.819066666666666,
          9.029191666666666,
          8.203425000000001,
          9.066158333333334,
          8.290358333333334,
          8.819066666666666,
          8.819066666666666,
          7.628516666666667,
          8.626416666666668,
          8.819066666666666,
          8.203425000000001,
          6.658083333333334,
          8.626416666666668,
          9.066158333333334,
          7.628516666666667,
          8.561516666666668,
          9.066158333333334,
          7.628516666666667,
          8.445208333333333,
          9.066158333333334,
          8.561516666666668,
          8.626416666666668,
          8.626416666666668,
          9.066158333333334,
          8.561516666666668,
          7.707066666666666,
          9.024708333333333,
          8.203425000000001,
          8.445208333333333,
          8.819066666666666,
          8.819066666666666,
          7.628516666666667,
          8.819066666666666,
          9.024708333333333,
          8.445208333333333,
          8.561516666666668,
          8.203425000000001,
          9.024708333333333,
          8.819066666666666,
          4.471408333333333,
          8.819066666666666,
          8.819066666666666,
          9.066158333333334,
          8.819066666666666,
          7.707066666666666,
          8.819066666666666,
          8.203425000000001,
          9.066158333333334,
          9.066158333333334,
          9.066158333333334,
          8.626416666666668,
          9.029191666666666,
          7.707066666666666,
          9.066158333333334,
          8.819066666666666,
          8.626416666666668,
          8.391258333333333,
          9.024708333333333,
          8.561516666666668,
          8.203425000000001,
          8.819066666666666,
          8.626416666666668,
          9.024708333333333,
          8.626416666666668,
          8.203425000000001,
          9.066158333333334,
          8.561516666666668,
          8.819066666666666,
          8.626416666666668
         ]
        },
        {
         "name": "1920",
         "type": "scatter",
         "x": [
          "Aachen",
          "Augsburg",
          "Bergisch Gladbach",
          "Berlin",
          "Bielefeld",
          "Bochum",
          "Bonn",
          "Bottrop",
          "Bremen",
          "Bremerhaven",
          "Brunswick",
          "Chemnitz",
          "Cologne",
          "Cottbus",
          "Darmstadt",
          "Dortmund",
          "Dresden",
          "Duisburg",
          "Düsseldorf",
          "Erfurt",
          "Erlangen",
          "Essen",
          "Frankfurt",
          "Freiburg",
          "Fürth",
          "Gelsenkirchen",
          "Gera",
          "Göttingen",
          "Hagen",
          "Halle",
          "Hamburg",
          "Hamm",
          "Hanover",
          "Heidelberg",
          "Heilbronn",
          "Herne",
          "Hildesheim",
          "Ingolstadt",
          "Karlsruhe",
          "Kassel",
          "Kiel",
          "Koblenz",
          "Krefeld",
          "Leipzig",
          "Leverkusen",
          "Ludwigshafen",
          "Lübeck",
          "Magdeburg",
          "Mainz",
          "Mannheim",
          "Moers",
          "Munich",
          "Mönchengladbach",
          "Mülheim",
          "Münster",
          "Neuss",
          "Nuremberg",
          "Oberhausen",
          "Offenbach",
          "Oldenburg",
          "Osnabrück",
          "Paderborn",
          "Pforzheim",
          "Potsdam",
          "Ratisbon",
          "Recklinghausen",
          "Remscheid",
          "Reutlingen",
          "Rostock",
          "Saarbrücken",
          "Salzgitter",
          "Siegen",
          "Solingen",
          "Stuttgart",
          "Trier",
          "Ulm",
          "Wiesbaden",
          "Witten",
          "Wolfsburg",
          "Wuppertal",
          "Würzburg"
         ],
         "y": [
          8.851275,
          4.740091666666667,
          8.851275,
          8.831641666666666,
          8.911366666666668,
          8.911366666666668,
          8.851275,
          8.911366666666668,
          8.203933333333334,
          8.203933333333334,
          8.354133333333333,
          8.179675,
          8.851275,
          8.831641666666666,
          8.126883333333334,
          8.911366666666668,
          8.179675,
          8.851275,
          8.851275,
          7.504466666666667,
          8.716441666666666,
          8.851275,
          8.126883333333334,
          6.980158333333334,
          8.716441666666666,
          8.911366666666668,
          7.504466666666667,
          8.354133333333333,
          8.911366666666668,
          7.504466666666667,
          8.203933333333334,
          8.911366666666668,
          8.354133333333333,
          8.716441666666666,
          8.716441666666666,
          8.911366666666668,
          8.354133333333333,
          7.7553,
          9.163091666666666,
          8.126883333333334,
          8.203933333333334,
          8.851275,
          8.851275,
          7.504466666666667,
          8.851275,
          9.163091666666666,
          8.203933333333334,
          8.354133333333333,
          8.126883333333334,
          9.163091666666666,
          8.851275,
          4.740091666666667,
          8.851275,
          8.851275,
          8.911366666666668,
          8.851275,
          7.7553,
          8.851275,
          8.126883333333334,
          8.911366666666668,
          8.911366666666668,
          8.911366666666668,
          8.716441666666666,
          8.831641666666666,
          7.7553,
          8.911366666666668,
          8.851275,
          8.716441666666666,
          8.135125,
          9.163091666666666,
          8.354133333333333,
          8.126883333333334,
          8.851275,
          8.716441666666666,
          9.163091666666666,
          8.716441666666666,
          8.126883333333334,
          8.911366666666668,
          8.354133333333333,
          8.851275,
          8.716441666666666
         ]
        },
        {
         "name": "1930",
         "type": "scatter",
         "x": [
          "Aachen",
          "Augsburg",
          "Bergisch Gladbach",
          "Berlin",
          "Bielefeld",
          "Bochum",
          "Bonn",
          "Bottrop",
          "Bremen",
          "Bremerhaven",
          "Brunswick",
          "Chemnitz",
          "Cologne",
          "Cottbus",
          "Darmstadt",
          "Dortmund",
          "Dresden",
          "Duisburg",
          "Düsseldorf",
          "Erfurt",
          "Erlangen",
          "Essen",
          "Frankfurt",
          "Freiburg",
          "Fürth",
          "Gelsenkirchen",
          "Gera",
          "Göttingen",
          "Hagen",
          "Halle",
          "Hamburg",
          "Hamm",
          "Hanover",
          "Heidelberg",
          "Heilbronn",
          "Herne",
          "Hildesheim",
          "Ingolstadt",
          "Karlsruhe",
          "Kassel",
          "Kiel",
          "Koblenz",
          "Krefeld",
          "Leipzig",
          "Leverkusen",
          "Ludwigshafen",
          "Lübeck",
          "Magdeburg",
          "Mainz",
          "Mannheim",
          "Moers",
          "Munich",
          "Mönchengladbach",
          "Mülheim",
          "Münster",
          "Neuss",
          "Nuremberg",
          "Oberhausen",
          "Offenbach",
          "Oldenburg",
          "Osnabrück",
          "Paderborn",
          "Pforzheim",
          "Potsdam",
          "Ratisbon",
          "Recklinghausen",
          "Remscheid",
          "Reutlingen",
          "Rostock",
          "Saarbrücken",
          "Salzgitter",
          "Siegen",
          "Solingen",
          "Stuttgart",
          "Trier",
          "Ulm",
          "Wiesbaden",
          "Witten",
          "Wolfsburg",
          "Wuppertal",
          "Würzburg"
         ],
         "y": [
          9.130358333333334,
          4.715941666666667,
          9.130358333333334,
          9.322366666666666,
          9.418241666666667,
          9.418241666666667,
          9.130358333333334,
          9.418241666666667,
          8.850175,
          8.850175,
          8.887533333333332,
          8.553516666666667,
          9.130358333333334,
          9.322366666666666,
          8.485841666666667,
          9.418241666666667,
          8.553516666666667,
          9.130358333333334,
          9.130358333333334,
          7.9004916666666665,
          8.8867,
          9.130358333333334,
          8.485841666666667,
          6.917591666666667,
          8.8867,
          9.418241666666667,
          7.9004916666666665,
          8.887533333333332,
          9.418241666666667,
          7.9004916666666665,
          8.850175,
          9.418241666666667,
          8.887533333333332,
          8.8867,
          8.8867,
          9.418241666666667,
          8.887533333333332,
          7.947575,
          9.281675,
          8.485841666666667,
          8.850175,
          9.130358333333334,
          9.130358333333334,
          7.9004916666666665,
          9.130358333333334,
          9.281675,
          8.850175,
          8.887533333333332,
          8.485841666666667,
          9.281675,
          9.130358333333334,
          4.715941666666667,
          9.130358333333334,
          9.130358333333334,
          9.418241666666667,
          9.130358333333334,
          7.947575,
          9.130358333333334,
          8.485841666666667,
          9.418241666666667,
          9.418241666666667,
          9.418241666666667,
          8.8867,
          9.322366666666666,
          7.947575,
          9.418241666666667,
          9.130358333333334,
          8.8867,
          8.802908333333333,
          9.281675,
          8.887533333333332,
          8.485841666666667,
          9.130358333333334,
          8.8867,
          9.281675,
          8.8867,
          8.485841666666667,
          9.418241666666667,
          8.887533333333332,
          9.130358333333334,
          8.8867
         ]
        },
        {
         "name": "1940",
         "type": "scatter",
         "x": [
          "Aachen",
          "Augsburg",
          "Bergisch Gladbach",
          "Berlin",
          "Bielefeld",
          "Bochum",
          "Bonn",
          "Bottrop",
          "Bremen",
          "Bremerhaven",
          "Brunswick",
          "Chemnitz",
          "Cologne",
          "Cottbus",
          "Darmstadt",
          "Dortmund",
          "Dresden",
          "Duisburg",
          "Düsseldorf",
          "Erfurt",
          "Erlangen",
          "Essen",
          "Frankfurt",
          "Freiburg",
          "Fürth",
          "Gelsenkirchen",
          "Gera",
          "Göttingen",
          "Hagen",
          "Halle",
          "Hamburg",
          "Hamm",
          "Hanover",
          "Heidelberg",
          "Heilbronn",
          "Herne",
          "Hildesheim",
          "Ingolstadt",
          "Karlsruhe",
          "Kassel",
          "Kiel",
          "Koblenz",
          "Krefeld",
          "Leipzig",
          "Leverkusen",
          "Ludwigshafen",
          "Lübeck",
          "Magdeburg",
          "Mainz",
          "Mannheim",
          "Moers",
          "Munich",
          "Mönchengladbach",
          "Mülheim",
          "Münster",
          "Neuss",
          "Nuremberg",
          "Oberhausen",
          "Offenbach",
          "Oldenburg",
          "Osnabrück",
          "Paderborn",
          "Pforzheim",
          "Potsdam",
          "Ratisbon",
          "Recklinghausen",
          "Remscheid",
          "Reutlingen",
          "Rostock",
          "Saarbrücken",
          "Salzgitter",
          "Siegen",
          "Solingen",
          "Stuttgart",
          "Trier",
          "Ulm",
          "Wiesbaden",
          "Witten",
          "Wolfsburg",
          "Wuppertal",
          "Würzburg"
         ],
         "y": [
          9.000041666666668,
          4.826508333333334,
          9.000041666666668,
          8.898583333333333,
          9.0738,
          9.0738,
          9.000041666666668,
          9.0738,
          8.37205,
          8.37205,
          8.478858333333333,
          8.201183333333335,
          9.000041666666668,
          8.898583333333333,
          8.256983333333332,
          9.0738,
          8.201183333333335,
          9.000041666666668,
          9.000041666666668,
          7.592958333333333,
          8.788825000000001,
          9.000041666666668,
          8.256983333333332,
          7.060566666666667,
          8.788825000000001,
          9.0738,
          7.592958333333333,
          8.478858333333333,
          9.0738,
          7.592958333333333,
          8.37205,
          9.0738,
          8.478858333333333,
          8.788825000000001,
          8.788825000000001,
          9.0738,
          8.478858333333333,
          7.804991666666667,
          9.262666666666666,
          8.256983333333332,
          8.37205,
          9.000041666666668,
          9.000041666666668,
          7.592958333333333,
          9.000041666666668,
          9.262666666666666,
          8.37205,
          8.478858333333333,
          8.256983333333332,
          9.262666666666666,
          9.000041666666668,
          4.826508333333334,
          9.000041666666668,
          9.000041666666668,
          9.0738,
          9.000041666666668,
          7.804991666666667,
          9.000041666666668,
          8.256983333333332,
          9.0738,
          9.0738,
          9.0738,
          8.788825000000001,
          8.898583333333333,
          7.804991666666667,
          9.0738,
          9.000041666666668,
          8.788825000000001,
          8.23935,
          9.262666666666666,
          8.478858333333333,
          8.256983333333332,
          9.000041666666668,
          8.788825000000001,
          9.262666666666666,
          8.788825000000001,
          8.256983333333332,
          9.0738,
          8.478858333333333,
          9.000041666666668,
          8.788825000000001
         ]
        },
        {
         "name": "1950",
         "type": "scatter",
         "x": [
          "Aachen",
          "Augsburg",
          "Bergisch Gladbach",
          "Berlin",
          "Bielefeld",
          "Bochum",
          "Bonn",
          "Bottrop",
          "Bremen",
          "Bremerhaven",
          "Brunswick",
          "Chemnitz",
          "Cologne",
          "Cottbus",
          "Darmstadt",
          "Dortmund",
          "Dresden",
          "Duisburg",
          "Düsseldorf",
          "Erfurt",
          "Erlangen",
          "Essen",
          "Frankfurt",
          "Freiburg",
          "Fürth",
          "Gelsenkirchen",
          "Gera",
          "Göttingen",
          "Hagen",
          "Halle",
          "Hamburg",
          "Hamm",
          "Hanover",
          "Heidelberg",
          "Heilbronn",
          "Herne",
          "Hildesheim",
          "Ingolstadt",
          "Karlsruhe",
          "Kassel",
          "Kiel",
          "Koblenz",
          "Krefeld",
          "Leipzig",
          "Leverkusen",
          "Ludwigshafen",
          "Lübeck",
          "Magdeburg",
          "Mainz",
          "Mannheim",
          "Moers",
          "Munich",
          "Mönchengladbach",
          "Mülheim",
          "Münster",
          "Neuss",
          "Nuremberg",
          "Oberhausen",
          "Offenbach",
          "Oldenburg",
          "Osnabrück",
          "Paderborn",
          "Pforzheim",
          "Potsdam",
          "Ratisbon",
          "Recklinghausen",
          "Remscheid",
          "Reutlingen",
          "Rostock",
          "Saarbrücken",
          "Salzgitter",
          "Siegen",
          "Solingen",
          "Stuttgart",
          "Trier",
          "Ulm",
          "Wiesbaden",
          "Witten",
          "Wolfsburg",
          "Wuppertal",
          "Würzburg"
         ],
         "y": [
          9.025525,
          4.840541666666667,
          9.025525,
          9.057075,
          9.178125,
          9.178125,
          9.025525,
          9.178125,
          8.4835,
          8.4835,
          8.619833333333332,
          8.395625,
          9.025525,
          9.057075,
          8.351408333333334,
          9.178125,
          8.395625,
          9.025525,
          9.025525,
          7.7292000000000005,
          8.830358333333333,
          9.025525,
          8.351408333333334,
          7.030308333333333,
          8.830358333333333,
          9.178125,
          7.7292000000000005,
          8.619833333333332,
          9.178125,
          7.7292000000000005,
          8.4835,
          9.178125,
          8.619833333333332,
          8.830358333333333,
          8.830358333333333,
          9.178125,
          8.619833333333332,
          7.873425,
          9.290141666666667,
          8.351408333333334,
          8.4835,
          9.025525,
          9.025525,
          7.7292000000000005,
          9.025525,
          9.290141666666667,
          8.4835,
          8.619833333333332,
          8.351408333333334,
          9.290141666666667,
          9.025525,
          4.840541666666667,
          9.025525,
          9.025525,
          9.178125,
          9.025525,
          7.873425,
          9.025525,
          8.351408333333334,
          9.178125,
          9.178125,
          9.178125,
          8.830358333333333,
          9.057075,
          7.873425,
          9.178125,
          9.025525,
          8.830358333333333,
          8.382741666666666,
          9.290141666666667,
          8.619833333333332,
          8.351408333333334,
          9.025525,
          8.830358333333333,
          9.290141666666667,
          8.830358333333333,
          8.351408333333334,
          9.178125,
          8.619833333333332,
          9.025525,
          8.830358333333333
         ]
        },
        {
         "name": "1960",
         "type": "scatter",
         "x": [
          "Aachen",
          "Augsburg",
          "Bergisch Gladbach",
          "Berlin",
          "Bielefeld",
          "Bochum",
          "Bonn",
          "Bottrop",
          "Bremen",
          "Bremerhaven",
          "Brunswick",
          "Chemnitz",
          "Cologne",
          "Cottbus",
          "Darmstadt",
          "Dortmund",
          "Dresden",
          "Duisburg",
          "Düsseldorf",
          "Erfurt",
          "Erlangen",
          "Essen",
          "Frankfurt",
          "Freiburg",
          "Fürth",
          "Gelsenkirchen",
          "Gera",
          "Göttingen",
          "Hagen",
          "Halle",
          "Hamburg",
          "Hamm",
          "Hanover",
          "Heidelberg",
          "Heilbronn",
          "Herne",
          "Hildesheim",
          "Ingolstadt",
          "Karlsruhe",
          "Kassel",
          "Kiel",
          "Koblenz",
          "Krefeld",
          "Leipzig",
          "Leverkusen",
          "Ludwigshafen",
          "Lübeck",
          "Magdeburg",
          "Mainz",
          "Mannheim",
          "Moers",
          "Munich",
          "Mönchengladbach",
          "Mülheim",
          "Münster",
          "Neuss",
          "Nuremberg",
          "Oberhausen",
          "Offenbach",
          "Oldenburg",
          "Osnabrück",
          "Paderborn",
          "Pforzheim",
          "Potsdam",
          "Ratisbon",
          "Recklinghausen",
          "Remscheid",
          "Reutlingen",
          "Rostock",
          "Saarbrücken",
          "Salzgitter",
          "Siegen",
          "Solingen",
          "Stuttgart",
          "Trier",
          "Ulm",
          "Wiesbaden",
          "Witten",
          "Wolfsburg",
          "Wuppertal",
          "Würzburg"
         ],
         "y": [
          8.841550000000002,
          4.713416666666666,
          8.841550000000002,
          8.958958333333333,
          8.996716666666666,
          8.996716666666666,
          8.841550000000002,
          8.996716666666666,
          8.330508333333333,
          8.330508333333333,
          8.49305,
          8.305108333333333,
          8.841550000000002,
          8.958958333333333,
          8.214541666666667,
          8.996716666666666,
          8.305108333333333,
          8.841550000000002,
          8.841550000000002,
          7.6404,
          8.744016666666665,
          8.841550000000002,
          8.214541666666667,
          6.923725,
          8.744016666666665,
          8.996716666666666,
          7.6404,
          8.49305,
          8.996716666666666,
          7.6404,
          8.330508333333333,
          8.996716666666666,
          8.49305,
          8.744016666666665,
          8.744016666666665,
          8.996716666666666,
          8.49305,
          7.81635,
          9.129850000000001,
          8.214541666666667,
          8.330508333333333,
          8.841550000000002,
          8.841550000000002,
          7.6404,
          8.841550000000002,
          9.129850000000001,
          8.330508333333333,
          8.49305,
          8.214541666666667,
          9.129850000000001,
          8.841550000000002,
          4.713416666666666,
          8.841550000000002,
          8.841550000000002,
          8.996716666666666,
          8.841550000000002,
          7.81635,
          8.841550000000002,
          8.214541666666667,
          8.996716666666666,
          8.996716666666666,
          8.996716666666666,
          8.744016666666665,
          8.958958333333333,
          7.81635,
          8.996716666666666,
          8.841550000000002,
          8.744016666666665,
          8.285266666666667,
          9.129850000000001,
          8.49305,
          8.214541666666667,
          8.841550000000002,
          8.744016666666665,
          9.129850000000001,
          8.744016666666665,
          8.214541666666667,
          8.996716666666666,
          8.49305,
          8.841550000000002,
          8.744016666666665
         ]
        },
        {
         "name": "1970",
         "type": "scatter",
         "x": [
          "Aachen",
          "Augsburg",
          "Bergisch Gladbach",
          "Berlin",
          "Bielefeld",
          "Bochum",
          "Bonn",
          "Bottrop",
          "Bremen",
          "Bremerhaven",
          "Brunswick",
          "Chemnitz",
          "Cologne",
          "Cottbus",
          "Darmstadt",
          "Dortmund",
          "Dresden",
          "Duisburg",
          "Düsseldorf",
          "Erfurt",
          "Erlangen",
          "Essen",
          "Frankfurt",
          "Freiburg",
          "Fürth",
          "Gelsenkirchen",
          "Gera",
          "Göttingen",
          "Hagen",
          "Halle",
          "Hamburg",
          "Hamm",
          "Hanover",
          "Heidelberg",
          "Heilbronn",
          "Herne",
          "Hildesheim",
          "Ingolstadt",
          "Karlsruhe",
          "Kassel",
          "Kiel",
          "Koblenz",
          "Krefeld",
          "Leipzig",
          "Leverkusen",
          "Ludwigshafen",
          "Lübeck",
          "Magdeburg",
          "Mainz",
          "Mannheim",
          "Moers",
          "Munich",
          "Mönchengladbach",
          "Mülheim",
          "Münster",
          "Neuss",
          "Nuremberg",
          "Oberhausen",
          "Offenbach",
          "Oldenburg",
          "Osnabrück",
          "Paderborn",
          "Pforzheim",
          "Potsdam",
          "Ratisbon",
          "Recklinghausen",
          "Remscheid",
          "Reutlingen",
          "Rostock",
          "Saarbrücken",
          "Salzgitter",
          "Siegen",
          "Solingen",
          "Stuttgart",
          "Trier",
          "Ulm",
          "Wiesbaden",
          "Witten",
          "Wolfsburg",
          "Wuppertal",
          "Würzburg"
         ],
         "y": [
          9.078525,
          4.840616666666667,
          9.078525,
          9.214599999999999,
          9.247483333333333,
          9.247483333333333,
          9.078525,
          9.247483333333333,
          8.613108333333335,
          8.613108333333335,
          8.747741666666666,
          8.532216666666667,
          9.078525,
          9.214599999999999,
          8.462975,
          9.247483333333333,
          8.532216666666667,
          9.078525,
          9.078525,
          7.863074999999999,
          8.919991666666666,
          9.078525,
          8.462975,
          6.993975000000001,
          8.919991666666666,
          9.247483333333333,
          7.863074999999999,
          8.747741666666666,
          9.247483333333333,
          7.863074999999999,
          8.613108333333335,
          9.247483333333333,
          8.747741666666666,
          8.919991666666666,
          8.919991666666666,
          9.247483333333333,
          8.747741666666666,
          8.05005,
          9.319825,
          8.462975,
          8.613108333333335,
          9.078525,
          9.078525,
          7.863074999999999,
          9.078525,
          9.319825,
          8.613108333333335,
          8.747741666666666,
          8.462975,
          9.319825,
          9.078525,
          4.840616666666667,
          9.078525,
          9.078525,
          9.247483333333333,
          9.078525,
          8.05005,
          9.078525,
          8.462975,
          9.247483333333333,
          9.247483333333333,
          9.247483333333333,
          8.919991666666666,
          9.214599999999999,
          8.05005,
          9.247483333333333,
          9.078525,
          8.919991666666666,
          8.563258333333332,
          9.319825,
          8.747741666666666,
          8.462975,
          9.078525,
          8.919991666666666,
          9.319825,
          8.919991666666666,
          8.462975,
          9.247483333333333,
          8.747741666666666,
          9.078525,
          8.919991666666666
         ]
        },
        {
         "name": "1980",
         "type": "scatter",
         "x": [
          "Aachen",
          "Augsburg",
          "Bergisch Gladbach",
          "Berlin",
          "Bielefeld",
          "Bochum",
          "Bonn",
          "Bottrop",
          "Bremen",
          "Bremerhaven",
          "Brunswick",
          "Chemnitz",
          "Cologne",
          "Cottbus",
          "Darmstadt",
          "Dortmund",
          "Dresden",
          "Duisburg",
          "Düsseldorf",
          "Erfurt",
          "Erlangen",
          "Essen",
          "Frankfurt",
          "Freiburg",
          "Fürth",
          "Gelsenkirchen",
          "Gera",
          "Göttingen",
          "Hagen",
          "Halle",
          "Hamburg",
          "Hamm",
          "Hanover",
          "Heidelberg",
          "Heilbronn",
          "Herne",
          "Hildesheim",
          "Ingolstadt",
          "Karlsruhe",
          "Kassel",
          "Kiel",
          "Koblenz",
          "Krefeld",
          "Leipzig",
          "Leverkusen",
          "Ludwigshafen",
          "Lübeck",
          "Magdeburg",
          "Mainz",
          "Mannheim",
          "Moers",
          "Munich",
          "Mönchengladbach",
          "Mülheim",
          "Münster",
          "Neuss",
          "Nuremberg",
          "Oberhausen",
          "Offenbach",
          "Oldenburg",
          "Osnabrück",
          "Paderborn",
          "Pforzheim",
          "Potsdam",
          "Ratisbon",
          "Recklinghausen",
          "Remscheid",
          "Reutlingen",
          "Rostock",
          "Saarbrücken",
          "Salzgitter",
          "Siegen",
          "Solingen",
          "Stuttgart",
          "Trier",
          "Ulm",
          "Wiesbaden",
          "Witten",
          "Wolfsburg",
          "Wuppertal",
          "Würzburg"
         ],
         "y": [
          9.118366666666667,
          5.014625,
          9.118366666666667,
          9.274858333333333,
          9.294558333333333,
          9.294558333333333,
          9.118366666666667,
          9.294558333333333,
          8.591583333333334,
          8.591583333333334,
          8.75615,
          8.546816666666667,
          9.118366666666667,
          9.274858333333333,
          8.4259,
          9.294558333333333,
          8.546816666666667,
          9.118366666666667,
          9.118366666666667,
          7.870291666666666,
          8.96035,
          9.118366666666667,
          8.4259,
          7.168966666666666,
          8.96035,
          9.294558333333333,
          7.870291666666666,
          8.75615,
          9.294558333333333,
          7.870291666666666,
          8.591583333333334,
          9.294558333333333,
          8.75615,
          8.96035,
          8.96035,
          9.294558333333333,
          8.75615,
          8.042508333333334,
          9.354166666666666,
          8.4259,
          8.591583333333334,
          9.118366666666667,
          9.118366666666667,
          7.870291666666666,
          9.118366666666667,
          9.354166666666666,
          8.591583333333334,
          8.75615,
          8.4259,
          9.354166666666666,
          9.118366666666667,
          5.014625,
          9.118366666666667,
          9.118366666666667,
          9.294558333333333,
          9.118366666666667,
          8.042508333333334,
          9.118366666666667,
          8.4259,
          9.294558333333333,
          9.294558333333333,
          9.294558333333333,
          8.96035,
          9.274858333333333,
          8.042508333333334,
          9.294558333333333,
          9.118366666666667,
          8.96035,
          8.577658333333334,
          9.354166666666666,
          8.75615,
          8.4259,
          9.118366666666667,
          8.96035,
          9.354166666666666,
          8.96035,
          8.4259,
          9.294558333333333,
          8.75615,
          9.118366666666667,
          8.96035
         ]
        },
        {
         "name": "1990",
         "type": "scatter",
         "x": [
          "Aachen",
          "Augsburg",
          "Bergisch Gladbach",
          "Berlin",
          "Bielefeld",
          "Bochum",
          "Bonn",
          "Bottrop",
          "Bremen",
          "Bremerhaven",
          "Brunswick",
          "Chemnitz",
          "Cologne",
          "Cottbus",
          "Darmstadt",
          "Dortmund",
          "Dresden",
          "Duisburg",
          "Düsseldorf",
          "Erfurt",
          "Erlangen",
          "Essen",
          "Frankfurt",
          "Freiburg",
          "Fürth",
          "Gelsenkirchen",
          "Gera",
          "Göttingen",
          "Hagen",
          "Halle",
          "Hamburg",
          "Hamm",
          "Hanover",
          "Heidelberg",
          "Heilbronn",
          "Herne",
          "Hildesheim",
          "Ingolstadt",
          "Karlsruhe",
          "Kassel",
          "Kiel",
          "Koblenz",
          "Krefeld",
          "Leipzig",
          "Leverkusen",
          "Ludwigshafen",
          "Lübeck",
          "Magdeburg",
          "Mainz",
          "Mannheim",
          "Moers",
          "Munich",
          "Mönchengladbach",
          "Mülheim",
          "Münster",
          "Neuss",
          "Nuremberg",
          "Oberhausen",
          "Offenbach",
          "Oldenburg",
          "Osnabrück",
          "Paderborn",
          "Pforzheim",
          "Potsdam",
          "Ratisbon",
          "Recklinghausen",
          "Remscheid",
          "Reutlingen",
          "Rostock",
          "Saarbrücken",
          "Salzgitter",
          "Siegen",
          "Solingen",
          "Stuttgart",
          "Trier",
          "Ulm",
          "Wiesbaden",
          "Witten",
          "Wolfsburg",
          "Wuppertal",
          "Würzburg"
         ],
         "y": [
          9.696024999999999,
          5.5556833333333335,
          9.696024999999999,
          9.8217,
          9.851875,
          9.851875,
          9.696024999999999,
          9.851875,
          9.219158333333333,
          9.219158333333333,
          9.32985,
          9.079008333333332,
          9.696024999999999,
          9.8217,
          9.044525,
          9.851875,
          9.079008333333332,
          9.696024999999999,
          9.696024999999999,
          8.454658333333333,
          9.592266666666665,
          9.696024999999999,
          9.044525,
          7.750941666666667,
          9.592266666666665,
          9.851875,
          8.454658333333333,
          9.32985,
          9.851875,
          8.454658333333333,
          9.219158333333333,
          9.851875,
          9.32985,
          9.592266666666665,
          9.592266666666665,
          9.851875,
          9.32985,
          8.639416666666667,
          9.995716666666668,
          9.044525,
          9.219158333333333,
          9.696024999999999,
          9.696024999999999,
          8.454658333333333,
          9.696024999999999,
          9.995716666666668,
          9.219158333333333,
          9.32985,
          9.044525,
          9.995716666666668,
          9.696024999999999,
          5.5556833333333335,
          9.696024999999999,
          9.696024999999999,
          9.851875,
          9.696024999999999,
          8.639416666666667,
          9.696024999999999,
          9.044525,
          9.851875,
          9.851875,
          9.851875,
          9.592266666666665,
          9.8217,
          8.639416666666667,
          9.851875,
          9.696024999999999,
          9.592266666666665,
          9.170958333333333,
          9.995716666666668,
          9.32985,
          9.044525,
          9.696024999999999,
          9.592266666666665,
          9.995716666666668,
          9.592266666666665,
          9.044525,
          9.851875,
          9.32985,
          9.696024999999999,
          9.592266666666665
         ]
        },
        {
         "name": "2000",
         "type": "scatter",
         "x": [
          "Aachen",
          "Augsburg",
          "Bergisch Gladbach",
          "Berlin",
          "Bielefeld",
          "Bochum",
          "Bonn",
          "Bottrop",
          "Bremen",
          "Bremerhaven",
          "Brunswick",
          "Chemnitz",
          "Cologne",
          "Cottbus",
          "Darmstadt",
          "Dortmund",
          "Dresden",
          "Duisburg",
          "Düsseldorf",
          "Erfurt",
          "Erlangen",
          "Essen",
          "Frankfurt",
          "Freiburg",
          "Fürth",
          "Gelsenkirchen",
          "Gera",
          "Göttingen",
          "Hagen",
          "Halle",
          "Hamburg",
          "Hamm",
          "Hanover",
          "Heidelberg",
          "Heilbronn",
          "Herne",
          "Hildesheim",
          "Ingolstadt",
          "Karlsruhe",
          "Kassel",
          "Kiel",
          "Koblenz",
          "Krefeld",
          "Leipzig",
          "Leverkusen",
          "Ludwigshafen",
          "Lübeck",
          "Magdeburg",
          "Mainz",
          "Mannheim",
          "Moers",
          "Munich",
          "Mönchengladbach",
          "Mülheim",
          "Münster",
          "Neuss",
          "Nuremberg",
          "Oberhausen",
          "Offenbach",
          "Oldenburg",
          "Osnabrück",
          "Paderborn",
          "Pforzheim",
          "Potsdam",
          "Ratisbon",
          "Recklinghausen",
          "Remscheid",
          "Reutlingen",
          "Rostock",
          "Saarbrücken",
          "Salzgitter",
          "Siegen",
          "Solingen",
          "Stuttgart",
          "Trier",
          "Ulm",
          "Wiesbaden",
          "Witten",
          "Wolfsburg",
          "Wuppertal",
          "Würzburg"
         ],
         "y": [
          10.158908333333333,
          5.880508333333334,
          10.158908333333333,
          10.28745,
          10.396016666666666,
          10.396016666666666,
          10.158908333333333,
          10.396016666666666,
          9.786633333333333,
          9.786633333333333,
          9.844491666666666,
          9.61065,
          10.158908333333333,
          10.28745,
          9.498875,
          10.396016666666666,
          9.61065,
          10.158908333333333,
          10.158908333333333,
          8.935058333333334,
          9.974275,
          10.158908333333333,
          9.498875,
          8.11525,
          9.974275,
          10.396016666666666,
          8.935058333333334,
          9.844491666666666,
          10.396016666666666,
          8.935058333333334,
          9.786633333333333,
          10.396016666666666,
          9.844491666666666,
          9.974275,
          9.974275,
          10.396016666666666,
          9.844491666666666,
          9.064458333333333,
          10.38585,
          9.498875,
          9.786633333333333,
          10.158908333333333,
          10.158908333333333,
          8.935058333333334,
          10.158908333333333,
          10.38585,
          9.786633333333333,
          9.844491666666666,
          9.498875,
          10.38585,
          10.158908333333333,
          5.880508333333334,
          10.158908333333333,
          10.158908333333333,
          10.396016666666666,
          10.158908333333333,
          9.064458333333333,
          10.158908333333333,
          9.498875,
          10.396016666666666,
          10.396016666666666,
          10.396016666666666,
          9.974275,
          10.28745,
          9.064458333333333,
          10.396016666666666,
          10.158908333333333,
          9.974275,
          9.682675,
          10.38585,
          9.844491666666666,
          9.498875,
          10.158908333333333,
          9.974275,
          10.38585,
          9.974275,
          9.498875,
          10.396016666666666,
          9.844491666666666,
          10.158908333333333,
          9.974275
         ]
        },
        {
         "name": "2010",
         "type": "scatter",
         "x": [
          "Aachen",
          "Augsburg",
          "Bergisch Gladbach",
          "Berlin",
          "Bielefeld",
          "Bochum",
          "Bonn",
          "Bottrop",
          "Bremen",
          "Bremerhaven",
          "Brunswick",
          "Chemnitz",
          "Cologne",
          "Cottbus",
          "Darmstadt",
          "Dortmund",
          "Dresden",
          "Duisburg",
          "Düsseldorf",
          "Erfurt",
          "Erlangen",
          "Essen",
          "Frankfurt",
          "Freiburg",
          "Fürth",
          "Gelsenkirchen",
          "Gera",
          "Göttingen",
          "Hagen",
          "Halle",
          "Hamburg",
          "Hamm",
          "Hanover",
          "Heidelberg",
          "Heilbronn",
          "Herne",
          "Hildesheim",
          "Ingolstadt",
          "Karlsruhe",
          "Kassel",
          "Kiel",
          "Koblenz",
          "Krefeld",
          "Leipzig",
          "Leverkusen",
          "Ludwigshafen",
          "Lübeck",
          "Magdeburg",
          "Mainz",
          "Mannheim",
          "Moers",
          "Munich",
          "Mönchengladbach",
          "Mülheim",
          "Münster",
          "Neuss",
          "Nuremberg",
          "Oberhausen",
          "Offenbach",
          "Oldenburg",
          "Osnabrück",
          "Paderborn",
          "Pforzheim",
          "Potsdam",
          "Ratisbon",
          "Recklinghausen",
          "Remscheid",
          "Reutlingen",
          "Rostock",
          "Saarbrücken",
          "Salzgitter",
          "Siegen",
          "Solingen",
          "Stuttgart",
          "Trier",
          "Ulm",
          "Wiesbaden",
          "Witten",
          "Wolfsburg",
          "Wuppertal",
          "Würzburg"
         ],
         "y": [
          9.772,
          5.9819555555555555,
          9.772,
          9.871733333333333,
          9.816,
          9.816,
          9.772,
          9.816,
          9.105977777777778,
          9.105977777777778,
          9.321555555555555,
          9.332666666666666,
          9.772,
          9.871733333333333,
          9.204422222222222,
          9.816,
          9.332666666666666,
          9.772,
          9.772,
          8.620533333333334,
          9.824555555555555,
          9.772,
          9.204422222222222,
          8.03748888888889,
          9.824555555555555,
          9.816,
          8.620533333333334,
          9.321555555555555,
          9.816,
          8.620533333333334,
          9.105977777777778,
          9.816,
          9.321555555555555,
          9.824555555555555,
          9.824555555555555,
          9.816,
          9.321555555555555,
          8.96951111111111,
          10.15308888888889,
          9.204422222222222,
          9.105977777777778,
          9.772,
          9.772,
          8.620533333333334,
          9.772,
          10.15308888888889,
          9.105977777777778,
          9.321555555555555,
          9.204422222222222,
          10.15308888888889,
          9.772,
          5.9819555555555555,
          9.772,
          9.772,
          9.816,
          9.772,
          8.96951111111111,
          9.772,
          9.204422222222222,
          9.816,
          9.816,
          9.816,
          9.824555555555555,
          9.871733333333333,
          8.96951111111111,
          9.816,
          9.772,
          9.824555555555555,
          9.128955555555555,
          10.15308888888889,
          9.321555555555555,
          9.204422222222222,
          9.772,
          9.824555555555555,
          10.15308888888889,
          9.824555555555555,
          9.204422222222222,
          9.816,
          9.321555555555555,
          9.772,
          9.824555555555555
         ]
        }
       ],
       "layout": {
        "template": {
         "data": {
          "bar": [
           {
            "error_x": {
             "color": "#2a3f5f"
            },
            "error_y": {
             "color": "#2a3f5f"
            },
            "marker": {
             "line": {
              "color": "#E5ECF6",
              "width": 0.5
             },
             "pattern": {
              "fillmode": "overlay",
              "size": 10,
              "solidity": 0.2
             }
            },
            "type": "bar"
           }
          ],
          "barpolar": [
           {
            "marker": {
             "line": {
              "color": "#E5ECF6",
              "width": 0.5
             },
             "pattern": {
              "fillmode": "overlay",
              "size": 10,
              "solidity": 0.2
             }
            },
            "type": "barpolar"
           }
          ],
          "carpet": [
           {
            "aaxis": {
             "endlinecolor": "#2a3f5f",
             "gridcolor": "white",
             "linecolor": "white",
             "minorgridcolor": "white",
             "startlinecolor": "#2a3f5f"
            },
            "baxis": {
             "endlinecolor": "#2a3f5f",
             "gridcolor": "white",
             "linecolor": "white",
             "minorgridcolor": "white",
             "startlinecolor": "#2a3f5f"
            },
            "type": "carpet"
           }
          ],
          "choropleth": [
           {
            "colorbar": {
             "outlinewidth": 0,
             "ticks": ""
            },
            "type": "choropleth"
           }
          ],
          "contour": [
           {
            "colorbar": {
             "outlinewidth": 0,
             "ticks": ""
            },
            "colorscale": [
             [
              0,
              "#0d0887"
             ],
             [
              0.1111111111111111,
              "#46039f"
             ],
             [
              0.2222222222222222,
              "#7201a8"
             ],
             [
              0.3333333333333333,
              "#9c179e"
             ],
             [
              0.4444444444444444,
              "#bd3786"
             ],
             [
              0.5555555555555556,
              "#d8576b"
             ],
             [
              0.6666666666666666,
              "#ed7953"
             ],
             [
              0.7777777777777778,
              "#fb9f3a"
             ],
             [
              0.8888888888888888,
              "#fdca26"
             ],
             [
              1,
              "#f0f921"
             ]
            ],
            "type": "contour"
           }
          ],
          "contourcarpet": [
           {
            "colorbar": {
             "outlinewidth": 0,
             "ticks": ""
            },
            "type": "contourcarpet"
           }
          ],
          "heatmap": [
           {
            "colorbar": {
             "outlinewidth": 0,
             "ticks": ""
            },
            "colorscale": [
             [
              0,
              "#0d0887"
             ],
             [
              0.1111111111111111,
              "#46039f"
             ],
             [
              0.2222222222222222,
              "#7201a8"
             ],
             [
              0.3333333333333333,
              "#9c179e"
             ],
             [
              0.4444444444444444,
              "#bd3786"
             ],
             [
              0.5555555555555556,
              "#d8576b"
             ],
             [
              0.6666666666666666,
              "#ed7953"
             ],
             [
              0.7777777777777778,
              "#fb9f3a"
             ],
             [
              0.8888888888888888,
              "#fdca26"
             ],
             [
              1,
              "#f0f921"
             ]
            ],
            "type": "heatmap"
           }
          ],
          "heatmapgl": [
           {
            "colorbar": {
             "outlinewidth": 0,
             "ticks": ""
            },
            "colorscale": [
             [
              0,
              "#0d0887"
             ],
             [
              0.1111111111111111,
              "#46039f"
             ],
             [
              0.2222222222222222,
              "#7201a8"
             ],
             [
              0.3333333333333333,
              "#9c179e"
             ],
             [
              0.4444444444444444,
              "#bd3786"
             ],
             [
              0.5555555555555556,
              "#d8576b"
             ],
             [
              0.6666666666666666,
              "#ed7953"
             ],
             [
              0.7777777777777778,
              "#fb9f3a"
             ],
             [
              0.8888888888888888,
              "#fdca26"
             ],
             [
              1,
              "#f0f921"
             ]
            ],
            "type": "heatmapgl"
           }
          ],
          "histogram": [
           {
            "marker": {
             "pattern": {
              "fillmode": "overlay",
              "size": 10,
              "solidity": 0.2
             }
            },
            "type": "histogram"
           }
          ],
          "histogram2d": [
           {
            "colorbar": {
             "outlinewidth": 0,
             "ticks": ""
            },
            "colorscale": [
             [
              0,
              "#0d0887"
             ],
             [
              0.1111111111111111,
              "#46039f"
             ],
             [
              0.2222222222222222,
              "#7201a8"
             ],
             [
              0.3333333333333333,
              "#9c179e"
             ],
             [
              0.4444444444444444,
              "#bd3786"
             ],
             [
              0.5555555555555556,
              "#d8576b"
             ],
             [
              0.6666666666666666,
              "#ed7953"
             ],
             [
              0.7777777777777778,
              "#fb9f3a"
             ],
             [
              0.8888888888888888,
              "#fdca26"
             ],
             [
              1,
              "#f0f921"
             ]
            ],
            "type": "histogram2d"
           }
          ],
          "histogram2dcontour": [
           {
            "colorbar": {
             "outlinewidth": 0,
             "ticks": ""
            },
            "colorscale": [
             [
              0,
              "#0d0887"
             ],
             [
              0.1111111111111111,
              "#46039f"
             ],
             [
              0.2222222222222222,
              "#7201a8"
             ],
             [
              0.3333333333333333,
              "#9c179e"
             ],
             [
              0.4444444444444444,
              "#bd3786"
             ],
             [
              0.5555555555555556,
              "#d8576b"
             ],
             [
              0.6666666666666666,
              "#ed7953"
             ],
             [
              0.7777777777777778,
              "#fb9f3a"
             ],
             [
              0.8888888888888888,
              "#fdca26"
             ],
             [
              1,
              "#f0f921"
             ]
            ],
            "type": "histogram2dcontour"
           }
          ],
          "mesh3d": [
           {
            "colorbar": {
             "outlinewidth": 0,
             "ticks": ""
            },
            "type": "mesh3d"
           }
          ],
          "parcoords": [
           {
            "line": {
             "colorbar": {
              "outlinewidth": 0,
              "ticks": ""
             }
            },
            "type": "parcoords"
           }
          ],
          "pie": [
           {
            "automargin": true,
            "type": "pie"
           }
          ],
          "scatter": [
           {
            "fillpattern": {
             "fillmode": "overlay",
             "size": 10,
             "solidity": 0.2
            },
            "type": "scatter"
           }
          ],
          "scatter3d": [
           {
            "line": {
             "colorbar": {
              "outlinewidth": 0,
              "ticks": ""
             }
            },
            "marker": {
             "colorbar": {
              "outlinewidth": 0,
              "ticks": ""
             }
            },
            "type": "scatter3d"
           }
          ],
          "scattercarpet": [
           {
            "marker": {
             "colorbar": {
              "outlinewidth": 0,
              "ticks": ""
             }
            },
            "type": "scattercarpet"
           }
          ],
          "scattergeo": [
           {
            "marker": {
             "colorbar": {
              "outlinewidth": 0,
              "ticks": ""
             }
            },
            "type": "scattergeo"
           }
          ],
          "scattergl": [
           {
            "marker": {
             "colorbar": {
              "outlinewidth": 0,
              "ticks": ""
             }
            },
            "type": "scattergl"
           }
          ],
          "scattermapbox": [
           {
            "marker": {
             "colorbar": {
              "outlinewidth": 0,
              "ticks": ""
             }
            },
            "type": "scattermapbox"
           }
          ],
          "scatterpolar": [
           {
            "marker": {
             "colorbar": {
              "outlinewidth": 0,
              "ticks": ""
             }
            },
            "type": "scatterpolar"
           }
          ],
          "scatterpolargl": [
           {
            "marker": {
             "colorbar": {
              "outlinewidth": 0,
              "ticks": ""
             }
            },
            "type": "scatterpolargl"
           }
          ],
          "scatterternary": [
           {
            "marker": {
             "colorbar": {
              "outlinewidth": 0,
              "ticks": ""
             }
            },
            "type": "scatterternary"
           }
          ],
          "surface": [
           {
            "colorbar": {
             "outlinewidth": 0,
             "ticks": ""
            },
            "colorscale": [
             [
              0,
              "#0d0887"
             ],
             [
              0.1111111111111111,
              "#46039f"
             ],
             [
              0.2222222222222222,
              "#7201a8"
             ],
             [
              0.3333333333333333,
              "#9c179e"
             ],
             [
              0.4444444444444444,
              "#bd3786"
             ],
             [
              0.5555555555555556,
              "#d8576b"
             ],
             [
              0.6666666666666666,
              "#ed7953"
             ],
             [
              0.7777777777777778,
              "#fb9f3a"
             ],
             [
              0.8888888888888888,
              "#fdca26"
             ],
             [
              1,
              "#f0f921"
             ]
            ],
            "type": "surface"
           }
          ],
          "table": [
           {
            "cells": {
             "fill": {
              "color": "#EBF0F8"
             },
             "line": {
              "color": "white"
             }
            },
            "header": {
             "fill": {
              "color": "#C8D4E3"
             },
             "line": {
              "color": "white"
             }
            },
            "type": "table"
           }
          ]
         },
         "layout": {
          "annotationdefaults": {
           "arrowcolor": "#2a3f5f",
           "arrowhead": 0,
           "arrowwidth": 1
          },
          "autotypenumbers": "strict",
          "coloraxis": {
           "colorbar": {
            "outlinewidth": 0,
            "ticks": ""
           }
          },
          "colorscale": {
           "diverging": [
            [
             0,
             "#8e0152"
            ],
            [
             0.1,
             "#c51b7d"
            ],
            [
             0.2,
             "#de77ae"
            ],
            [
             0.3,
             "#f1b6da"
            ],
            [
             0.4,
             "#fde0ef"
            ],
            [
             0.5,
             "#f7f7f7"
            ],
            [
             0.6,
             "#e6f5d0"
            ],
            [
             0.7,
             "#b8e186"
            ],
            [
             0.8,
             "#7fbc41"
            ],
            [
             0.9,
             "#4d9221"
            ],
            [
             1,
             "#276419"
            ]
           ],
           "sequential": [
            [
             0,
             "#0d0887"
            ],
            [
             0.1111111111111111,
             "#46039f"
            ],
            [
             0.2222222222222222,
             "#7201a8"
            ],
            [
             0.3333333333333333,
             "#9c179e"
            ],
            [
             0.4444444444444444,
             "#bd3786"
            ],
            [
             0.5555555555555556,
             "#d8576b"
            ],
            [
             0.6666666666666666,
             "#ed7953"
            ],
            [
             0.7777777777777778,
             "#fb9f3a"
            ],
            [
             0.8888888888888888,
             "#fdca26"
            ],
            [
             1,
             "#f0f921"
            ]
           ],
           "sequentialminus": [
            [
             0,
             "#0d0887"
            ],
            [
             0.1111111111111111,
             "#46039f"
            ],
            [
             0.2222222222222222,
             "#7201a8"
            ],
            [
             0.3333333333333333,
             "#9c179e"
            ],
            [
             0.4444444444444444,
             "#bd3786"
            ],
            [
             0.5555555555555556,
             "#d8576b"
            ],
            [
             0.6666666666666666,
             "#ed7953"
            ],
            [
             0.7777777777777778,
             "#fb9f3a"
            ],
            [
             0.8888888888888888,
             "#fdca26"
            ],
            [
             1,
             "#f0f921"
            ]
           ]
          },
          "colorway": [
           "#636efa",
           "#EF553B",
           "#00cc96",
           "#ab63fa",
           "#FFA15A",
           "#19d3f3",
           "#FF6692",
           "#B6E880",
           "#FF97FF",
           "#FECB52"
          ],
          "font": {
           "color": "#2a3f5f"
          },
          "geo": {
           "bgcolor": "white",
           "lakecolor": "white",
           "landcolor": "#E5ECF6",
           "showlakes": true,
           "showland": true,
           "subunitcolor": "white"
          },
          "hoverlabel": {
           "align": "left"
          },
          "hovermode": "closest",
          "mapbox": {
           "style": "light"
          },
          "paper_bgcolor": "white",
          "plot_bgcolor": "#E5ECF6",
          "polar": {
           "angularaxis": {
            "gridcolor": "white",
            "linecolor": "white",
            "ticks": ""
           },
           "bgcolor": "#E5ECF6",
           "radialaxis": {
            "gridcolor": "white",
            "linecolor": "white",
            "ticks": ""
           }
          },
          "scene": {
           "xaxis": {
            "backgroundcolor": "#E5ECF6",
            "gridcolor": "white",
            "gridwidth": 2,
            "linecolor": "white",
            "showbackground": true,
            "ticks": "",
            "zerolinecolor": "white"
           },
           "yaxis": {
            "backgroundcolor": "#E5ECF6",
            "gridcolor": "white",
            "gridwidth": 2,
            "linecolor": "white",
            "showbackground": true,
            "ticks": "",
            "zerolinecolor": "white"
           },
           "zaxis": {
            "backgroundcolor": "#E5ECF6",
            "gridcolor": "white",
            "gridwidth": 2,
            "linecolor": "white",
            "showbackground": true,
            "ticks": "",
            "zerolinecolor": "white"
           }
          },
          "shapedefaults": {
           "line": {
            "color": "#2a3f5f"
           }
          },
          "ternary": {
           "aaxis": {
            "gridcolor": "white",
            "linecolor": "white",
            "ticks": ""
           },
           "baxis": {
            "gridcolor": "white",
            "linecolor": "white",
            "ticks": ""
           },
           "bgcolor": "#E5ECF6",
           "caxis": {
            "gridcolor": "white",
            "linecolor": "white",
            "ticks": ""
           }
          },
          "title": {
           "x": 0.05
          },
          "xaxis": {
           "automargin": true,
           "gridcolor": "white",
           "linecolor": "white",
           "ticks": "",
           "title": {
            "standoff": 15
           },
           "zerolinecolor": "white",
           "zerolinewidth": 2
          },
          "yaxis": {
           "automargin": true,
           "gridcolor": "white",
           "linecolor": "white",
           "ticks": "",
           "title": {
            "standoff": 15
           },
           "zerolinecolor": "white",
           "zerolinewidth": 2
          }
         }
        }
       }
      }
     },
     "metadata": {},
     "output_type": "display_data"
    }
   ],
   "source": [
    "fig = go.Figure()\n",
    "fig.add_trace(go.Scatter(y=decade_19_1['AverageTemperature'], x=decade_19_1.index,name='1910'))\n",
    "fig.add_trace(go.Scatter(y=decade_19_2['AverageTemperature'], x=decade_19_2.index, name='1920'))\n",
    "fig.add_trace(go.Scatter(y=decade_19_3['AverageTemperature'], x=decade_19_3.index, name='1930'))\n",
    "fig.add_trace(go.Scatter(y=decade_19_4['AverageTemperature'], x=decade_19_4.index, name='1940'))\n",
    "fig.add_trace(go.Scatter(y=decade_19_5['AverageTemperature'], x=decade_19_5.index, name='1950'))\n",
    "fig.add_trace(go.Scatter(y=decade_19_6['AverageTemperature'], x=decade_19_6.index, name='1960'))\n",
    "fig.add_trace(go.Scatter(y=decade_19_7['AverageTemperature'], x=decade_19_7.index, name='1970'))\n",
    "fig.add_trace(go.Scatter(y=decade_19_8['AverageTemperature'], x=decade_19_8.index, name='1980'))\n",
    "fig.add_trace(go.Scatter(y=decade_19_9['AverageTemperature'], x=decade_19_9.index, name='1990'))\n",
    "fig.add_trace(go.Scatter(y=decade_20_1['AverageTemperature'], x=decade_20_1.index, name='2000'))\n",
    "fig.add_trace(go.Scatter(y=decade_20_2['AverageTemperature'], x=decade_20_2.index, name='2010'))\n",
    "\n"
   ]
  },
  {
   "cell_type": "code",
   "execution_count": 192,
   "metadata": {},
   "outputs": [
    {
     "data": {
      "application/vnd.plotly.v1+json": {
       "config": {
        "plotlyServerURL": "https://plot.ly"
       },
       "data": [
        {
         "name": "1910",
         "type": "scatter",
         "x": [
          "Aachen",
          "Augsburg",
          "Bergisch Gladbach",
          "Berlin",
          "Bielefeld",
          "Bochum",
          "Bonn",
          "Bottrop",
          "Bremen",
          "Bremerhaven",
          "Brunswick",
          "Chemnitz",
          "Cologne",
          "Cottbus",
          "Darmstadt",
          "Dortmund",
          "Dresden",
          "Duisburg",
          "Düsseldorf",
          "Erfurt",
          "Erlangen",
          "Essen",
          "Frankfurt",
          "Freiburg",
          "Fürth",
          "Gelsenkirchen",
          "Gera",
          "Göttingen",
          "Hagen",
          "Halle",
          "Hamburg",
          "Hamm",
          "Hanover",
          "Heidelberg",
          "Heilbronn",
          "Herne",
          "Hildesheim",
          "Ingolstadt",
          "Karlsruhe",
          "Kassel",
          "Kiel",
          "Koblenz",
          "Krefeld",
          "Leipzig",
          "Leverkusen",
          "Ludwigshafen",
          "Lübeck",
          "Magdeburg",
          "Mainz",
          "Mannheim",
          "Moers",
          "Munich",
          "Mönchengladbach",
          "Mülheim",
          "Münster",
          "Neuss",
          "Nuremberg",
          "Oberhausen",
          "Offenbach",
          "Oldenburg",
          "Osnabrück",
          "Paderborn",
          "Pforzheim",
          "Potsdam",
          "Ratisbon",
          "Recklinghausen",
          "Remscheid",
          "Reutlingen",
          "Rostock",
          "Saarbrücken",
          "Salzgitter",
          "Siegen",
          "Solingen",
          "Stuttgart",
          "Trier",
          "Ulm",
          "Wiesbaden",
          "Witten",
          "Wolfsburg",
          "Wuppertal",
          "Würzburg"
         ],
         "y": [
          8.819066666666666,
          4.471408333333333,
          8.819066666666666,
          9.029191666666666,
          9.066158333333334,
          9.066158333333334,
          8.819066666666666,
          9.066158333333334,
          8.445208333333333,
          8.445208333333333,
          8.561516666666668,
          8.290358333333334,
          8.819066666666666,
          9.029191666666666,
          8.203425000000001,
          9.066158333333334,
          8.290358333333334,
          8.819066666666666,
          8.819066666666666,
          7.628516666666667,
          8.626416666666668,
          8.819066666666666,
          8.203425000000001,
          6.658083333333334,
          8.626416666666668,
          9.066158333333334,
          7.628516666666667,
          8.561516666666668,
          9.066158333333334,
          7.628516666666667,
          8.445208333333333,
          9.066158333333334,
          8.561516666666668,
          8.626416666666668,
          8.626416666666668,
          9.066158333333334,
          8.561516666666668,
          7.707066666666666,
          9.024708333333333,
          8.203425000000001,
          8.445208333333333,
          8.819066666666666,
          8.819066666666666,
          7.628516666666667,
          8.819066666666666,
          9.024708333333333,
          8.445208333333333,
          8.561516666666668,
          8.203425000000001,
          9.024708333333333,
          8.819066666666666,
          4.471408333333333,
          8.819066666666666,
          8.819066666666666,
          9.066158333333334,
          8.819066666666666,
          7.707066666666666,
          8.819066666666666,
          8.203425000000001,
          9.066158333333334,
          9.066158333333334,
          9.066158333333334,
          8.626416666666668,
          9.029191666666666,
          7.707066666666666,
          9.066158333333334,
          8.819066666666666,
          8.626416666666668,
          8.391258333333333,
          9.024708333333333,
          8.561516666666668,
          8.203425000000001,
          8.819066666666666,
          8.626416666666668,
          9.024708333333333,
          8.626416666666668,
          8.203425000000001,
          9.066158333333334,
          8.561516666666668,
          8.819066666666666,
          8.626416666666668
         ]
        },
        {
         "name": "1920",
         "type": "scatter",
         "x": [
          "Aachen",
          "Augsburg",
          "Bergisch Gladbach",
          "Berlin",
          "Bielefeld",
          "Bochum",
          "Bonn",
          "Bottrop",
          "Bremen",
          "Bremerhaven",
          "Brunswick",
          "Chemnitz",
          "Cologne",
          "Cottbus",
          "Darmstadt",
          "Dortmund",
          "Dresden",
          "Duisburg",
          "Düsseldorf",
          "Erfurt",
          "Erlangen",
          "Essen",
          "Frankfurt",
          "Freiburg",
          "Fürth",
          "Gelsenkirchen",
          "Gera",
          "Göttingen",
          "Hagen",
          "Halle",
          "Hamburg",
          "Hamm",
          "Hanover",
          "Heidelberg",
          "Heilbronn",
          "Herne",
          "Hildesheim",
          "Ingolstadt",
          "Karlsruhe",
          "Kassel",
          "Kiel",
          "Koblenz",
          "Krefeld",
          "Leipzig",
          "Leverkusen",
          "Ludwigshafen",
          "Lübeck",
          "Magdeburg",
          "Mainz",
          "Mannheim",
          "Moers",
          "Munich",
          "Mönchengladbach",
          "Mülheim",
          "Münster",
          "Neuss",
          "Nuremberg",
          "Oberhausen",
          "Offenbach",
          "Oldenburg",
          "Osnabrück",
          "Paderborn",
          "Pforzheim",
          "Potsdam",
          "Ratisbon",
          "Recklinghausen",
          "Remscheid",
          "Reutlingen",
          "Rostock",
          "Saarbrücken",
          "Salzgitter",
          "Siegen",
          "Solingen",
          "Stuttgart",
          "Trier",
          "Ulm",
          "Wiesbaden",
          "Witten",
          "Wolfsburg",
          "Wuppertal",
          "Würzburg"
         ],
         "y": [
          8.851275,
          4.740091666666667,
          8.851275,
          8.831641666666666,
          8.911366666666668,
          8.911366666666668,
          8.851275,
          8.911366666666668,
          8.203933333333334,
          8.203933333333334,
          8.354133333333333,
          8.179675,
          8.851275,
          8.831641666666666,
          8.126883333333334,
          8.911366666666668,
          8.179675,
          8.851275,
          8.851275,
          7.504466666666667,
          8.716441666666666,
          8.851275,
          8.126883333333334,
          6.980158333333334,
          8.716441666666666,
          8.911366666666668,
          7.504466666666667,
          8.354133333333333,
          8.911366666666668,
          7.504466666666667,
          8.203933333333334,
          8.911366666666668,
          8.354133333333333,
          8.716441666666666,
          8.716441666666666,
          8.911366666666668,
          8.354133333333333,
          7.7553,
          9.163091666666666,
          8.126883333333334,
          8.203933333333334,
          8.851275,
          8.851275,
          7.504466666666667,
          8.851275,
          9.163091666666666,
          8.203933333333334,
          8.354133333333333,
          8.126883333333334,
          9.163091666666666,
          8.851275,
          4.740091666666667,
          8.851275,
          8.851275,
          8.911366666666668,
          8.851275,
          7.7553,
          8.851275,
          8.126883333333334,
          8.911366666666668,
          8.911366666666668,
          8.911366666666668,
          8.716441666666666,
          8.831641666666666,
          7.7553,
          8.911366666666668,
          8.851275,
          8.716441666666666,
          8.135125,
          9.163091666666666,
          8.354133333333333,
          8.126883333333334,
          8.851275,
          8.716441666666666,
          9.163091666666666,
          8.716441666666666,
          8.126883333333334,
          8.911366666666668,
          8.354133333333333,
          8.851275,
          8.716441666666666
         ]
        },
        {
         "name": "1930",
         "type": "scatter",
         "x": [
          "Aachen",
          "Augsburg",
          "Bergisch Gladbach",
          "Berlin",
          "Bielefeld",
          "Bochum",
          "Bonn",
          "Bottrop",
          "Bremen",
          "Bremerhaven",
          "Brunswick",
          "Chemnitz",
          "Cologne",
          "Cottbus",
          "Darmstadt",
          "Dortmund",
          "Dresden",
          "Duisburg",
          "Düsseldorf",
          "Erfurt",
          "Erlangen",
          "Essen",
          "Frankfurt",
          "Freiburg",
          "Fürth",
          "Gelsenkirchen",
          "Gera",
          "Göttingen",
          "Hagen",
          "Halle",
          "Hamburg",
          "Hamm",
          "Hanover",
          "Heidelberg",
          "Heilbronn",
          "Herne",
          "Hildesheim",
          "Ingolstadt",
          "Karlsruhe",
          "Kassel",
          "Kiel",
          "Koblenz",
          "Krefeld",
          "Leipzig",
          "Leverkusen",
          "Ludwigshafen",
          "Lübeck",
          "Magdeburg",
          "Mainz",
          "Mannheim",
          "Moers",
          "Munich",
          "Mönchengladbach",
          "Mülheim",
          "Münster",
          "Neuss",
          "Nuremberg",
          "Oberhausen",
          "Offenbach",
          "Oldenburg",
          "Osnabrück",
          "Paderborn",
          "Pforzheim",
          "Potsdam",
          "Ratisbon",
          "Recklinghausen",
          "Remscheid",
          "Reutlingen",
          "Rostock",
          "Saarbrücken",
          "Salzgitter",
          "Siegen",
          "Solingen",
          "Stuttgart",
          "Trier",
          "Ulm",
          "Wiesbaden",
          "Witten",
          "Wolfsburg",
          "Wuppertal",
          "Würzburg"
         ],
         "y": [
          9.130358333333334,
          4.715941666666667,
          9.130358333333334,
          9.322366666666666,
          9.418241666666667,
          9.418241666666667,
          9.130358333333334,
          9.418241666666667,
          8.850175,
          8.850175,
          8.887533333333332,
          8.553516666666667,
          9.130358333333334,
          9.322366666666666,
          8.485841666666667,
          9.418241666666667,
          8.553516666666667,
          9.130358333333334,
          9.130358333333334,
          7.9004916666666665,
          8.8867,
          9.130358333333334,
          8.485841666666667,
          6.917591666666667,
          8.8867,
          9.418241666666667,
          7.9004916666666665,
          8.887533333333332,
          9.418241666666667,
          7.9004916666666665,
          8.850175,
          9.418241666666667,
          8.887533333333332,
          8.8867,
          8.8867,
          9.418241666666667,
          8.887533333333332,
          7.947575,
          9.281675,
          8.485841666666667,
          8.850175,
          9.130358333333334,
          9.130358333333334,
          7.9004916666666665,
          9.130358333333334,
          9.281675,
          8.850175,
          8.887533333333332,
          8.485841666666667,
          9.281675,
          9.130358333333334,
          4.715941666666667,
          9.130358333333334,
          9.130358333333334,
          9.418241666666667,
          9.130358333333334,
          7.947575,
          9.130358333333334,
          8.485841666666667,
          9.418241666666667,
          9.418241666666667,
          9.418241666666667,
          8.8867,
          9.322366666666666,
          7.947575,
          9.418241666666667,
          9.130358333333334,
          8.8867,
          8.802908333333333,
          9.281675,
          8.887533333333332,
          8.485841666666667,
          9.130358333333334,
          8.8867,
          9.281675,
          8.8867,
          8.485841666666667,
          9.418241666666667,
          8.887533333333332,
          9.130358333333334,
          8.8867
         ]
        },
        {
         "name": "1940",
         "type": "scatter",
         "x": [
          "Aachen",
          "Augsburg",
          "Bergisch Gladbach",
          "Berlin",
          "Bielefeld",
          "Bochum",
          "Bonn",
          "Bottrop",
          "Bremen",
          "Bremerhaven",
          "Brunswick",
          "Chemnitz",
          "Cologne",
          "Cottbus",
          "Darmstadt",
          "Dortmund",
          "Dresden",
          "Duisburg",
          "Düsseldorf",
          "Erfurt",
          "Erlangen",
          "Essen",
          "Frankfurt",
          "Freiburg",
          "Fürth",
          "Gelsenkirchen",
          "Gera",
          "Göttingen",
          "Hagen",
          "Halle",
          "Hamburg",
          "Hamm",
          "Hanover",
          "Heidelberg",
          "Heilbronn",
          "Herne",
          "Hildesheim",
          "Ingolstadt",
          "Karlsruhe",
          "Kassel",
          "Kiel",
          "Koblenz",
          "Krefeld",
          "Leipzig",
          "Leverkusen",
          "Ludwigshafen",
          "Lübeck",
          "Magdeburg",
          "Mainz",
          "Mannheim",
          "Moers",
          "Munich",
          "Mönchengladbach",
          "Mülheim",
          "Münster",
          "Neuss",
          "Nuremberg",
          "Oberhausen",
          "Offenbach",
          "Oldenburg",
          "Osnabrück",
          "Paderborn",
          "Pforzheim",
          "Potsdam",
          "Ratisbon",
          "Recklinghausen",
          "Remscheid",
          "Reutlingen",
          "Rostock",
          "Saarbrücken",
          "Salzgitter",
          "Siegen",
          "Solingen",
          "Stuttgart",
          "Trier",
          "Ulm",
          "Wiesbaden",
          "Witten",
          "Wolfsburg",
          "Wuppertal",
          "Würzburg"
         ],
         "y": [
          9.000041666666668,
          4.826508333333334,
          9.000041666666668,
          8.898583333333333,
          9.0738,
          9.0738,
          9.000041666666668,
          9.0738,
          8.37205,
          8.37205,
          8.478858333333333,
          8.201183333333335,
          9.000041666666668,
          8.898583333333333,
          8.256983333333332,
          9.0738,
          8.201183333333335,
          9.000041666666668,
          9.000041666666668,
          7.592958333333333,
          8.788825000000001,
          9.000041666666668,
          8.256983333333332,
          7.060566666666667,
          8.788825000000001,
          9.0738,
          7.592958333333333,
          8.478858333333333,
          9.0738,
          7.592958333333333,
          8.37205,
          9.0738,
          8.478858333333333,
          8.788825000000001,
          8.788825000000001,
          9.0738,
          8.478858333333333,
          7.804991666666667,
          9.262666666666666,
          8.256983333333332,
          8.37205,
          9.000041666666668,
          9.000041666666668,
          7.592958333333333,
          9.000041666666668,
          9.262666666666666,
          8.37205,
          8.478858333333333,
          8.256983333333332,
          9.262666666666666,
          9.000041666666668,
          4.826508333333334,
          9.000041666666668,
          9.000041666666668,
          9.0738,
          9.000041666666668,
          7.804991666666667,
          9.000041666666668,
          8.256983333333332,
          9.0738,
          9.0738,
          9.0738,
          8.788825000000001,
          8.898583333333333,
          7.804991666666667,
          9.0738,
          9.000041666666668,
          8.788825000000001,
          8.23935,
          9.262666666666666,
          8.478858333333333,
          8.256983333333332,
          9.000041666666668,
          8.788825000000001,
          9.262666666666666,
          8.788825000000001,
          8.256983333333332,
          9.0738,
          8.478858333333333,
          9.000041666666668,
          8.788825000000001
         ]
        },
        {
         "name": "1950",
         "type": "scatter",
         "x": [
          "Aachen",
          "Augsburg",
          "Bergisch Gladbach",
          "Berlin",
          "Bielefeld",
          "Bochum",
          "Bonn",
          "Bottrop",
          "Bremen",
          "Bremerhaven",
          "Brunswick",
          "Chemnitz",
          "Cologne",
          "Cottbus",
          "Darmstadt",
          "Dortmund",
          "Dresden",
          "Duisburg",
          "Düsseldorf",
          "Erfurt",
          "Erlangen",
          "Essen",
          "Frankfurt",
          "Freiburg",
          "Fürth",
          "Gelsenkirchen",
          "Gera",
          "Göttingen",
          "Hagen",
          "Halle",
          "Hamburg",
          "Hamm",
          "Hanover",
          "Heidelberg",
          "Heilbronn",
          "Herne",
          "Hildesheim",
          "Ingolstadt",
          "Karlsruhe",
          "Kassel",
          "Kiel",
          "Koblenz",
          "Krefeld",
          "Leipzig",
          "Leverkusen",
          "Ludwigshafen",
          "Lübeck",
          "Magdeburg",
          "Mainz",
          "Mannheim",
          "Moers",
          "Munich",
          "Mönchengladbach",
          "Mülheim",
          "Münster",
          "Neuss",
          "Nuremberg",
          "Oberhausen",
          "Offenbach",
          "Oldenburg",
          "Osnabrück",
          "Paderborn",
          "Pforzheim",
          "Potsdam",
          "Ratisbon",
          "Recklinghausen",
          "Remscheid",
          "Reutlingen",
          "Rostock",
          "Saarbrücken",
          "Salzgitter",
          "Siegen",
          "Solingen",
          "Stuttgart",
          "Trier",
          "Ulm",
          "Wiesbaden",
          "Witten",
          "Wolfsburg",
          "Wuppertal",
          "Würzburg"
         ],
         "y": [
          9.025525,
          4.840541666666667,
          9.025525,
          9.057075,
          9.178125,
          9.178125,
          9.025525,
          9.178125,
          8.4835,
          8.4835,
          8.619833333333332,
          8.395625,
          9.025525,
          9.057075,
          8.351408333333334,
          9.178125,
          8.395625,
          9.025525,
          9.025525,
          7.7292000000000005,
          8.830358333333333,
          9.025525,
          8.351408333333334,
          7.030308333333333,
          8.830358333333333,
          9.178125,
          7.7292000000000005,
          8.619833333333332,
          9.178125,
          7.7292000000000005,
          8.4835,
          9.178125,
          8.619833333333332,
          8.830358333333333,
          8.830358333333333,
          9.178125,
          8.619833333333332,
          7.873425,
          9.290141666666667,
          8.351408333333334,
          8.4835,
          9.025525,
          9.025525,
          7.7292000000000005,
          9.025525,
          9.290141666666667,
          8.4835,
          8.619833333333332,
          8.351408333333334,
          9.290141666666667,
          9.025525,
          4.840541666666667,
          9.025525,
          9.025525,
          9.178125,
          9.025525,
          7.873425,
          9.025525,
          8.351408333333334,
          9.178125,
          9.178125,
          9.178125,
          8.830358333333333,
          9.057075,
          7.873425,
          9.178125,
          9.025525,
          8.830358333333333,
          8.382741666666666,
          9.290141666666667,
          8.619833333333332,
          8.351408333333334,
          9.025525,
          8.830358333333333,
          9.290141666666667,
          8.830358333333333,
          8.351408333333334,
          9.178125,
          8.619833333333332,
          9.025525,
          8.830358333333333
         ]
        },
        {
         "name": "1960",
         "type": "scatter",
         "x": [
          "Aachen",
          "Augsburg",
          "Bergisch Gladbach",
          "Berlin",
          "Bielefeld",
          "Bochum",
          "Bonn",
          "Bottrop",
          "Bremen",
          "Bremerhaven",
          "Brunswick",
          "Chemnitz",
          "Cologne",
          "Cottbus",
          "Darmstadt",
          "Dortmund",
          "Dresden",
          "Duisburg",
          "Düsseldorf",
          "Erfurt",
          "Erlangen",
          "Essen",
          "Frankfurt",
          "Freiburg",
          "Fürth",
          "Gelsenkirchen",
          "Gera",
          "Göttingen",
          "Hagen",
          "Halle",
          "Hamburg",
          "Hamm",
          "Hanover",
          "Heidelberg",
          "Heilbronn",
          "Herne",
          "Hildesheim",
          "Ingolstadt",
          "Karlsruhe",
          "Kassel",
          "Kiel",
          "Koblenz",
          "Krefeld",
          "Leipzig",
          "Leverkusen",
          "Ludwigshafen",
          "Lübeck",
          "Magdeburg",
          "Mainz",
          "Mannheim",
          "Moers",
          "Munich",
          "Mönchengladbach",
          "Mülheim",
          "Münster",
          "Neuss",
          "Nuremberg",
          "Oberhausen",
          "Offenbach",
          "Oldenburg",
          "Osnabrück",
          "Paderborn",
          "Pforzheim",
          "Potsdam",
          "Ratisbon",
          "Recklinghausen",
          "Remscheid",
          "Reutlingen",
          "Rostock",
          "Saarbrücken",
          "Salzgitter",
          "Siegen",
          "Solingen",
          "Stuttgart",
          "Trier",
          "Ulm",
          "Wiesbaden",
          "Witten",
          "Wolfsburg",
          "Wuppertal",
          "Würzburg"
         ],
         "y": [
          8.841550000000002,
          4.713416666666666,
          8.841550000000002,
          8.958958333333333,
          8.996716666666666,
          8.996716666666666,
          8.841550000000002,
          8.996716666666666,
          8.330508333333333,
          8.330508333333333,
          8.49305,
          8.305108333333333,
          8.841550000000002,
          8.958958333333333,
          8.214541666666667,
          8.996716666666666,
          8.305108333333333,
          8.841550000000002,
          8.841550000000002,
          7.6404,
          8.744016666666665,
          8.841550000000002,
          8.214541666666667,
          6.923725,
          8.744016666666665,
          8.996716666666666,
          7.6404,
          8.49305,
          8.996716666666666,
          7.6404,
          8.330508333333333,
          8.996716666666666,
          8.49305,
          8.744016666666665,
          8.744016666666665,
          8.996716666666666,
          8.49305,
          7.81635,
          9.129850000000001,
          8.214541666666667,
          8.330508333333333,
          8.841550000000002,
          8.841550000000002,
          7.6404,
          8.841550000000002,
          9.129850000000001,
          8.330508333333333,
          8.49305,
          8.214541666666667,
          9.129850000000001,
          8.841550000000002,
          4.713416666666666,
          8.841550000000002,
          8.841550000000002,
          8.996716666666666,
          8.841550000000002,
          7.81635,
          8.841550000000002,
          8.214541666666667,
          8.996716666666666,
          8.996716666666666,
          8.996716666666666,
          8.744016666666665,
          8.958958333333333,
          7.81635,
          8.996716666666666,
          8.841550000000002,
          8.744016666666665,
          8.285266666666667,
          9.129850000000001,
          8.49305,
          8.214541666666667,
          8.841550000000002,
          8.744016666666665,
          9.129850000000001,
          8.744016666666665,
          8.214541666666667,
          8.996716666666666,
          8.49305,
          8.841550000000002,
          8.744016666666665
         ]
        },
        {
         "name": "1970",
         "type": "scatter",
         "x": [
          "Aachen",
          "Augsburg",
          "Bergisch Gladbach",
          "Berlin",
          "Bielefeld",
          "Bochum",
          "Bonn",
          "Bottrop",
          "Bremen",
          "Bremerhaven",
          "Brunswick",
          "Chemnitz",
          "Cologne",
          "Cottbus",
          "Darmstadt",
          "Dortmund",
          "Dresden",
          "Duisburg",
          "Düsseldorf",
          "Erfurt",
          "Erlangen",
          "Essen",
          "Frankfurt",
          "Freiburg",
          "Fürth",
          "Gelsenkirchen",
          "Gera",
          "Göttingen",
          "Hagen",
          "Halle",
          "Hamburg",
          "Hamm",
          "Hanover",
          "Heidelberg",
          "Heilbronn",
          "Herne",
          "Hildesheim",
          "Ingolstadt",
          "Karlsruhe",
          "Kassel",
          "Kiel",
          "Koblenz",
          "Krefeld",
          "Leipzig",
          "Leverkusen",
          "Ludwigshafen",
          "Lübeck",
          "Magdeburg",
          "Mainz",
          "Mannheim",
          "Moers",
          "Munich",
          "Mönchengladbach",
          "Mülheim",
          "Münster",
          "Neuss",
          "Nuremberg",
          "Oberhausen",
          "Offenbach",
          "Oldenburg",
          "Osnabrück",
          "Paderborn",
          "Pforzheim",
          "Potsdam",
          "Ratisbon",
          "Recklinghausen",
          "Remscheid",
          "Reutlingen",
          "Rostock",
          "Saarbrücken",
          "Salzgitter",
          "Siegen",
          "Solingen",
          "Stuttgart",
          "Trier",
          "Ulm",
          "Wiesbaden",
          "Witten",
          "Wolfsburg",
          "Wuppertal",
          "Würzburg"
         ],
         "y": [
          9.078525,
          4.840616666666667,
          9.078525,
          9.214599999999999,
          9.247483333333333,
          9.247483333333333,
          9.078525,
          9.247483333333333,
          8.613108333333335,
          8.613108333333335,
          8.747741666666666,
          8.532216666666667,
          9.078525,
          9.214599999999999,
          8.462975,
          9.247483333333333,
          8.532216666666667,
          9.078525,
          9.078525,
          7.863074999999999,
          8.919991666666666,
          9.078525,
          8.462975,
          6.993975000000001,
          8.919991666666666,
          9.247483333333333,
          7.863074999999999,
          8.747741666666666,
          9.247483333333333,
          7.863074999999999,
          8.613108333333335,
          9.247483333333333,
          8.747741666666666,
          8.919991666666666,
          8.919991666666666,
          9.247483333333333,
          8.747741666666666,
          8.05005,
          9.319825,
          8.462975,
          8.613108333333335,
          9.078525,
          9.078525,
          7.863074999999999,
          9.078525,
          9.319825,
          8.613108333333335,
          8.747741666666666,
          8.462975,
          9.319825,
          9.078525,
          4.840616666666667,
          9.078525,
          9.078525,
          9.247483333333333,
          9.078525,
          8.05005,
          9.078525,
          8.462975,
          9.247483333333333,
          9.247483333333333,
          9.247483333333333,
          8.919991666666666,
          9.214599999999999,
          8.05005,
          9.247483333333333,
          9.078525,
          8.919991666666666,
          8.563258333333332,
          9.319825,
          8.747741666666666,
          8.462975,
          9.078525,
          8.919991666666666,
          9.319825,
          8.919991666666666,
          8.462975,
          9.247483333333333,
          8.747741666666666,
          9.078525,
          8.919991666666666
         ]
        },
        {
         "name": "1980",
         "type": "scatter",
         "x": [
          "Aachen",
          "Augsburg",
          "Bergisch Gladbach",
          "Berlin",
          "Bielefeld",
          "Bochum",
          "Bonn",
          "Bottrop",
          "Bremen",
          "Bremerhaven",
          "Brunswick",
          "Chemnitz",
          "Cologne",
          "Cottbus",
          "Darmstadt",
          "Dortmund",
          "Dresden",
          "Duisburg",
          "Düsseldorf",
          "Erfurt",
          "Erlangen",
          "Essen",
          "Frankfurt",
          "Freiburg",
          "Fürth",
          "Gelsenkirchen",
          "Gera",
          "Göttingen",
          "Hagen",
          "Halle",
          "Hamburg",
          "Hamm",
          "Hanover",
          "Heidelberg",
          "Heilbronn",
          "Herne",
          "Hildesheim",
          "Ingolstadt",
          "Karlsruhe",
          "Kassel",
          "Kiel",
          "Koblenz",
          "Krefeld",
          "Leipzig",
          "Leverkusen",
          "Ludwigshafen",
          "Lübeck",
          "Magdeburg",
          "Mainz",
          "Mannheim",
          "Moers",
          "Munich",
          "Mönchengladbach",
          "Mülheim",
          "Münster",
          "Neuss",
          "Nuremberg",
          "Oberhausen",
          "Offenbach",
          "Oldenburg",
          "Osnabrück",
          "Paderborn",
          "Pforzheim",
          "Potsdam",
          "Ratisbon",
          "Recklinghausen",
          "Remscheid",
          "Reutlingen",
          "Rostock",
          "Saarbrücken",
          "Salzgitter",
          "Siegen",
          "Solingen",
          "Stuttgart",
          "Trier",
          "Ulm",
          "Wiesbaden",
          "Witten",
          "Wolfsburg",
          "Wuppertal",
          "Würzburg"
         ],
         "y": [
          9.118366666666667,
          5.014625,
          9.118366666666667,
          9.274858333333333,
          9.294558333333333,
          9.294558333333333,
          9.118366666666667,
          9.294558333333333,
          8.591583333333334,
          8.591583333333334,
          8.75615,
          8.546816666666667,
          9.118366666666667,
          9.274858333333333,
          8.4259,
          9.294558333333333,
          8.546816666666667,
          9.118366666666667,
          9.118366666666667,
          7.870291666666666,
          8.96035,
          9.118366666666667,
          8.4259,
          7.168966666666666,
          8.96035,
          9.294558333333333,
          7.870291666666666,
          8.75615,
          9.294558333333333,
          7.870291666666666,
          8.591583333333334,
          9.294558333333333,
          8.75615,
          8.96035,
          8.96035,
          9.294558333333333,
          8.75615,
          8.042508333333334,
          9.354166666666666,
          8.4259,
          8.591583333333334,
          9.118366666666667,
          9.118366666666667,
          7.870291666666666,
          9.118366666666667,
          9.354166666666666,
          8.591583333333334,
          8.75615,
          8.4259,
          9.354166666666666,
          9.118366666666667,
          5.014625,
          9.118366666666667,
          9.118366666666667,
          9.294558333333333,
          9.118366666666667,
          8.042508333333334,
          9.118366666666667,
          8.4259,
          9.294558333333333,
          9.294558333333333,
          9.294558333333333,
          8.96035,
          9.274858333333333,
          8.042508333333334,
          9.294558333333333,
          9.118366666666667,
          8.96035,
          8.577658333333334,
          9.354166666666666,
          8.75615,
          8.4259,
          9.118366666666667,
          8.96035,
          9.354166666666666,
          8.96035,
          8.4259,
          9.294558333333333,
          8.75615,
          9.118366666666667,
          8.96035
         ]
        },
        {
         "name": "1990",
         "type": "scatter",
         "x": [
          "Aachen",
          "Augsburg",
          "Bergisch Gladbach",
          "Berlin",
          "Bielefeld",
          "Bochum",
          "Bonn",
          "Bottrop",
          "Bremen",
          "Bremerhaven",
          "Brunswick",
          "Chemnitz",
          "Cologne",
          "Cottbus",
          "Darmstadt",
          "Dortmund",
          "Dresden",
          "Duisburg",
          "Düsseldorf",
          "Erfurt",
          "Erlangen",
          "Essen",
          "Frankfurt",
          "Freiburg",
          "Fürth",
          "Gelsenkirchen",
          "Gera",
          "Göttingen",
          "Hagen",
          "Halle",
          "Hamburg",
          "Hamm",
          "Hanover",
          "Heidelberg",
          "Heilbronn",
          "Herne",
          "Hildesheim",
          "Ingolstadt",
          "Karlsruhe",
          "Kassel",
          "Kiel",
          "Koblenz",
          "Krefeld",
          "Leipzig",
          "Leverkusen",
          "Ludwigshafen",
          "Lübeck",
          "Magdeburg",
          "Mainz",
          "Mannheim",
          "Moers",
          "Munich",
          "Mönchengladbach",
          "Mülheim",
          "Münster",
          "Neuss",
          "Nuremberg",
          "Oberhausen",
          "Offenbach",
          "Oldenburg",
          "Osnabrück",
          "Paderborn",
          "Pforzheim",
          "Potsdam",
          "Ratisbon",
          "Recklinghausen",
          "Remscheid",
          "Reutlingen",
          "Rostock",
          "Saarbrücken",
          "Salzgitter",
          "Siegen",
          "Solingen",
          "Stuttgart",
          "Trier",
          "Ulm",
          "Wiesbaden",
          "Witten",
          "Wolfsburg",
          "Wuppertal",
          "Würzburg"
         ],
         "y": [
          9.696024999999999,
          5.5556833333333335,
          9.696024999999999,
          9.8217,
          9.851875,
          9.851875,
          9.696024999999999,
          9.851875,
          9.219158333333333,
          9.219158333333333,
          9.32985,
          9.079008333333332,
          9.696024999999999,
          9.8217,
          9.044525,
          9.851875,
          9.079008333333332,
          9.696024999999999,
          9.696024999999999,
          8.454658333333333,
          9.592266666666665,
          9.696024999999999,
          9.044525,
          7.750941666666667,
          9.592266666666665,
          9.851875,
          8.454658333333333,
          9.32985,
          9.851875,
          8.454658333333333,
          9.219158333333333,
          9.851875,
          9.32985,
          9.592266666666665,
          9.592266666666665,
          9.851875,
          9.32985,
          8.639416666666667,
          9.995716666666668,
          9.044525,
          9.219158333333333,
          9.696024999999999,
          9.696024999999999,
          8.454658333333333,
          9.696024999999999,
          9.995716666666668,
          9.219158333333333,
          9.32985,
          9.044525,
          9.995716666666668,
          9.696024999999999,
          5.5556833333333335,
          9.696024999999999,
          9.696024999999999,
          9.851875,
          9.696024999999999,
          8.639416666666667,
          9.696024999999999,
          9.044525,
          9.851875,
          9.851875,
          9.851875,
          9.592266666666665,
          9.8217,
          8.639416666666667,
          9.851875,
          9.696024999999999,
          9.592266666666665,
          9.170958333333333,
          9.995716666666668,
          9.32985,
          9.044525,
          9.696024999999999,
          9.592266666666665,
          9.995716666666668,
          9.592266666666665,
          9.044525,
          9.851875,
          9.32985,
          9.696024999999999,
          9.592266666666665
         ]
        },
        {
         "name": "2000",
         "type": "scatter",
         "x": [
          "Aachen",
          "Augsburg",
          "Bergisch Gladbach",
          "Berlin",
          "Bielefeld",
          "Bochum",
          "Bonn",
          "Bottrop",
          "Bremen",
          "Bremerhaven",
          "Brunswick",
          "Chemnitz",
          "Cologne",
          "Cottbus",
          "Darmstadt",
          "Dortmund",
          "Dresden",
          "Duisburg",
          "Düsseldorf",
          "Erfurt",
          "Erlangen",
          "Essen",
          "Frankfurt",
          "Freiburg",
          "Fürth",
          "Gelsenkirchen",
          "Gera",
          "Göttingen",
          "Hagen",
          "Halle",
          "Hamburg",
          "Hamm",
          "Hanover",
          "Heidelberg",
          "Heilbronn",
          "Herne",
          "Hildesheim",
          "Ingolstadt",
          "Karlsruhe",
          "Kassel",
          "Kiel",
          "Koblenz",
          "Krefeld",
          "Leipzig",
          "Leverkusen",
          "Ludwigshafen",
          "Lübeck",
          "Magdeburg",
          "Mainz",
          "Mannheim",
          "Moers",
          "Munich",
          "Mönchengladbach",
          "Mülheim",
          "Münster",
          "Neuss",
          "Nuremberg",
          "Oberhausen",
          "Offenbach",
          "Oldenburg",
          "Osnabrück",
          "Paderborn",
          "Pforzheim",
          "Potsdam",
          "Ratisbon",
          "Recklinghausen",
          "Remscheid",
          "Reutlingen",
          "Rostock",
          "Saarbrücken",
          "Salzgitter",
          "Siegen",
          "Solingen",
          "Stuttgart",
          "Trier",
          "Ulm",
          "Wiesbaden",
          "Witten",
          "Wolfsburg",
          "Wuppertal",
          "Würzburg"
         ],
         "y": [
          10.158908333333333,
          5.880508333333334,
          10.158908333333333,
          10.28745,
          10.396016666666666,
          10.396016666666666,
          10.158908333333333,
          10.396016666666666,
          9.786633333333333,
          9.786633333333333,
          9.844491666666666,
          9.61065,
          10.158908333333333,
          10.28745,
          9.498875,
          10.396016666666666,
          9.61065,
          10.158908333333333,
          10.158908333333333,
          8.935058333333334,
          9.974275,
          10.158908333333333,
          9.498875,
          8.11525,
          9.974275,
          10.396016666666666,
          8.935058333333334,
          9.844491666666666,
          10.396016666666666,
          8.935058333333334,
          9.786633333333333,
          10.396016666666666,
          9.844491666666666,
          9.974275,
          9.974275,
          10.396016666666666,
          9.844491666666666,
          9.064458333333333,
          10.38585,
          9.498875,
          9.786633333333333,
          10.158908333333333,
          10.158908333333333,
          8.935058333333334,
          10.158908333333333,
          10.38585,
          9.786633333333333,
          9.844491666666666,
          9.498875,
          10.38585,
          10.158908333333333,
          5.880508333333334,
          10.158908333333333,
          10.158908333333333,
          10.396016666666666,
          10.158908333333333,
          9.064458333333333,
          10.158908333333333,
          9.498875,
          10.396016666666666,
          10.396016666666666,
          10.396016666666666,
          9.974275,
          10.28745,
          9.064458333333333,
          10.396016666666666,
          10.158908333333333,
          9.974275,
          9.682675,
          10.38585,
          9.844491666666666,
          9.498875,
          10.158908333333333,
          9.974275,
          10.38585,
          9.974275,
          9.498875,
          10.396016666666666,
          9.844491666666666,
          10.158908333333333,
          9.974275
         ]
        },
        {
         "name": "2010",
         "type": "scatter",
         "x": [
          "Aachen",
          "Augsburg",
          "Bergisch Gladbach",
          "Berlin",
          "Bielefeld",
          "Bochum",
          "Bonn",
          "Bottrop",
          "Bremen",
          "Bremerhaven",
          "Brunswick",
          "Chemnitz",
          "Cologne",
          "Cottbus",
          "Darmstadt",
          "Dortmund",
          "Dresden",
          "Duisburg",
          "Düsseldorf",
          "Erfurt",
          "Erlangen",
          "Essen",
          "Frankfurt",
          "Freiburg",
          "Fürth",
          "Gelsenkirchen",
          "Gera",
          "Göttingen",
          "Hagen",
          "Halle",
          "Hamburg",
          "Hamm",
          "Hanover",
          "Heidelberg",
          "Heilbronn",
          "Herne",
          "Hildesheim",
          "Ingolstadt",
          "Karlsruhe",
          "Kassel",
          "Kiel",
          "Koblenz",
          "Krefeld",
          "Leipzig",
          "Leverkusen",
          "Ludwigshafen",
          "Lübeck",
          "Magdeburg",
          "Mainz",
          "Mannheim",
          "Moers",
          "Munich",
          "Mönchengladbach",
          "Mülheim",
          "Münster",
          "Neuss",
          "Nuremberg",
          "Oberhausen",
          "Offenbach",
          "Oldenburg",
          "Osnabrück",
          "Paderborn",
          "Pforzheim",
          "Potsdam",
          "Ratisbon",
          "Recklinghausen",
          "Remscheid",
          "Reutlingen",
          "Rostock",
          "Saarbrücken",
          "Salzgitter",
          "Siegen",
          "Solingen",
          "Stuttgart",
          "Trier",
          "Ulm",
          "Wiesbaden",
          "Witten",
          "Wolfsburg",
          "Wuppertal",
          "Würzburg"
         ],
         "y": [
          9.772,
          5.9819555555555555,
          9.772,
          9.871733333333333,
          9.816,
          9.816,
          9.772,
          9.816,
          9.105977777777778,
          9.105977777777778,
          9.321555555555555,
          9.332666666666666,
          9.772,
          9.871733333333333,
          9.204422222222222,
          9.816,
          9.332666666666666,
          9.772,
          9.772,
          8.620533333333334,
          9.824555555555555,
          9.772,
          9.204422222222222,
          8.03748888888889,
          9.824555555555555,
          9.816,
          8.620533333333334,
          9.321555555555555,
          9.816,
          8.620533333333334,
          9.105977777777778,
          9.816,
          9.321555555555555,
          9.824555555555555,
          9.824555555555555,
          9.816,
          9.321555555555555,
          8.96951111111111,
          10.15308888888889,
          9.204422222222222,
          9.105977777777778,
          9.772,
          9.772,
          8.620533333333334,
          9.772,
          10.15308888888889,
          9.105977777777778,
          9.321555555555555,
          9.204422222222222,
          10.15308888888889,
          9.772,
          5.9819555555555555,
          9.772,
          9.772,
          9.816,
          9.772,
          8.96951111111111,
          9.772,
          9.204422222222222,
          9.816,
          9.816,
          9.816,
          9.824555555555555,
          9.871733333333333,
          8.96951111111111,
          9.816,
          9.772,
          9.824555555555555,
          9.128955555555555,
          10.15308888888889,
          9.321555555555555,
          9.204422222222222,
          9.772,
          9.824555555555555,
          10.15308888888889,
          9.824555555555555,
          9.204422222222222,
          9.816,
          9.321555555555555,
          9.772,
          9.824555555555555
         ]
        }
       ],
       "layout": {
        "height": 800,
        "template": {
         "data": {
          "bar": [
           {
            "error_x": {
             "color": "#2a3f5f"
            },
            "error_y": {
             "color": "#2a3f5f"
            },
            "marker": {
             "line": {
              "color": "#E5ECF6",
              "width": 0.5
             },
             "pattern": {
              "fillmode": "overlay",
              "size": 10,
              "solidity": 0.2
             }
            },
            "type": "bar"
           }
          ],
          "barpolar": [
           {
            "marker": {
             "line": {
              "color": "#E5ECF6",
              "width": 0.5
             },
             "pattern": {
              "fillmode": "overlay",
              "size": 10,
              "solidity": 0.2
             }
            },
            "type": "barpolar"
           }
          ],
          "carpet": [
           {
            "aaxis": {
             "endlinecolor": "#2a3f5f",
             "gridcolor": "white",
             "linecolor": "white",
             "minorgridcolor": "white",
             "startlinecolor": "#2a3f5f"
            },
            "baxis": {
             "endlinecolor": "#2a3f5f",
             "gridcolor": "white",
             "linecolor": "white",
             "minorgridcolor": "white",
             "startlinecolor": "#2a3f5f"
            },
            "type": "carpet"
           }
          ],
          "choropleth": [
           {
            "colorbar": {
             "outlinewidth": 0,
             "ticks": ""
            },
            "type": "choropleth"
           }
          ],
          "contour": [
           {
            "colorbar": {
             "outlinewidth": 0,
             "ticks": ""
            },
            "colorscale": [
             [
              0,
              "#0d0887"
             ],
             [
              0.1111111111111111,
              "#46039f"
             ],
             [
              0.2222222222222222,
              "#7201a8"
             ],
             [
              0.3333333333333333,
              "#9c179e"
             ],
             [
              0.4444444444444444,
              "#bd3786"
             ],
             [
              0.5555555555555556,
              "#d8576b"
             ],
             [
              0.6666666666666666,
              "#ed7953"
             ],
             [
              0.7777777777777778,
              "#fb9f3a"
             ],
             [
              0.8888888888888888,
              "#fdca26"
             ],
             [
              1,
              "#f0f921"
             ]
            ],
            "type": "contour"
           }
          ],
          "contourcarpet": [
           {
            "colorbar": {
             "outlinewidth": 0,
             "ticks": ""
            },
            "type": "contourcarpet"
           }
          ],
          "heatmap": [
           {
            "colorbar": {
             "outlinewidth": 0,
             "ticks": ""
            },
            "colorscale": [
             [
              0,
              "#0d0887"
             ],
             [
              0.1111111111111111,
              "#46039f"
             ],
             [
              0.2222222222222222,
              "#7201a8"
             ],
             [
              0.3333333333333333,
              "#9c179e"
             ],
             [
              0.4444444444444444,
              "#bd3786"
             ],
             [
              0.5555555555555556,
              "#d8576b"
             ],
             [
              0.6666666666666666,
              "#ed7953"
             ],
             [
              0.7777777777777778,
              "#fb9f3a"
             ],
             [
              0.8888888888888888,
              "#fdca26"
             ],
             [
              1,
              "#f0f921"
             ]
            ],
            "type": "heatmap"
           }
          ],
          "heatmapgl": [
           {
            "colorbar": {
             "outlinewidth": 0,
             "ticks": ""
            },
            "colorscale": [
             [
              0,
              "#0d0887"
             ],
             [
              0.1111111111111111,
              "#46039f"
             ],
             [
              0.2222222222222222,
              "#7201a8"
             ],
             [
              0.3333333333333333,
              "#9c179e"
             ],
             [
              0.4444444444444444,
              "#bd3786"
             ],
             [
              0.5555555555555556,
              "#d8576b"
             ],
             [
              0.6666666666666666,
              "#ed7953"
             ],
             [
              0.7777777777777778,
              "#fb9f3a"
             ],
             [
              0.8888888888888888,
              "#fdca26"
             ],
             [
              1,
              "#f0f921"
             ]
            ],
            "type": "heatmapgl"
           }
          ],
          "histogram": [
           {
            "marker": {
             "pattern": {
              "fillmode": "overlay",
              "size": 10,
              "solidity": 0.2
             }
            },
            "type": "histogram"
           }
          ],
          "histogram2d": [
           {
            "colorbar": {
             "outlinewidth": 0,
             "ticks": ""
            },
            "colorscale": [
             [
              0,
              "#0d0887"
             ],
             [
              0.1111111111111111,
              "#46039f"
             ],
             [
              0.2222222222222222,
              "#7201a8"
             ],
             [
              0.3333333333333333,
              "#9c179e"
             ],
             [
              0.4444444444444444,
              "#bd3786"
             ],
             [
              0.5555555555555556,
              "#d8576b"
             ],
             [
              0.6666666666666666,
              "#ed7953"
             ],
             [
              0.7777777777777778,
              "#fb9f3a"
             ],
             [
              0.8888888888888888,
              "#fdca26"
             ],
             [
              1,
              "#f0f921"
             ]
            ],
            "type": "histogram2d"
           }
          ],
          "histogram2dcontour": [
           {
            "colorbar": {
             "outlinewidth": 0,
             "ticks": ""
            },
            "colorscale": [
             [
              0,
              "#0d0887"
             ],
             [
              0.1111111111111111,
              "#46039f"
             ],
             [
              0.2222222222222222,
              "#7201a8"
             ],
             [
              0.3333333333333333,
              "#9c179e"
             ],
             [
              0.4444444444444444,
              "#bd3786"
             ],
             [
              0.5555555555555556,
              "#d8576b"
             ],
             [
              0.6666666666666666,
              "#ed7953"
             ],
             [
              0.7777777777777778,
              "#fb9f3a"
             ],
             [
              0.8888888888888888,
              "#fdca26"
             ],
             [
              1,
              "#f0f921"
             ]
            ],
            "type": "histogram2dcontour"
           }
          ],
          "mesh3d": [
           {
            "colorbar": {
             "outlinewidth": 0,
             "ticks": ""
            },
            "type": "mesh3d"
           }
          ],
          "parcoords": [
           {
            "line": {
             "colorbar": {
              "outlinewidth": 0,
              "ticks": ""
             }
            },
            "type": "parcoords"
           }
          ],
          "pie": [
           {
            "automargin": true,
            "type": "pie"
           }
          ],
          "scatter": [
           {
            "fillpattern": {
             "fillmode": "overlay",
             "size": 10,
             "solidity": 0.2
            },
            "type": "scatter"
           }
          ],
          "scatter3d": [
           {
            "line": {
             "colorbar": {
              "outlinewidth": 0,
              "ticks": ""
             }
            },
            "marker": {
             "colorbar": {
              "outlinewidth": 0,
              "ticks": ""
             }
            },
            "type": "scatter3d"
           }
          ],
          "scattercarpet": [
           {
            "marker": {
             "colorbar": {
              "outlinewidth": 0,
              "ticks": ""
             }
            },
            "type": "scattercarpet"
           }
          ],
          "scattergeo": [
           {
            "marker": {
             "colorbar": {
              "outlinewidth": 0,
              "ticks": ""
             }
            },
            "type": "scattergeo"
           }
          ],
          "scattergl": [
           {
            "marker": {
             "colorbar": {
              "outlinewidth": 0,
              "ticks": ""
             }
            },
            "type": "scattergl"
           }
          ],
          "scattermapbox": [
           {
            "marker": {
             "colorbar": {
              "outlinewidth": 0,
              "ticks": ""
             }
            },
            "type": "scattermapbox"
           }
          ],
          "scatterpolar": [
           {
            "marker": {
             "colorbar": {
              "outlinewidth": 0,
              "ticks": ""
             }
            },
            "type": "scatterpolar"
           }
          ],
          "scatterpolargl": [
           {
            "marker": {
             "colorbar": {
              "outlinewidth": 0,
              "ticks": ""
             }
            },
            "type": "scatterpolargl"
           }
          ],
          "scatterternary": [
           {
            "marker": {
             "colorbar": {
              "outlinewidth": 0,
              "ticks": ""
             }
            },
            "type": "scatterternary"
           }
          ],
          "surface": [
           {
            "colorbar": {
             "outlinewidth": 0,
             "ticks": ""
            },
            "colorscale": [
             [
              0,
              "#0d0887"
             ],
             [
              0.1111111111111111,
              "#46039f"
             ],
             [
              0.2222222222222222,
              "#7201a8"
             ],
             [
              0.3333333333333333,
              "#9c179e"
             ],
             [
              0.4444444444444444,
              "#bd3786"
             ],
             [
              0.5555555555555556,
              "#d8576b"
             ],
             [
              0.6666666666666666,
              "#ed7953"
             ],
             [
              0.7777777777777778,
              "#fb9f3a"
             ],
             [
              0.8888888888888888,
              "#fdca26"
             ],
             [
              1,
              "#f0f921"
             ]
            ],
            "type": "surface"
           }
          ],
          "table": [
           {
            "cells": {
             "fill": {
              "color": "#EBF0F8"
             },
             "line": {
              "color": "white"
             }
            },
            "header": {
             "fill": {
              "color": "#C8D4E3"
             },
             "line": {
              "color": "white"
             }
            },
            "type": "table"
           }
          ]
         },
         "layout": {
          "annotationdefaults": {
           "arrowcolor": "#2a3f5f",
           "arrowhead": 0,
           "arrowwidth": 1
          },
          "autotypenumbers": "strict",
          "coloraxis": {
           "colorbar": {
            "outlinewidth": 0,
            "ticks": ""
           }
          },
          "colorscale": {
           "diverging": [
            [
             0,
             "#8e0152"
            ],
            [
             0.1,
             "#c51b7d"
            ],
            [
             0.2,
             "#de77ae"
            ],
            [
             0.3,
             "#f1b6da"
            ],
            [
             0.4,
             "#fde0ef"
            ],
            [
             0.5,
             "#f7f7f7"
            ],
            [
             0.6,
             "#e6f5d0"
            ],
            [
             0.7,
             "#b8e186"
            ],
            [
             0.8,
             "#7fbc41"
            ],
            [
             0.9,
             "#4d9221"
            ],
            [
             1,
             "#276419"
            ]
           ],
           "sequential": [
            [
             0,
             "#0d0887"
            ],
            [
             0.1111111111111111,
             "#46039f"
            ],
            [
             0.2222222222222222,
             "#7201a8"
            ],
            [
             0.3333333333333333,
             "#9c179e"
            ],
            [
             0.4444444444444444,
             "#bd3786"
            ],
            [
             0.5555555555555556,
             "#d8576b"
            ],
            [
             0.6666666666666666,
             "#ed7953"
            ],
            [
             0.7777777777777778,
             "#fb9f3a"
            ],
            [
             0.8888888888888888,
             "#fdca26"
            ],
            [
             1,
             "#f0f921"
            ]
           ],
           "sequentialminus": [
            [
             0,
             "#0d0887"
            ],
            [
             0.1111111111111111,
             "#46039f"
            ],
            [
             0.2222222222222222,
             "#7201a8"
            ],
            [
             0.3333333333333333,
             "#9c179e"
            ],
            [
             0.4444444444444444,
             "#bd3786"
            ],
            [
             0.5555555555555556,
             "#d8576b"
            ],
            [
             0.6666666666666666,
             "#ed7953"
            ],
            [
             0.7777777777777778,
             "#fb9f3a"
            ],
            [
             0.8888888888888888,
             "#fdca26"
            ],
            [
             1,
             "#f0f921"
            ]
           ]
          },
          "colorway": [
           "#636efa",
           "#EF553B",
           "#00cc96",
           "#ab63fa",
           "#FFA15A",
           "#19d3f3",
           "#FF6692",
           "#B6E880",
           "#FF97FF",
           "#FECB52"
          ],
          "font": {
           "color": "#2a3f5f"
          },
          "geo": {
           "bgcolor": "white",
           "lakecolor": "white",
           "landcolor": "#E5ECF6",
           "showlakes": true,
           "showland": true,
           "subunitcolor": "white"
          },
          "hoverlabel": {
           "align": "left"
          },
          "hovermode": "closest",
          "mapbox": {
           "style": "light"
          },
          "paper_bgcolor": "white",
          "plot_bgcolor": "#E5ECF6",
          "polar": {
           "angularaxis": {
            "gridcolor": "white",
            "linecolor": "white",
            "ticks": ""
           },
           "bgcolor": "#E5ECF6",
           "radialaxis": {
            "gridcolor": "white",
            "linecolor": "white",
            "ticks": ""
           }
          },
          "scene": {
           "xaxis": {
            "backgroundcolor": "#E5ECF6",
            "gridcolor": "white",
            "gridwidth": 2,
            "linecolor": "white",
            "showbackground": true,
            "ticks": "",
            "zerolinecolor": "white"
           },
           "yaxis": {
            "backgroundcolor": "#E5ECF6",
            "gridcolor": "white",
            "gridwidth": 2,
            "linecolor": "white",
            "showbackground": true,
            "ticks": "",
            "zerolinecolor": "white"
           },
           "zaxis": {
            "backgroundcolor": "#E5ECF6",
            "gridcolor": "white",
            "gridwidth": 2,
            "linecolor": "white",
            "showbackground": true,
            "ticks": "",
            "zerolinecolor": "white"
           }
          },
          "shapedefaults": {
           "line": {
            "color": "#2a3f5f"
           }
          },
          "ternary": {
           "aaxis": {
            "gridcolor": "white",
            "linecolor": "white",
            "ticks": ""
           },
           "baxis": {
            "gridcolor": "white",
            "linecolor": "white",
            "ticks": ""
           },
           "bgcolor": "#E5ECF6",
           "caxis": {
            "gridcolor": "white",
            "linecolor": "white",
            "ticks": ""
           }
          },
          "title": {
           "x": 0.05
          },
          "xaxis": {
           "automargin": true,
           "gridcolor": "white",
           "linecolor": "white",
           "ticks": "",
           "title": {
            "standoff": 15
           },
           "zerolinecolor": "white",
           "zerolinewidth": 2
          },
          "yaxis": {
           "automargin": true,
           "gridcolor": "white",
           "linecolor": "white",
           "ticks": "",
           "title": {
            "standoff": 15
           },
           "zerolinecolor": "white",
           "zerolinewidth": 2
          }
         }
        },
        "title": {
         "text": "Mean Temperature For Cities (Every Decade)"
        },
        "width": 1500,
        "xaxis": {
         "rangeslider": {
          "visible": true
         },
         "title": {
          "text": "Cities"
         }
        },
        "yaxis": {
         "title": {
          "text": "Mean Temperature"
         }
        }
       }
      }
     },
     "metadata": {},
     "output_type": "display_data"
    }
   ],
   "source": [
    "fig.update_xaxes(rangeslider_visible=True, title_text = 'Cities')\n",
    "fig.update_yaxes(title_text='Mean Temperature')\n",
    "fig.update_layout(title = 'Mean Temperature For Cities (Every Decade)', height=800, width=1500)\n",
    "fig.show()"
   ]
  },
  {
   "cell_type": "code",
   "execution_count": 194,
   "metadata": {},
   "outputs": [
    {
     "ename": "ValueError",
     "evalue": "Length mismatch: Expected axis has 6 elements, new values have 22 elements",
     "output_type": "error",
     "traceback": [
      "\u001b[1;31m---------------------------------------------------------------------------\u001b[0m",
      "\u001b[1;31mValueError\u001b[0m                                Traceback (most recent call last)",
      "Cell \u001b[1;32mIn[194], line 8\u001b[0m\n\u001b[0;32m      2\u001b[0m decade_comb \u001b[38;5;241m=\u001b[39m reduce(\n\u001b[0;32m      3\u001b[0m     \u001b[38;5;28;01mlambda\u001b[39;00m left, right: pd\u001b[38;5;241m.\u001b[39mmerge(left, right, on\u001b[38;5;241m=\u001b[39m[\u001b[38;5;124m'\u001b[39m\u001b[38;5;124mCity\u001b[39m\u001b[38;5;124m'\u001b[39m], suffixes\u001b[38;5;241m=\u001b[39m(\u001b[38;5;124m'\u001b[39m\u001b[38;5;124m'\u001b[39m, \u001b[38;5;124m'\u001b[39m\u001b[38;5;124m_dup\u001b[39m\u001b[38;5;124m'\u001b[39m)),\n\u001b[0;32m      4\u001b[0m     l1\n\u001b[0;32m      5\u001b[0m )\n\u001b[0;32m      7\u001b[0m \u001b[38;5;66;03m# Rename the columns to the desired format\u001b[39;00m\n\u001b[1;32m----> 8\u001b[0m \u001b[43mdecade_comb\u001b[49m\u001b[38;5;241;43m.\u001b[39;49m\u001b[43mcolumns\u001b[49m \u001b[38;5;241m=\u001b[39m [\n\u001b[0;32m      9\u001b[0m     \u001b[38;5;124m'\u001b[39m\u001b[38;5;124mAverageTemperature_1\u001b[39m\u001b[38;5;124m'\u001b[39m, \u001b[38;5;124m'\u001b[39m\u001b[38;5;124mAverageTemperatureUncertainty_1\u001b[39m\u001b[38;5;124m'\u001b[39m, \n\u001b[0;32m     10\u001b[0m     \u001b[38;5;124m'\u001b[39m\u001b[38;5;124mAverageTemperature_2\u001b[39m\u001b[38;5;124m'\u001b[39m, \u001b[38;5;124m'\u001b[39m\u001b[38;5;124mAverageTemperatureUncertainty_2\u001b[39m\u001b[38;5;124m'\u001b[39m,\n\u001b[0;32m     11\u001b[0m     \u001b[38;5;124m'\u001b[39m\u001b[38;5;124mAverageTemperature_3\u001b[39m\u001b[38;5;124m'\u001b[39m, \u001b[38;5;124m'\u001b[39m\u001b[38;5;124mAverageTemperatureUncertainty_3\u001b[39m\u001b[38;5;124m'\u001b[39m,\n\u001b[0;32m     12\u001b[0m     \u001b[38;5;124m'\u001b[39m\u001b[38;5;124mAverageTemperature_4\u001b[39m\u001b[38;5;124m'\u001b[39m, \u001b[38;5;124m'\u001b[39m\u001b[38;5;124mAverageTemperatureUncertainty_4\u001b[39m\u001b[38;5;124m'\u001b[39m, \n\u001b[0;32m     13\u001b[0m     \u001b[38;5;124m'\u001b[39m\u001b[38;5;124mAverageTemperature_5\u001b[39m\u001b[38;5;124m'\u001b[39m, \u001b[38;5;124m'\u001b[39m\u001b[38;5;124mAverageTemperatureUncertainty_5\u001b[39m\u001b[38;5;124m'\u001b[39m,\n\u001b[0;32m     14\u001b[0m     \u001b[38;5;124m'\u001b[39m\u001b[38;5;124mAverageTemperature_6\u001b[39m\u001b[38;5;124m'\u001b[39m, \u001b[38;5;124m'\u001b[39m\u001b[38;5;124mAverageTemperatureUncertainty_6\u001b[39m\u001b[38;5;124m'\u001b[39m,\n\u001b[0;32m     15\u001b[0m     \u001b[38;5;124m'\u001b[39m\u001b[38;5;124mAverageTemperature_7\u001b[39m\u001b[38;5;124m'\u001b[39m, \u001b[38;5;124m'\u001b[39m\u001b[38;5;124mAverageTemperatureUncertainty_7\u001b[39m\u001b[38;5;124m'\u001b[39m, \n\u001b[0;32m     16\u001b[0m     \u001b[38;5;124m'\u001b[39m\u001b[38;5;124mAverageTemperature_8\u001b[39m\u001b[38;5;124m'\u001b[39m, \u001b[38;5;124m'\u001b[39m\u001b[38;5;124mAverageTemperatureUncertainty_8\u001b[39m\u001b[38;5;124m'\u001b[39m,\n\u001b[0;32m     17\u001b[0m     \u001b[38;5;124m'\u001b[39m\u001b[38;5;124mAverageTemperature_9\u001b[39m\u001b[38;5;124m'\u001b[39m, \u001b[38;5;124m'\u001b[39m\u001b[38;5;124mAverageTemperatureUncertainty_9\u001b[39m\u001b[38;5;124m'\u001b[39m, \n\u001b[0;32m     18\u001b[0m     \u001b[38;5;124m'\u001b[39m\u001b[38;5;124mAverageTemperature_10\u001b[39m\u001b[38;5;124m'\u001b[39m, \u001b[38;5;124m'\u001b[39m\u001b[38;5;124mAverageTemperatureUncertainty_10\u001b[39m\u001b[38;5;124m'\u001b[39m,\n\u001b[0;32m     19\u001b[0m     \u001b[38;5;124m'\u001b[39m\u001b[38;5;124mAverageTemperature_11\u001b[39m\u001b[38;5;124m'\u001b[39m, \u001b[38;5;124m'\u001b[39m\u001b[38;5;124mAverageTemperatureUncertainty_11\u001b[39m\u001b[38;5;124m'\u001b[39m\n\u001b[0;32m     20\u001b[0m ]\n",
      "File \u001b[1;32mc:\\Users\\a0095989\\Desktop\\important\\Thesis\\Model_Thesis\\model\\Lib\\site-packages\\pandas\\core\\generic.py:6313\u001b[0m, in \u001b[0;36mNDFrame.__setattr__\u001b[1;34m(self, name, value)\u001b[0m\n\u001b[0;32m   6311\u001b[0m \u001b[38;5;28;01mtry\u001b[39;00m:\n\u001b[0;32m   6312\u001b[0m     \u001b[38;5;28mobject\u001b[39m\u001b[38;5;241m.\u001b[39m\u001b[38;5;21m__getattribute__\u001b[39m(\u001b[38;5;28mself\u001b[39m, name)\n\u001b[1;32m-> 6313\u001b[0m     \u001b[38;5;28;01mreturn\u001b[39;00m \u001b[38;5;28;43mobject\u001b[39;49m\u001b[38;5;241;43m.\u001b[39;49m\u001b[38;5;21;43m__setattr__\u001b[39;49m\u001b[43m(\u001b[49m\u001b[38;5;28;43mself\u001b[39;49m\u001b[43m,\u001b[49m\u001b[43m \u001b[49m\u001b[43mname\u001b[49m\u001b[43m,\u001b[49m\u001b[43m \u001b[49m\u001b[43mvalue\u001b[49m\u001b[43m)\u001b[49m\n\u001b[0;32m   6314\u001b[0m \u001b[38;5;28;01mexcept\u001b[39;00m \u001b[38;5;167;01mAttributeError\u001b[39;00m:\n\u001b[0;32m   6315\u001b[0m     \u001b[38;5;28;01mpass\u001b[39;00m\n",
      "File \u001b[1;32mproperties.pyx:69\u001b[0m, in \u001b[0;36mpandas._libs.properties.AxisProperty.__set__\u001b[1;34m()\u001b[0m\n",
      "File \u001b[1;32mc:\\Users\\a0095989\\Desktop\\important\\Thesis\\Model_Thesis\\model\\Lib\\site-packages\\pandas\\core\\generic.py:814\u001b[0m, in \u001b[0;36mNDFrame._set_axis\u001b[1;34m(self, axis, labels)\u001b[0m\n\u001b[0;32m    809\u001b[0m \u001b[38;5;250m\u001b[39m\u001b[38;5;124;03m\"\"\"\u001b[39;00m\n\u001b[0;32m    810\u001b[0m \u001b[38;5;124;03mThis is called from the cython code when we set the `index` attribute\u001b[39;00m\n\u001b[0;32m    811\u001b[0m \u001b[38;5;124;03mdirectly, e.g. `series.index = [1, 2, 3]`.\u001b[39;00m\n\u001b[0;32m    812\u001b[0m \u001b[38;5;124;03m\"\"\"\u001b[39;00m\n\u001b[0;32m    813\u001b[0m labels \u001b[38;5;241m=\u001b[39m ensure_index(labels)\n\u001b[1;32m--> 814\u001b[0m \u001b[38;5;28;43mself\u001b[39;49m\u001b[38;5;241;43m.\u001b[39;49m\u001b[43m_mgr\u001b[49m\u001b[38;5;241;43m.\u001b[39;49m\u001b[43mset_axis\u001b[49m\u001b[43m(\u001b[49m\u001b[43maxis\u001b[49m\u001b[43m,\u001b[49m\u001b[43m \u001b[49m\u001b[43mlabels\u001b[49m\u001b[43m)\u001b[49m\n\u001b[0;32m    815\u001b[0m \u001b[38;5;28mself\u001b[39m\u001b[38;5;241m.\u001b[39m_clear_item_cache()\n",
      "File \u001b[1;32mc:\\Users\\a0095989\\Desktop\\important\\Thesis\\Model_Thesis\\model\\Lib\\site-packages\\pandas\\core\\internals\\managers.py:238\u001b[0m, in \u001b[0;36mBaseBlockManager.set_axis\u001b[1;34m(self, axis, new_labels)\u001b[0m\n\u001b[0;32m    236\u001b[0m \u001b[38;5;28;01mdef\u001b[39;00m \u001b[38;5;21mset_axis\u001b[39m(\u001b[38;5;28mself\u001b[39m, axis: AxisInt, new_labels: Index) \u001b[38;5;241m-\u001b[39m\u001b[38;5;241m>\u001b[39m \u001b[38;5;28;01mNone\u001b[39;00m:\n\u001b[0;32m    237\u001b[0m     \u001b[38;5;66;03m# Caller is responsible for ensuring we have an Index object.\u001b[39;00m\n\u001b[1;32m--> 238\u001b[0m     \u001b[38;5;28;43mself\u001b[39;49m\u001b[38;5;241;43m.\u001b[39;49m\u001b[43m_validate_set_axis\u001b[49m\u001b[43m(\u001b[49m\u001b[43maxis\u001b[49m\u001b[43m,\u001b[49m\u001b[43m \u001b[49m\u001b[43mnew_labels\u001b[49m\u001b[43m)\u001b[49m\n\u001b[0;32m    239\u001b[0m     \u001b[38;5;28mself\u001b[39m\u001b[38;5;241m.\u001b[39maxes[axis] \u001b[38;5;241m=\u001b[39m new_labels\n",
      "File \u001b[1;32mc:\\Users\\a0095989\\Desktop\\important\\Thesis\\Model_Thesis\\model\\Lib\\site-packages\\pandas\\core\\internals\\base.py:98\u001b[0m, in \u001b[0;36mDataManager._validate_set_axis\u001b[1;34m(self, axis, new_labels)\u001b[0m\n\u001b[0;32m     95\u001b[0m     \u001b[38;5;28;01mpass\u001b[39;00m\n\u001b[0;32m     97\u001b[0m \u001b[38;5;28;01melif\u001b[39;00m new_len \u001b[38;5;241m!=\u001b[39m old_len:\n\u001b[1;32m---> 98\u001b[0m     \u001b[38;5;28;01mraise\u001b[39;00m \u001b[38;5;167;01mValueError\u001b[39;00m(\n\u001b[0;32m     99\u001b[0m         \u001b[38;5;124mf\u001b[39m\u001b[38;5;124m\"\u001b[39m\u001b[38;5;124mLength mismatch: Expected axis has \u001b[39m\u001b[38;5;132;01m{\u001b[39;00mold_len\u001b[38;5;132;01m}\u001b[39;00m\u001b[38;5;124m elements, new \u001b[39m\u001b[38;5;124m\"\u001b[39m\n\u001b[0;32m    100\u001b[0m         \u001b[38;5;124mf\u001b[39m\u001b[38;5;124m\"\u001b[39m\u001b[38;5;124mvalues have \u001b[39m\u001b[38;5;132;01m{\u001b[39;00mnew_len\u001b[38;5;132;01m}\u001b[39;00m\u001b[38;5;124m elements\u001b[39m\u001b[38;5;124m\"\u001b[39m\n\u001b[0;32m    101\u001b[0m     )\n",
      "\u001b[1;31mValueError\u001b[0m: Length mismatch: Expected axis has 6 elements, new values have 22 elements"
     ]
    }
   ],
   "source": [
    "# Merge the DataFrames with unique suffixes\n",
    "decade_comb = reduce(\n",
    "    lambda left, right: pd.merge(left, right, on=['City'], suffixes=('', '_dup')),\n",
    "    l1\n",
    ")\n",
    "\n",
    "# Rename the columns to the desired format\n",
    "decade_comb.columns = [\n",
    "    'AverageTemperature_1', 'AverageTemperatureUncertainty_1', \n",
    "    'AverageTemperature_2', 'AverageTemperatureUncertainty_2',\n",
    "    'AverageTemperature_3', 'AverageTemperatureUncertainty_3',\n",
    "    'AverageTemperature_4', 'AverageTemperatureUncertainty_4', \n",
    "    'AverageTemperature_5', 'AverageTemperatureUncertainty_5',\n",
    "    'AverageTemperature_6', 'AverageTemperatureUncertainty_6',\n",
    "    'AverageTemperature_7', 'AverageTemperatureUncertainty_7', \n",
    "    'AverageTemperature_8', 'AverageTemperatureUncertainty_8',\n",
    "    'AverageTemperature_9', 'AverageTemperatureUncertainty_9', \n",
    "    'AverageTemperature_10', 'AverageTemperatureUncertainty_10',\n",
    "    'AverageTemperature_11', 'AverageTemperatureUncertainty_11'\n",
    "]\n"
   ]
  },
  {
   "cell_type": "code",
   "execution_count": 195,
   "metadata": {},
   "outputs": [
    {
     "ename": "KeyError",
     "evalue": "'AverageTemperature_1'",
     "output_type": "error",
     "traceback": [
      "\u001b[1;31m---------------------------------------------------------------------------\u001b[0m",
      "\u001b[1;31mKeyError\u001b[0m                                  Traceback (most recent call last)",
      "File \u001b[1;32mc:\\Users\\a0095989\\Desktop\\important\\Thesis\\Model_Thesis\\model\\Lib\\site-packages\\pandas\\core\\indexes\\base.py:3805\u001b[0m, in \u001b[0;36mIndex.get_loc\u001b[1;34m(self, key)\u001b[0m\n\u001b[0;32m   3804\u001b[0m \u001b[38;5;28;01mtry\u001b[39;00m:\n\u001b[1;32m-> 3805\u001b[0m     \u001b[38;5;28;01mreturn\u001b[39;00m \u001b[38;5;28;43mself\u001b[39;49m\u001b[38;5;241;43m.\u001b[39;49m\u001b[43m_engine\u001b[49m\u001b[38;5;241;43m.\u001b[39;49m\u001b[43mget_loc\u001b[49m\u001b[43m(\u001b[49m\u001b[43mcasted_key\u001b[49m\u001b[43m)\u001b[49m\n\u001b[0;32m   3806\u001b[0m \u001b[38;5;28;01mexcept\u001b[39;00m \u001b[38;5;167;01mKeyError\u001b[39;00m \u001b[38;5;28;01mas\u001b[39;00m err:\n",
      "File \u001b[1;32mindex.pyx:167\u001b[0m, in \u001b[0;36mpandas._libs.index.IndexEngine.get_loc\u001b[1;34m()\u001b[0m\n",
      "File \u001b[1;32mindex.pyx:191\u001b[0m, in \u001b[0;36mpandas._libs.index.IndexEngine.get_loc\u001b[1;34m()\u001b[0m\n",
      "File \u001b[1;32mindex.pyx:234\u001b[0m, in \u001b[0;36mpandas._libs.index.IndexEngine._get_loc_duplicates\u001b[1;34m()\u001b[0m\n",
      "File \u001b[1;32mindex.pyx:242\u001b[0m, in \u001b[0;36mpandas._libs.index.IndexEngine._maybe_get_bool_indexer\u001b[1;34m()\u001b[0m\n",
      "File \u001b[1;32mindex.pyx:134\u001b[0m, in \u001b[0;36mpandas._libs.index._unpack_bool_indexer\u001b[1;34m()\u001b[0m\n",
      "\u001b[1;31mKeyError\u001b[0m: 'AverageTemperature_1'",
      "\nThe above exception was the direct cause of the following exception:\n",
      "\u001b[1;31mKeyError\u001b[0m                                  Traceback (most recent call last)",
      "Cell \u001b[1;32mIn[195], line 1\u001b[0m\n\u001b[1;32m----> 1\u001b[0m decade_comb[\u001b[38;5;124m'\u001b[39m\u001b[38;5;124mDiff1_11\u001b[39m\u001b[38;5;124m'\u001b[39m] \u001b[38;5;241m=\u001b[39m [y\u001b[38;5;241m-\u001b[39mi \u001b[38;5;28;01mfor\u001b[39;00m i,y \u001b[38;5;129;01min\u001b[39;00m \u001b[38;5;28mzip\u001b[39m(\u001b[43mdecade_comb\u001b[49m\u001b[43m[\u001b[49m\u001b[38;5;124;43m'\u001b[39;49m\u001b[38;5;124;43mAverageTemperature_1\u001b[39;49m\u001b[38;5;124;43m'\u001b[39;49m\u001b[43m]\u001b[49m, decade_comb[\u001b[38;5;124m'\u001b[39m\u001b[38;5;124mAverageTemperature_11\u001b[39m\u001b[38;5;124m'\u001b[39m])]\n\u001b[0;32m      2\u001b[0m order_decade_comb \u001b[38;5;241m=\u001b[39m decade_comb\u001b[38;5;241m.\u001b[39msort_values(by\u001b[38;5;241m=\u001b[39m\u001b[38;5;124m'\u001b[39m\u001b[38;5;124mDiff1_11\u001b[39m\u001b[38;5;124m'\u001b[39m, ascending\u001b[38;5;241m=\u001b[39m\u001b[38;5;28;01mFalse\u001b[39;00m)\n",
      "File \u001b[1;32mc:\\Users\\a0095989\\Desktop\\important\\Thesis\\Model_Thesis\\model\\Lib\\site-packages\\pandas\\core\\frame.py:4102\u001b[0m, in \u001b[0;36mDataFrame.__getitem__\u001b[1;34m(self, key)\u001b[0m\n\u001b[0;32m   4100\u001b[0m \u001b[38;5;28;01mif\u001b[39;00m \u001b[38;5;28mself\u001b[39m\u001b[38;5;241m.\u001b[39mcolumns\u001b[38;5;241m.\u001b[39mnlevels \u001b[38;5;241m>\u001b[39m \u001b[38;5;241m1\u001b[39m:\n\u001b[0;32m   4101\u001b[0m     \u001b[38;5;28;01mreturn\u001b[39;00m \u001b[38;5;28mself\u001b[39m\u001b[38;5;241m.\u001b[39m_getitem_multilevel(key)\n\u001b[1;32m-> 4102\u001b[0m indexer \u001b[38;5;241m=\u001b[39m \u001b[38;5;28;43mself\u001b[39;49m\u001b[38;5;241;43m.\u001b[39;49m\u001b[43mcolumns\u001b[49m\u001b[38;5;241;43m.\u001b[39;49m\u001b[43mget_loc\u001b[49m\u001b[43m(\u001b[49m\u001b[43mkey\u001b[49m\u001b[43m)\u001b[49m\n\u001b[0;32m   4103\u001b[0m \u001b[38;5;28;01mif\u001b[39;00m is_integer(indexer):\n\u001b[0;32m   4104\u001b[0m     indexer \u001b[38;5;241m=\u001b[39m [indexer]\n",
      "File \u001b[1;32mc:\\Users\\a0095989\\Desktop\\important\\Thesis\\Model_Thesis\\model\\Lib\\site-packages\\pandas\\core\\indexes\\base.py:3812\u001b[0m, in \u001b[0;36mIndex.get_loc\u001b[1;34m(self, key)\u001b[0m\n\u001b[0;32m   3807\u001b[0m     \u001b[38;5;28;01mif\u001b[39;00m \u001b[38;5;28misinstance\u001b[39m(casted_key, \u001b[38;5;28mslice\u001b[39m) \u001b[38;5;129;01mor\u001b[39;00m (\n\u001b[0;32m   3808\u001b[0m         \u001b[38;5;28misinstance\u001b[39m(casted_key, abc\u001b[38;5;241m.\u001b[39mIterable)\n\u001b[0;32m   3809\u001b[0m         \u001b[38;5;129;01mand\u001b[39;00m \u001b[38;5;28many\u001b[39m(\u001b[38;5;28misinstance\u001b[39m(x, \u001b[38;5;28mslice\u001b[39m) \u001b[38;5;28;01mfor\u001b[39;00m x \u001b[38;5;129;01min\u001b[39;00m casted_key)\n\u001b[0;32m   3810\u001b[0m     ):\n\u001b[0;32m   3811\u001b[0m         \u001b[38;5;28;01mraise\u001b[39;00m InvalidIndexError(key)\n\u001b[1;32m-> 3812\u001b[0m     \u001b[38;5;28;01mraise\u001b[39;00m \u001b[38;5;167;01mKeyError\u001b[39;00m(key) \u001b[38;5;28;01mfrom\u001b[39;00m \u001b[38;5;21;01merr\u001b[39;00m\n\u001b[0;32m   3813\u001b[0m \u001b[38;5;28;01mexcept\u001b[39;00m \u001b[38;5;167;01mTypeError\u001b[39;00m:\n\u001b[0;32m   3814\u001b[0m     \u001b[38;5;66;03m# If we have a listlike key, _check_indexing_error will raise\u001b[39;00m\n\u001b[0;32m   3815\u001b[0m     \u001b[38;5;66;03m#  InvalidIndexError. Otherwise we fall through and re-raise\u001b[39;00m\n\u001b[0;32m   3816\u001b[0m     \u001b[38;5;66;03m#  the TypeError.\u001b[39;00m\n\u001b[0;32m   3817\u001b[0m     \u001b[38;5;28mself\u001b[39m\u001b[38;5;241m.\u001b[39m_check_indexing_error(key)\n",
      "\u001b[1;31mKeyError\u001b[0m: 'AverageTemperature_1'"
     ]
    }
   ],
   "source": [
    "decade_comb['Diff1_11'] = [y-i for i,y in zip(decade_comb['AverageTemperature_1'], decade_comb['AverageTemperature_11'])]\n",
    "order_decade_comb = decade_comb.sort_values(by='Diff1_11', ascending=False)"
   ]
  },
  {
   "cell_type": "code",
   "execution_count": 196,
   "metadata": {},
   "outputs": [
    {
     "ename": "KeyError",
     "evalue": "'Diff1_11'",
     "output_type": "error",
     "traceback": [
      "\u001b[1;31m---------------------------------------------------------------------------\u001b[0m",
      "\u001b[1;31mKeyError\u001b[0m                                  Traceback (most recent call last)",
      "File \u001b[1;32mc:\\Users\\a0095989\\Desktop\\important\\Thesis\\Model_Thesis\\model\\Lib\\site-packages\\pandas\\core\\indexes\\base.py:3805\u001b[0m, in \u001b[0;36mIndex.get_loc\u001b[1;34m(self, key)\u001b[0m\n\u001b[0;32m   3804\u001b[0m \u001b[38;5;28;01mtry\u001b[39;00m:\n\u001b[1;32m-> 3805\u001b[0m     \u001b[38;5;28;01mreturn\u001b[39;00m \u001b[38;5;28;43mself\u001b[39;49m\u001b[38;5;241;43m.\u001b[39;49m\u001b[43m_engine\u001b[49m\u001b[38;5;241;43m.\u001b[39;49m\u001b[43mget_loc\u001b[49m\u001b[43m(\u001b[49m\u001b[43mcasted_key\u001b[49m\u001b[43m)\u001b[49m\n\u001b[0;32m   3806\u001b[0m \u001b[38;5;28;01mexcept\u001b[39;00m \u001b[38;5;167;01mKeyError\u001b[39;00m \u001b[38;5;28;01mas\u001b[39;00m err:\n",
      "File \u001b[1;32mindex.pyx:167\u001b[0m, in \u001b[0;36mpandas._libs.index.IndexEngine.get_loc\u001b[1;34m()\u001b[0m\n",
      "File \u001b[1;32mindex.pyx:191\u001b[0m, in \u001b[0;36mpandas._libs.index.IndexEngine.get_loc\u001b[1;34m()\u001b[0m\n",
      "File \u001b[1;32mindex.pyx:234\u001b[0m, in \u001b[0;36mpandas._libs.index.IndexEngine._get_loc_duplicates\u001b[1;34m()\u001b[0m\n",
      "File \u001b[1;32mindex.pyx:242\u001b[0m, in \u001b[0;36mpandas._libs.index.IndexEngine._maybe_get_bool_indexer\u001b[1;34m()\u001b[0m\n",
      "File \u001b[1;32mindex.pyx:134\u001b[0m, in \u001b[0;36mpandas._libs.index._unpack_bool_indexer\u001b[1;34m()\u001b[0m\n",
      "\u001b[1;31mKeyError\u001b[0m: 'Diff1_11'",
      "\nThe above exception was the direct cause of the following exception:\n",
      "\u001b[1;31mKeyError\u001b[0m                                  Traceback (most recent call last)",
      "Cell \u001b[1;32mIn[196], line 2\u001b[0m\n\u001b[0;32m      1\u001b[0m fig \u001b[38;5;241m=\u001b[39m go\u001b[38;5;241m.\u001b[39mFigure()\n\u001b[1;32m----> 2\u001b[0m fig\u001b[38;5;241m.\u001b[39madd_trace(go\u001b[38;5;241m.\u001b[39mScatter(y\u001b[38;5;241m=\u001b[39m\u001b[43mdecade_comb\u001b[49m\u001b[43m[\u001b[49m\u001b[38;5;124;43m'\u001b[39;49m\u001b[38;5;124;43mDiff1_11\u001b[39;49m\u001b[38;5;124;43m'\u001b[39;49m\u001b[43m]\u001b[49m, x\u001b[38;5;241m=\u001b[39mdecade_comb\u001b[38;5;241m.\u001b[39mindex,name\u001b[38;5;241m=\u001b[39m\u001b[38;5;124m'\u001b[39m\u001b[38;5;124mTemperature\u001b[39m\u001b[38;5;124m'\u001b[39m))\n\u001b[0;32m      4\u001b[0m fig\u001b[38;5;241m.\u001b[39mupdate_xaxes(rangeslider_visible\u001b[38;5;241m=\u001b[39m\u001b[38;5;28;01mTrue\u001b[39;00m, title_text \u001b[38;5;241m=\u001b[39m \u001b[38;5;124m'\u001b[39m\u001b[38;5;124mCities\u001b[39m\u001b[38;5;124m'\u001b[39m)\n\u001b[0;32m      5\u001b[0m fig\u001b[38;5;241m.\u001b[39mupdate_yaxes(title_text\u001b[38;5;241m=\u001b[39m\u001b[38;5;124m'\u001b[39m\u001b[38;5;124mMean Temperature\u001b[39m\u001b[38;5;124m'\u001b[39m)\n",
      "File \u001b[1;32mc:\\Users\\a0095989\\Desktop\\important\\Thesis\\Model_Thesis\\model\\Lib\\site-packages\\pandas\\core\\frame.py:4102\u001b[0m, in \u001b[0;36mDataFrame.__getitem__\u001b[1;34m(self, key)\u001b[0m\n\u001b[0;32m   4100\u001b[0m \u001b[38;5;28;01mif\u001b[39;00m \u001b[38;5;28mself\u001b[39m\u001b[38;5;241m.\u001b[39mcolumns\u001b[38;5;241m.\u001b[39mnlevels \u001b[38;5;241m>\u001b[39m \u001b[38;5;241m1\u001b[39m:\n\u001b[0;32m   4101\u001b[0m     \u001b[38;5;28;01mreturn\u001b[39;00m \u001b[38;5;28mself\u001b[39m\u001b[38;5;241m.\u001b[39m_getitem_multilevel(key)\n\u001b[1;32m-> 4102\u001b[0m indexer \u001b[38;5;241m=\u001b[39m \u001b[38;5;28;43mself\u001b[39;49m\u001b[38;5;241;43m.\u001b[39;49m\u001b[43mcolumns\u001b[49m\u001b[38;5;241;43m.\u001b[39;49m\u001b[43mget_loc\u001b[49m\u001b[43m(\u001b[49m\u001b[43mkey\u001b[49m\u001b[43m)\u001b[49m\n\u001b[0;32m   4103\u001b[0m \u001b[38;5;28;01mif\u001b[39;00m is_integer(indexer):\n\u001b[0;32m   4104\u001b[0m     indexer \u001b[38;5;241m=\u001b[39m [indexer]\n",
      "File \u001b[1;32mc:\\Users\\a0095989\\Desktop\\important\\Thesis\\Model_Thesis\\model\\Lib\\site-packages\\pandas\\core\\indexes\\base.py:3812\u001b[0m, in \u001b[0;36mIndex.get_loc\u001b[1;34m(self, key)\u001b[0m\n\u001b[0;32m   3807\u001b[0m     \u001b[38;5;28;01mif\u001b[39;00m \u001b[38;5;28misinstance\u001b[39m(casted_key, \u001b[38;5;28mslice\u001b[39m) \u001b[38;5;129;01mor\u001b[39;00m (\n\u001b[0;32m   3808\u001b[0m         \u001b[38;5;28misinstance\u001b[39m(casted_key, abc\u001b[38;5;241m.\u001b[39mIterable)\n\u001b[0;32m   3809\u001b[0m         \u001b[38;5;129;01mand\u001b[39;00m \u001b[38;5;28many\u001b[39m(\u001b[38;5;28misinstance\u001b[39m(x, \u001b[38;5;28mslice\u001b[39m) \u001b[38;5;28;01mfor\u001b[39;00m x \u001b[38;5;129;01min\u001b[39;00m casted_key)\n\u001b[0;32m   3810\u001b[0m     ):\n\u001b[0;32m   3811\u001b[0m         \u001b[38;5;28;01mraise\u001b[39;00m InvalidIndexError(key)\n\u001b[1;32m-> 3812\u001b[0m     \u001b[38;5;28;01mraise\u001b[39;00m \u001b[38;5;167;01mKeyError\u001b[39;00m(key) \u001b[38;5;28;01mfrom\u001b[39;00m \u001b[38;5;21;01merr\u001b[39;00m\n\u001b[0;32m   3813\u001b[0m \u001b[38;5;28;01mexcept\u001b[39;00m \u001b[38;5;167;01mTypeError\u001b[39;00m:\n\u001b[0;32m   3814\u001b[0m     \u001b[38;5;66;03m# If we have a listlike key, _check_indexing_error will raise\u001b[39;00m\n\u001b[0;32m   3815\u001b[0m     \u001b[38;5;66;03m#  InvalidIndexError. Otherwise we fall through and re-raise\u001b[39;00m\n\u001b[0;32m   3816\u001b[0m     \u001b[38;5;66;03m#  the TypeError.\u001b[39;00m\n\u001b[0;32m   3817\u001b[0m     \u001b[38;5;28mself\u001b[39m\u001b[38;5;241m.\u001b[39m_check_indexing_error(key)\n",
      "\u001b[1;31mKeyError\u001b[0m: 'Diff1_11'"
     ]
    }
   ],
   "source": [
    "fig = go.Figure()\n",
    "fig.add_trace(go.Scatter(y=decade_comb['Diff1_11'], x=decade_comb.index,name='Temperature'))\n",
    "\n",
    "fig.update_xaxes(rangeslider_visible=True, title_text = 'Cities')\n",
    "fig.update_yaxes(title_text='Mean Temperature')\n",
    "fig.update_layout(title = 'Mean Temperature Increase every Decade (For Cities)', height=800, width=1500)\n",
    "fig.show()"
   ]
  },
  {
   "cell_type": "code",
   "execution_count": 197,
   "metadata": {},
   "outputs": [
    {
     "name": "stdout",
     "output_type": "stream",
     "text": [
      "Index(['Augsburg', 'Munich', 'Freiburg', 'Ingolstadt', 'Nuremberg'], dtype='object', name='City')\n",
      "Index(['Rostock', 'Bremen', 'Bremerhaven', 'Lübeck', 'Hamburg'], dtype='object', name='City')\n"
     ]
    }
   ],
   "source": [
    "print(order_decade_comb[:5].index)\n",
    "print(order_decade_comb[-6:-1].index)"
   ]
  },
  {
   "cell_type": "code",
   "execution_count": 204,
   "metadata": {},
   "outputs": [
    {
     "ename": "KeyError",
     "evalue": "\"['Diff1_11'] not in index\"",
     "output_type": "error",
     "traceback": [
      "\u001b[1;31m---------------------------------------------------------------------------\u001b[0m",
      "\u001b[1;31mKeyError\u001b[0m                                  Traceback (most recent call last)",
      "Cell \u001b[1;32mIn[204], line 7\u001b[0m\n\u001b[0;32m      4\u001b[0m decade_comb_copy\u001b[38;5;241m.\u001b[39mdropna(inplace\u001b[38;5;241m=\u001b[39m\u001b[38;5;28;01mTrue\u001b[39;00m)\n\u001b[0;32m      6\u001b[0m basemap \u001b[38;5;241m=\u001b[39m folium\u001b[38;5;241m.\u001b[39mMap(control_scale\u001b[38;5;241m=\u001b[39m\u001b[38;5;28;01mTrue\u001b[39;00m, zoom_start\u001b[38;5;241m=\u001b[39m\u001b[38;5;241m5\u001b[39m, location\u001b[38;5;241m=\u001b[39m(\u001b[38;5;241m20.5937\u001b[39m, \u001b[38;5;241m78.9629\u001b[39m))\n\u001b[1;32m----> 7\u001b[0m HeatMap(\u001b[43mdecade_comb_copy\u001b[49m\u001b[43m[\u001b[49m\u001b[43m[\u001b[49m\u001b[38;5;124;43m'\u001b[39;49m\u001b[38;5;124;43mlat\u001b[39;49m\u001b[38;5;124;43m'\u001b[39;49m\u001b[43m,\u001b[49m\u001b[38;5;124;43m'\u001b[39;49m\u001b[38;5;124;43mlon\u001b[39;49m\u001b[38;5;124;43m'\u001b[39;49m\u001b[43m,\u001b[49m\u001b[43m \u001b[49m\u001b[38;5;124;43m'\u001b[39;49m\u001b[38;5;124;43mDiff1_11\u001b[39;49m\u001b[38;5;124;43m'\u001b[39;49m\u001b[43m]\u001b[49m\u001b[43m]\u001b[49m\u001b[38;5;241m.\u001b[39mvalues\u001b[38;5;241m.\u001b[39mtolist(), radius\u001b[38;5;241m=\u001b[39m\u001b[38;5;241m15\u001b[39m)\u001b[38;5;241m.\u001b[39madd_to(basemap)\n\u001b[0;32m      9\u001b[0m basemap\n",
      "File \u001b[1;32mc:\\Users\\a0095989\\Desktop\\important\\Thesis\\Model_Thesis\\model\\Lib\\site-packages\\pandas\\core\\frame.py:4108\u001b[0m, in \u001b[0;36mDataFrame.__getitem__\u001b[1;34m(self, key)\u001b[0m\n\u001b[0;32m   4106\u001b[0m     \u001b[38;5;28;01mif\u001b[39;00m is_iterator(key):\n\u001b[0;32m   4107\u001b[0m         key \u001b[38;5;241m=\u001b[39m \u001b[38;5;28mlist\u001b[39m(key)\n\u001b[1;32m-> 4108\u001b[0m     indexer \u001b[38;5;241m=\u001b[39m \u001b[38;5;28;43mself\u001b[39;49m\u001b[38;5;241;43m.\u001b[39;49m\u001b[43mcolumns\u001b[49m\u001b[38;5;241;43m.\u001b[39;49m\u001b[43m_get_indexer_strict\u001b[49m\u001b[43m(\u001b[49m\u001b[43mkey\u001b[49m\u001b[43m,\u001b[49m\u001b[43m \u001b[49m\u001b[38;5;124;43m\"\u001b[39;49m\u001b[38;5;124;43mcolumns\u001b[39;49m\u001b[38;5;124;43m\"\u001b[39;49m\u001b[43m)\u001b[49m[\u001b[38;5;241m1\u001b[39m]\n\u001b[0;32m   4110\u001b[0m \u001b[38;5;66;03m# take() does not accept boolean indexers\u001b[39;00m\n\u001b[0;32m   4111\u001b[0m \u001b[38;5;28;01mif\u001b[39;00m \u001b[38;5;28mgetattr\u001b[39m(indexer, \u001b[38;5;124m\"\u001b[39m\u001b[38;5;124mdtype\u001b[39m\u001b[38;5;124m\"\u001b[39m, \u001b[38;5;28;01mNone\u001b[39;00m) \u001b[38;5;241m==\u001b[39m \u001b[38;5;28mbool\u001b[39m:\n",
      "File \u001b[1;32mc:\\Users\\a0095989\\Desktop\\important\\Thesis\\Model_Thesis\\model\\Lib\\site-packages\\pandas\\core\\indexes\\base.py:6200\u001b[0m, in \u001b[0;36mIndex._get_indexer_strict\u001b[1;34m(self, key, axis_name)\u001b[0m\n\u001b[0;32m   6197\u001b[0m \u001b[38;5;28;01melse\u001b[39;00m:\n\u001b[0;32m   6198\u001b[0m     keyarr, indexer, new_indexer \u001b[38;5;241m=\u001b[39m \u001b[38;5;28mself\u001b[39m\u001b[38;5;241m.\u001b[39m_reindex_non_unique(keyarr)\n\u001b[1;32m-> 6200\u001b[0m \u001b[38;5;28;43mself\u001b[39;49m\u001b[38;5;241;43m.\u001b[39;49m\u001b[43m_raise_if_missing\u001b[49m\u001b[43m(\u001b[49m\u001b[43mkeyarr\u001b[49m\u001b[43m,\u001b[49m\u001b[43m \u001b[49m\u001b[43mindexer\u001b[49m\u001b[43m,\u001b[49m\u001b[43m \u001b[49m\u001b[43maxis_name\u001b[49m\u001b[43m)\u001b[49m\n\u001b[0;32m   6202\u001b[0m keyarr \u001b[38;5;241m=\u001b[39m \u001b[38;5;28mself\u001b[39m\u001b[38;5;241m.\u001b[39mtake(indexer)\n\u001b[0;32m   6203\u001b[0m \u001b[38;5;28;01mif\u001b[39;00m \u001b[38;5;28misinstance\u001b[39m(key, Index):\n\u001b[0;32m   6204\u001b[0m     \u001b[38;5;66;03m# GH 42790 - Preserve name from an Index\u001b[39;00m\n",
      "File \u001b[1;32mc:\\Users\\a0095989\\Desktop\\important\\Thesis\\Model_Thesis\\model\\Lib\\site-packages\\pandas\\core\\indexes\\base.py:6252\u001b[0m, in \u001b[0;36mIndex._raise_if_missing\u001b[1;34m(self, key, indexer, axis_name)\u001b[0m\n\u001b[0;32m   6249\u001b[0m     \u001b[38;5;28;01mraise\u001b[39;00m \u001b[38;5;167;01mKeyError\u001b[39;00m(\u001b[38;5;124mf\u001b[39m\u001b[38;5;124m\"\u001b[39m\u001b[38;5;124mNone of [\u001b[39m\u001b[38;5;132;01m{\u001b[39;00mkey\u001b[38;5;132;01m}\u001b[39;00m\u001b[38;5;124m] are in the [\u001b[39m\u001b[38;5;132;01m{\u001b[39;00maxis_name\u001b[38;5;132;01m}\u001b[39;00m\u001b[38;5;124m]\u001b[39m\u001b[38;5;124m\"\u001b[39m)\n\u001b[0;32m   6251\u001b[0m not_found \u001b[38;5;241m=\u001b[39m \u001b[38;5;28mlist\u001b[39m(ensure_index(key)[missing_mask\u001b[38;5;241m.\u001b[39mnonzero()[\u001b[38;5;241m0\u001b[39m]]\u001b[38;5;241m.\u001b[39munique())\n\u001b[1;32m-> 6252\u001b[0m \u001b[38;5;28;01mraise\u001b[39;00m \u001b[38;5;167;01mKeyError\u001b[39;00m(\u001b[38;5;124mf\u001b[39m\u001b[38;5;124m\"\u001b[39m\u001b[38;5;132;01m{\u001b[39;00mnot_found\u001b[38;5;132;01m}\u001b[39;00m\u001b[38;5;124m not in index\u001b[39m\u001b[38;5;124m\"\u001b[39m)\n",
      "\u001b[1;31mKeyError\u001b[0m: \"['Diff1_11'] not in index\""
     ]
    }
   ],
   "source": [
    "decade_comb['lat']  = century_comb_copy['lat'] \n",
    "decade_comb['lon']= century_comb_copy['lon'] \n",
    "decade_comb_copy = decade_comb.copy()\n",
    "decade_comb_copy.dropna(inplace=True)\n",
    "\n",
    "basemap = folium.Map(control_scale=True, zoom_start=5, location=(20.5937, 78.9629))\n",
    "HeatMap(decade_comb_copy[['lat','lon', 'Diff1_11']].values.tolist(), radius=15).add_to(basemap)\n",
    "\n",
    "basemap"
   ]
  },
  {
   "cell_type": "markdown",
   "metadata": {},
   "source": [
    "LAst Decade"
   ]
  },
  {
   "cell_type": "code",
   "execution_count": 205,
   "metadata": {},
   "outputs": [],
   "source": [
    "# Define the date range\n",
    "date_range = pd.date_range('2003-01-01', '2013-01-01', freq='YS')\n",
    "\n",
    "# Create an empty DataFrame to store results\n",
    "last_decade = pd.DataFrame(index=century_comb.index)\n",
    "\n",
    "# Loop over the date range\n",
    "for y, i in enumerate(date_range):\n",
    "    # Select data for the year range\n",
    "    last_decade_y = data_ind[(data_ind['dt'] >= i) & (data_ind['dt'] < i.replace(year=i.year + (y + 1)))]\n",
    "    \n",
    "    # Ensure that only numeric columns are included for aggregation\n",
    "    numeric_cols = ['AverageTemperature', 'AverageTemperatureUncertainty']  # specify the numeric columns to aggregate\n",
    "    \n",
    "    # Aggregate the numeric columns\n",
    "    last_decade_y = last_decade_y.groupby('City')[numeric_cols].agg('mean')\n",
    "    \n",
    "    # Merge with the previous data (if any)\n",
    "    last_decade = last_decade.merge(last_decade_y, on=['City'], how='left', suffixes=('', f'_{i.year}'))\n",
    "\n",
    "# The resulting 'last_decade' dataframe will contain the average temperatures and uncertainties for each year in the range\n",
    "\n",
    "  "
   ]
  },
  {
   "cell_type": "code",
   "execution_count": 206,
   "metadata": {},
   "outputs": [],
   "source": [
    "last_decade.columns = ['AverageTemperature2003', 'AverageTemperatureUncertainity2003','AverageTemperature2004', 'AverageTemperatureUncertainity2004',\n",
    "                       'AverageTemperature2005', 'AverageTemperatureUncertainity2005','AverageTemperature2006', 'AverageTemperatureUncertainity2006',\n",
    "                       'AverageTemperature2007', 'AverageTemperatureUncertainity2007','AverageTemperature2008', 'AverageTemperatureUncertainity2008',\n",
    "                       'AverageTemperature2009', 'AverageTemperatureUncertainity2009','AverageTemperature2010', 'AverageTemperatureUncertainity2010',\n",
    "                       'AverageTemperature2011', 'AverageTemperatureUncertainity2011','AverageTemperature2012', 'AverageTemperatureUncertainity2012',\n",
    "                       'AverageTemperature2013', 'AverageTemperatureUncertainity2013',]\n"
   ]
  },
  {
   "cell_type": "code",
   "execution_count": 207,
   "metadata": {},
   "outputs": [],
   "source": [
    "last_decade['diff03_13'] =  last_decade['AverageTemperature2013'] - last_decade['AverageTemperature2003'] \n",
    "order_last_decade = last_decade.sort_values(by='diff03_13', ascending=False)"
   ]
  },
  {
   "cell_type": "code",
   "execution_count": 208,
   "metadata": {},
   "outputs": [
    {
     "data": {
      "application/vnd.plotly.v1+json": {
       "config": {
        "plotlyServerURL": "https://plot.ly"
       },
       "data": [
        {
         "name": "2003",
         "type": "scatter",
         "x": [
          "Aachen",
          "Augsburg",
          "Bergisch Gladbach",
          "Berlin",
          "Bielefeld",
          "Bochum",
          "Bonn",
          "Bottrop",
          "Bremen",
          "Bremerhaven",
          "Brunswick",
          "Chemnitz",
          "Cologne",
          "Cottbus",
          "Darmstadt",
          "Dortmund",
          "Dresden",
          "Duisburg",
          "Düsseldorf",
          "Erfurt",
          "Erlangen",
          "Essen",
          "Frankfurt",
          "Freiburg",
          "Fürth",
          "Gelsenkirchen",
          "Gera",
          "Göttingen",
          "Hagen",
          "Halle",
          "Hamburg",
          "Hamm",
          "Hanover",
          "Heidelberg",
          "Heilbronn",
          "Herne",
          "Hildesheim",
          "Ingolstadt",
          "Karlsruhe",
          "Kassel",
          "Kiel",
          "Koblenz",
          "Krefeld",
          "Leipzig",
          "Leverkusen",
          "Ludwigshafen",
          "Lübeck",
          "Magdeburg",
          "Mainz",
          "Mannheim",
          "Moers",
          "Munich",
          "Mönchengladbach",
          "Mülheim",
          "Münster",
          "Neuss",
          "Nuremberg",
          "Oberhausen",
          "Offenbach",
          "Oldenburg",
          "Osnabrück",
          "Paderborn",
          "Pforzheim",
          "Potsdam",
          "Ratisbon",
          "Recklinghausen",
          "Remscheid",
          "Reutlingen",
          "Rostock",
          "Saarbrücken",
          "Salzgitter",
          "Siegen",
          "Solingen",
          "Stuttgart",
          "Trier",
          "Ulm",
          "Wiesbaden",
          "Witten",
          "Wolfsburg",
          "Wuppertal",
          "Würzburg"
         ],
         "y": [
          10.294,
          6.124666666666667,
          10.294,
          10.06575,
          10.217083333333333,
          10.217083333333333,
          10.294,
          10.217083333333333,
          9.477,
          9.477,
          9.68725,
          9.512666666666666,
          10.294,
          10.06575,
          9.661166666666666,
          10.217083333333333,
          9.512666666666666,
          10.294,
          10.294,
          8.936666666666666,
          10.216083333333334,
          10.294,
          9.661166666666666,
          8.482916666666666,
          10.216083333333334,
          10.217083333333333,
          8.936666666666666,
          9.68725,
          10.217083333333333,
          8.936666666666666,
          9.477,
          10.217083333333333,
          9.68725,
          10.216083333333334,
          10.216083333333334,
          10.217083333333333,
          9.68725,
          9.154083333333334,
          10.754916666666666,
          9.661166666666666,
          9.477,
          10.294,
          10.294,
          8.936666666666666,
          10.294,
          10.754916666666666,
          9.477,
          9.68725,
          9.661166666666666,
          10.754916666666666,
          10.294,
          6.124666666666667,
          10.294,
          10.294,
          10.217083333333333,
          10.294,
          9.154083333333334,
          10.294,
          9.661166666666666,
          10.217083333333333,
          10.217083333333333,
          10.217083333333333,
          10.216083333333334,
          10.06575,
          9.154083333333334,
          10.217083333333333,
          10.294,
          10.216083333333334,
          9.410583333333333,
          10.754916666666666,
          9.68725,
          9.661166666666666,
          10.294,
          10.216083333333334,
          10.754916666666666,
          10.216083333333334,
          9.661166666666666,
          10.217083333333333,
          9.68725,
          10.294,
          10.216083333333334
         ]
        },
        {
         "name": "2004",
         "type": "scatter",
         "x": [
          "Aachen",
          "Augsburg",
          "Bergisch Gladbach",
          "Berlin",
          "Bielefeld",
          "Bochum",
          "Bonn",
          "Bottrop",
          "Bremen",
          "Bremerhaven",
          "Brunswick",
          "Chemnitz",
          "Cologne",
          "Cottbus",
          "Darmstadt",
          "Dortmund",
          "Dresden",
          "Duisburg",
          "Düsseldorf",
          "Erfurt",
          "Erlangen",
          "Essen",
          "Frankfurt",
          "Freiburg",
          "Fürth",
          "Gelsenkirchen",
          "Gera",
          "Göttingen",
          "Hagen",
          "Halle",
          "Hamburg",
          "Hamm",
          "Hanover",
          "Heidelberg",
          "Heilbronn",
          "Herne",
          "Hildesheim",
          "Ingolstadt",
          "Karlsruhe",
          "Kassel",
          "Kiel",
          "Koblenz",
          "Krefeld",
          "Leipzig",
          "Leverkusen",
          "Ludwigshafen",
          "Lübeck",
          "Magdeburg",
          "Mainz",
          "Mannheim",
          "Moers",
          "Munich",
          "Mönchengladbach",
          "Mülheim",
          "Münster",
          "Neuss",
          "Nuremberg",
          "Oberhausen",
          "Offenbach",
          "Oldenburg",
          "Osnabrück",
          "Paderborn",
          "Pforzheim",
          "Potsdam",
          "Ratisbon",
          "Recklinghausen",
          "Remscheid",
          "Reutlingen",
          "Rostock",
          "Saarbrücken",
          "Salzgitter",
          "Siegen",
          "Solingen",
          "Stuttgart",
          "Trier",
          "Ulm",
          "Wiesbaden",
          "Witten",
          "Wolfsburg",
          "Wuppertal",
          "Würzburg"
         ],
         "y": [
          9.852125,
          5.221708333333333,
          9.852125,
          9.870833333333334,
          10.134333333333334,
          10.134333333333334,
          9.852125,
          10.134333333333334,
          9.526083333333334,
          9.526083333333334,
          9.486666666666666,
          9.148333333333333,
          9.852125,
          9.870833333333334,
          9.107125,
          10.134333333333334,
          9.148333333333333,
          9.852125,
          9.852125,
          8.460166666666666,
          9.441791666666667,
          9.852125,
          9.107125,
          7.57825,
          9.441791666666667,
          10.134333333333334,
          8.460166666666666,
          9.486666666666666,
          10.134333333333334,
          8.460166666666666,
          9.526083333333334,
          10.134333333333334,
          9.486666666666666,
          9.441791666666667,
          9.441791666666667,
          10.134333333333334,
          9.486666666666666,
          8.441333333333334,
          9.964458333333333,
          9.107125,
          9.526083333333334,
          9.852125,
          9.852125,
          8.460166666666666,
          9.852125,
          9.964458333333333,
          9.526083333333334,
          9.486666666666666,
          9.107125,
          9.964458333333333,
          9.852125,
          5.221708333333333,
          9.852125,
          9.852125,
          10.134333333333334,
          9.852125,
          8.441333333333334,
          9.852125,
          9.107125,
          10.134333333333334,
          10.134333333333334,
          10.134333333333334,
          9.441791666666667,
          9.870833333333334,
          8.441333333333334,
          10.134333333333334,
          9.852125,
          9.441791666666667,
          9.335416666666667,
          9.964458333333333,
          9.486666666666666,
          9.107125,
          9.852125,
          9.441791666666667,
          9.964458333333333,
          9.441791666666667,
          9.107125,
          10.134333333333334,
          9.486666666666666,
          9.852125,
          9.441791666666667
         ]
        },
        {
         "name": "2005",
         "type": "scatter",
         "x": [
          "Aachen",
          "Augsburg",
          "Bergisch Gladbach",
          "Berlin",
          "Bielefeld",
          "Bochum",
          "Bonn",
          "Bottrop",
          "Bremen",
          "Bremerhaven",
          "Brunswick",
          "Chemnitz",
          "Cologne",
          "Cottbus",
          "Darmstadt",
          "Dortmund",
          "Dresden",
          "Duisburg",
          "Düsseldorf",
          "Erfurt",
          "Erlangen",
          "Essen",
          "Frankfurt",
          "Freiburg",
          "Fürth",
          "Gelsenkirchen",
          "Gera",
          "Göttingen",
          "Hagen",
          "Halle",
          "Hamburg",
          "Hamm",
          "Hanover",
          "Heidelberg",
          "Heilbronn",
          "Herne",
          "Hildesheim",
          "Ingolstadt",
          "Karlsruhe",
          "Kassel",
          "Kiel",
          "Koblenz",
          "Krefeld",
          "Leipzig",
          "Leverkusen",
          "Ludwigshafen",
          "Lübeck",
          "Magdeburg",
          "Mainz",
          "Mannheim",
          "Moers",
          "Munich",
          "Mönchengladbach",
          "Mülheim",
          "Münster",
          "Neuss",
          "Nuremberg",
          "Oberhausen",
          "Offenbach",
          "Oldenburg",
          "Osnabrück",
          "Paderborn",
          "Pforzheim",
          "Potsdam",
          "Ratisbon",
          "Recklinghausen",
          "Remscheid",
          "Reutlingen",
          "Rostock",
          "Saarbrücken",
          "Salzgitter",
          "Siegen",
          "Solingen",
          "Stuttgart",
          "Trier",
          "Ulm",
          "Wiesbaden",
          "Witten",
          "Wolfsburg",
          "Wuppertal",
          "Würzburg"
         ],
         "y": [
          10.356611111111112,
          5.744472222222222,
          10.356611111111112,
          10.449194444444444,
          10.62136111111111,
          10.62136111111111,
          10.356611111111112,
          10.62136111111111,
          10.031638888888889,
          10.031638888888889,
          10.006333333333334,
          9.679305555555555,
          10.356611111111112,
          10.449194444444444,
          9.608305555555555,
          10.62136111111111,
          9.679305555555555,
          10.356611111111112,
          10.356611111111112,
          9.010972222222222,
          9.933666666666667,
          10.356611111111112,
          9.608305555555555,
          8.033888888888889,
          9.933666666666667,
          10.62136111111111,
          9.010972222222222,
          10.006333333333334,
          10.62136111111111,
          9.010972222222222,
          10.031638888888889,
          10.62136111111111,
          10.006333333333334,
          9.933666666666667,
          9.933666666666667,
          10.62136111111111,
          10.006333333333334,
          8.995,
          10.425277777777778,
          9.608305555555555,
          10.031638888888889,
          10.356611111111112,
          10.356611111111112,
          9.010972222222222,
          10.356611111111112,
          10.425277777777778,
          10.031638888888889,
          10.006333333333334,
          9.608305555555555,
          10.425277777777778,
          10.356611111111112,
          5.744472222222222,
          10.356611111111112,
          10.356611111111112,
          10.62136111111111,
          10.356611111111112,
          8.995,
          10.356611111111112,
          9.608305555555555,
          10.62136111111111,
          10.62136111111111,
          10.62136111111111,
          9.933666666666667,
          10.449194444444444,
          8.995,
          10.62136111111111,
          10.356611111111112,
          9.933666666666667,
          9.900972222222222,
          10.425277777777778,
          10.006333333333334,
          9.608305555555555,
          10.356611111111112,
          9.933666666666667,
          10.425277777777778,
          9.933666666666667,
          9.608305555555555,
          10.62136111111111,
          10.006333333333334,
          10.356611111111112,
          9.933666666666667
         ]
        },
        {
         "name": "2006",
         "type": "scatter",
         "x": [
          "Aachen",
          "Augsburg",
          "Bergisch Gladbach",
          "Berlin",
          "Bielefeld",
          "Bochum",
          "Bonn",
          "Bottrop",
          "Bremen",
          "Bremerhaven",
          "Brunswick",
          "Chemnitz",
          "Cologne",
          "Cottbus",
          "Darmstadt",
          "Dortmund",
          "Dresden",
          "Duisburg",
          "Düsseldorf",
          "Erfurt",
          "Erlangen",
          "Essen",
          "Frankfurt",
          "Freiburg",
          "Fürth",
          "Gelsenkirchen",
          "Gera",
          "Göttingen",
          "Hagen",
          "Halle",
          "Hamburg",
          "Hamm",
          "Hanover",
          "Heidelberg",
          "Heilbronn",
          "Herne",
          "Hildesheim",
          "Ingolstadt",
          "Karlsruhe",
          "Kassel",
          "Kiel",
          "Koblenz",
          "Krefeld",
          "Leipzig",
          "Leverkusen",
          "Ludwigshafen",
          "Lübeck",
          "Magdeburg",
          "Mainz",
          "Mannheim",
          "Moers",
          "Munich",
          "Mönchengladbach",
          "Mülheim",
          "Münster",
          "Neuss",
          "Nuremberg",
          "Oberhausen",
          "Offenbach",
          "Oldenburg",
          "Osnabrück",
          "Paderborn",
          "Pforzheim",
          "Potsdam",
          "Ratisbon",
          "Recklinghausen",
          "Remscheid",
          "Reutlingen",
          "Rostock",
          "Saarbrücken",
          "Salzgitter",
          "Siegen",
          "Solingen",
          "Stuttgart",
          "Trier",
          "Ulm",
          "Wiesbaden",
          "Witten",
          "Wolfsburg",
          "Wuppertal",
          "Würzburg"
         ],
         "y": [
          10.220083333333333,
          6.0140416666666665,
          10.220083333333333,
          10.5371875,
          10.556770833333333,
          10.556770833333333,
          10.220083333333333,
          10.556770833333333,
          10.042083333333332,
          10.042083333333332,
          10.049291666666667,
          9.822145833333334,
          10.220083333333333,
          10.5371875,
          9.591729166666667,
          10.556770833333333,
          9.822145833333334,
          10.220083333333333,
          10.220083333333333,
          9.0941875,
          10.064416666666666,
          10.220083333333333,
          9.591729166666667,
          8.184708333333333,
          10.064416666666666,
          10.556770833333333,
          9.0941875,
          10.049291666666667,
          10.556770833333333,
          9.0941875,
          10.042083333333332,
          10.556770833333333,
          10.049291666666667,
          10.064416666666666,
          10.064416666666666,
          10.556770833333333,
          10.049291666666667,
          9.241020833333334,
          10.404541666666667,
          9.591729166666667,
          10.042083333333332,
          10.220083333333333,
          10.220083333333333,
          9.0941875,
          10.220083333333333,
          10.404541666666667,
          10.042083333333332,
          10.049291666666667,
          9.591729166666667,
          10.404541666666667,
          10.220083333333333,
          6.0140416666666665,
          10.220083333333333,
          10.220083333333333,
          10.556770833333333,
          10.220083333333333,
          9.241020833333334,
          10.220083333333333,
          9.591729166666667,
          10.556770833333333,
          10.556770833333333,
          10.556770833333333,
          10.064416666666666,
          10.5371875,
          9.241020833333334,
          10.556770833333333,
          10.220083333333333,
          10.064416666666666,
          9.931166666666668,
          10.404541666666667,
          10.049291666666667,
          9.591729166666667,
          10.220083333333333,
          10.064416666666666,
          10.404541666666667,
          10.064416666666666,
          9.591729166666667,
          10.556770833333333,
          10.049291666666667,
          10.220083333333333,
          10.064416666666666
         ]
        },
        {
         "name": "2007",
         "type": "scatter",
         "x": [
          "Aachen",
          "Augsburg",
          "Bergisch Gladbach",
          "Berlin",
          "Bielefeld",
          "Bochum",
          "Bonn",
          "Bottrop",
          "Bremen",
          "Bremerhaven",
          "Brunswick",
          "Chemnitz",
          "Cologne",
          "Cottbus",
          "Darmstadt",
          "Dortmund",
          "Dresden",
          "Duisburg",
          "Düsseldorf",
          "Erfurt",
          "Erlangen",
          "Essen",
          "Frankfurt",
          "Freiburg",
          "Fürth",
          "Gelsenkirchen",
          "Gera",
          "Göttingen",
          "Hagen",
          "Halle",
          "Hamburg",
          "Hamm",
          "Hanover",
          "Heidelberg",
          "Heilbronn",
          "Herne",
          "Hildesheim",
          "Ingolstadt",
          "Karlsruhe",
          "Kassel",
          "Kiel",
          "Koblenz",
          "Krefeld",
          "Leipzig",
          "Leverkusen",
          "Ludwigshafen",
          "Lübeck",
          "Magdeburg",
          "Mainz",
          "Mannheim",
          "Moers",
          "Munich",
          "Mönchengladbach",
          "Mülheim",
          "Münster",
          "Neuss",
          "Nuremberg",
          "Oberhausen",
          "Offenbach",
          "Oldenburg",
          "Osnabrück",
          "Paderborn",
          "Pforzheim",
          "Potsdam",
          "Ratisbon",
          "Recklinghausen",
          "Remscheid",
          "Reutlingen",
          "Rostock",
          "Saarbrücken",
          "Salzgitter",
          "Siegen",
          "Solingen",
          "Stuttgart",
          "Trier",
          "Ulm",
          "Wiesbaden",
          "Witten",
          "Wolfsburg",
          "Wuppertal",
          "Würzburg"
         ],
         "y": [
          9.953416666666667,
          5.905183333333333,
          9.953416666666667,
          10.153333333333334,
          10.147333333333334,
          10.147333333333334,
          9.953416666666667,
          10.147333333333334,
          9.542983333333332,
          9.542983333333332,
          9.654566666666666,
          9.516866666666665,
          9.953416666666667,
          10.153333333333334,
          9.337833333333332,
          10.147333333333334,
          9.516866666666665,
          9.953416666666667,
          9.953416666666667,
          8.78905,
          9.875116666666667,
          9.953416666666667,
          9.337833333333332,
          8.059333333333333,
          9.875116666666667,
          10.147333333333334,
          8.78905,
          9.654566666666666,
          10.147333333333334,
          8.78905,
          9.542983333333332,
          10.147333333333334,
          9.654566666666666,
          9.875116666666667,
          9.875116666666667,
          10.147333333333334,
          9.654566666666666,
          9.040366666666667,
          10.220316666666667,
          9.337833333333332,
          9.542983333333332,
          9.953416666666667,
          9.953416666666667,
          8.78905,
          9.953416666666667,
          10.220316666666667,
          9.542983333333332,
          9.654566666666666,
          9.337833333333332,
          10.220316666666667,
          9.953416666666667,
          5.905183333333333,
          9.953416666666667,
          9.953416666666667,
          10.147333333333334,
          9.953416666666667,
          9.040366666666667,
          9.953416666666667,
          9.337833333333332,
          10.147333333333334,
          10.147333333333334,
          10.147333333333334,
          9.875116666666667,
          10.153333333333334,
          9.040366666666667,
          10.147333333333334,
          9.953416666666667,
          9.875116666666667,
          9.467566666666666,
          10.220316666666667,
          9.654566666666666,
          9.337833333333332,
          9.953416666666667,
          9.875116666666667,
          10.220316666666667,
          9.875116666666667,
          9.337833333333332,
          10.147333333333334,
          9.654566666666666,
          9.953416666666667,
          9.875116666666667
         ]
        },
        {
         "name": "2008",
         "type": "scatter",
         "x": [
          "Aachen",
          "Augsburg",
          "Bergisch Gladbach",
          "Berlin",
          "Bielefeld",
          "Bochum",
          "Bonn",
          "Bottrop",
          "Bremen",
          "Bremerhaven",
          "Brunswick",
          "Chemnitz",
          "Cologne",
          "Cottbus",
          "Darmstadt",
          "Dortmund",
          "Dresden",
          "Duisburg",
          "Düsseldorf",
          "Erfurt",
          "Erlangen",
          "Essen",
          "Frankfurt",
          "Freiburg",
          "Fürth",
          "Gelsenkirchen",
          "Gera",
          "Göttingen",
          "Hagen",
          "Halle",
          "Hamburg",
          "Hamm",
          "Hanover",
          "Heidelberg",
          "Heilbronn",
          "Herne",
          "Hildesheim",
          "Ingolstadt",
          "Karlsruhe",
          "Kassel",
          "Kiel",
          "Koblenz",
          "Krefeld",
          "Leipzig",
          "Leverkusen",
          "Ludwigshafen",
          "Lübeck",
          "Magdeburg",
          "Mainz",
          "Mannheim",
          "Moers",
          "Munich",
          "Mönchengladbach",
          "Mülheim",
          "Münster",
          "Neuss",
          "Nuremberg",
          "Oberhausen",
          "Offenbach",
          "Oldenburg",
          "Osnabrück",
          "Paderborn",
          "Pforzheim",
          "Potsdam",
          "Ratisbon",
          "Recklinghausen",
          "Remscheid",
          "Reutlingen",
          "Rostock",
          "Saarbrücken",
          "Salzgitter",
          "Siegen",
          "Solingen",
          "Stuttgart",
          "Trier",
          "Ulm",
          "Wiesbaden",
          "Witten",
          "Wolfsburg",
          "Wuppertal",
          "Würzburg"
         ],
         "y": [
          9.82640579710145,
          5.959666666666666,
          9.82640579710145,
          10.041608695652174,
          9.982840579710146,
          9.982840579710146,
          9.82640579710145,
          9.982840579710146,
          9.355898550724637,
          9.355898550724637,
          9.510449275362319,
          9.456159420289856,
          9.82640579710145,
          10.041608695652174,
          9.271115942028985,
          9.982840579710146,
          9.456159420289856,
          9.82640579710145,
          9.82640579710145,
          8.728985507246378,
          9.862855072463768,
          9.82640579710145,
          9.271115942028985,
          8.046449275362319,
          9.862855072463768,
          9.982840579710146,
          8.728985507246378,
          9.510449275362319,
          9.982840579710146,
          8.728985507246378,
          9.355898550724637,
          9.982840579710146,
          9.510449275362319,
          9.862855072463768,
          9.862855072463768,
          9.982840579710146,
          9.510449275362319,
          9.037217391304347,
          10.172971014492752,
          9.271115942028985,
          9.355898550724637,
          9.82640579710145,
          9.82640579710145,
          8.728985507246378,
          9.82640579710145,
          10.172971014492752,
          9.355898550724637,
          9.510449275362319,
          9.271115942028985,
          10.172971014492752,
          9.82640579710145,
          5.959666666666666,
          9.82640579710145,
          9.82640579710145,
          9.982840579710146,
          9.82640579710145,
          9.037217391304347,
          9.82640579710145,
          9.271115942028985,
          9.982840579710146,
          9.982840579710146,
          9.982840579710146,
          9.862855072463768,
          10.041608695652174,
          9.037217391304347,
          9.982840579710146,
          9.82640579710145,
          9.862855072463768,
          9.33568115942029,
          10.172971014492752,
          9.510449275362319,
          9.271115942028985,
          9.82640579710145,
          9.862855072463768,
          10.172971014492752,
          9.862855072463768,
          9.271115942028985,
          9.982840579710146,
          9.510449275362319,
          9.82640579710145,
          9.862855072463768
         ]
        },
        {
         "name": "2009",
         "type": "scatter",
         "x": [
          "Aachen",
          "Augsburg",
          "Bergisch Gladbach",
          "Berlin",
          "Bielefeld",
          "Bochum",
          "Bonn",
          "Bottrop",
          "Bremen",
          "Bremerhaven",
          "Brunswick",
          "Chemnitz",
          "Cologne",
          "Cottbus",
          "Darmstadt",
          "Dortmund",
          "Dresden",
          "Duisburg",
          "Düsseldorf",
          "Erfurt",
          "Erlangen",
          "Essen",
          "Frankfurt",
          "Freiburg",
          "Fürth",
          "Gelsenkirchen",
          "Gera",
          "Göttingen",
          "Hagen",
          "Halle",
          "Hamburg",
          "Hamm",
          "Hanover",
          "Heidelberg",
          "Heilbronn",
          "Herne",
          "Hildesheim",
          "Ingolstadt",
          "Karlsruhe",
          "Kassel",
          "Kiel",
          "Koblenz",
          "Krefeld",
          "Leipzig",
          "Leverkusen",
          "Ludwigshafen",
          "Lübeck",
          "Magdeburg",
          "Mainz",
          "Mannheim",
          "Moers",
          "Munich",
          "Mönchengladbach",
          "Mülheim",
          "Münster",
          "Neuss",
          "Nuremberg",
          "Oberhausen",
          "Offenbach",
          "Oldenburg",
          "Osnabrück",
          "Paderborn",
          "Pforzheim",
          "Potsdam",
          "Ratisbon",
          "Recklinghausen",
          "Remscheid",
          "Reutlingen",
          "Rostock",
          "Saarbrücken",
          "Salzgitter",
          "Siegen",
          "Solingen",
          "Stuttgart",
          "Trier",
          "Ulm",
          "Wiesbaden",
          "Witten",
          "Wolfsburg",
          "Wuppertal",
          "Würzburg"
         ],
         "y": [
          9.818684210526316,
          5.963333333333334,
          9.818684210526316,
          9.911894736842104,
          9.900929824561402,
          9.900929824561402,
          9.818684210526316,
          9.900929824561402,
          9.2119649122807,
          9.2119649122807,
          9.394649122807017,
          9.361105263157894,
          9.818684210526316,
          9.911894736842104,
          9.228701754385964,
          9.900929824561402,
          9.361105263157894,
          9.818684210526316,
          9.818684210526316,
          8.64578947368421,
          9.829298245614035,
          9.818684210526316,
          9.228701754385964,
          8.060175438596492,
          9.829298245614035,
          9.900929824561402,
          8.64578947368421,
          9.394649122807017,
          9.900929824561402,
          8.64578947368421,
          9.2119649122807,
          9.900929824561402,
          9.394649122807017,
          9.829298245614035,
          9.829298245614035,
          9.900929824561402,
          9.394649122807017,
          8.980280701754385,
          10.178245614035086,
          9.228701754385964,
          9.2119649122807,
          9.818684210526316,
          9.818684210526316,
          8.64578947368421,
          9.818684210526316,
          10.178245614035086,
          9.2119649122807,
          9.394649122807017,
          9.228701754385964,
          10.178245614035086,
          9.818684210526316,
          5.963333333333334,
          9.818684210526316,
          9.818684210526316,
          9.900929824561402,
          9.818684210526316,
          8.980280701754385,
          9.818684210526316,
          9.228701754385964,
          9.900929824561402,
          9.900929824561402,
          9.900929824561402,
          9.829298245614035,
          9.911894736842104,
          8.980280701754385,
          9.900929824561402,
          9.818684210526316,
          9.829298245614035,
          9.188947368421053,
          10.178245614035086,
          9.394649122807017,
          9.228701754385964,
          9.818684210526316,
          9.829298245614035,
          10.178245614035086,
          9.829298245614035,
          9.228701754385964,
          9.900929824561402,
          9.394649122807017,
          9.818684210526316,
          9.829298245614035
         ]
        },
        {
         "name": "2010",
         "type": "scatter",
         "x": [
          "Aachen",
          "Augsburg",
          "Bergisch Gladbach",
          "Berlin",
          "Bielefeld",
          "Bochum",
          "Bonn",
          "Bottrop",
          "Bremen",
          "Bremerhaven",
          "Brunswick",
          "Chemnitz",
          "Cologne",
          "Cottbus",
          "Darmstadt",
          "Dortmund",
          "Dresden",
          "Duisburg",
          "Düsseldorf",
          "Erfurt",
          "Erlangen",
          "Essen",
          "Frankfurt",
          "Freiburg",
          "Fürth",
          "Gelsenkirchen",
          "Gera",
          "Göttingen",
          "Hagen",
          "Halle",
          "Hamburg",
          "Hamm",
          "Hanover",
          "Heidelberg",
          "Heilbronn",
          "Herne",
          "Hildesheim",
          "Ingolstadt",
          "Karlsruhe",
          "Kassel",
          "Kiel",
          "Koblenz",
          "Krefeld",
          "Leipzig",
          "Leverkusen",
          "Ludwigshafen",
          "Lübeck",
          "Magdeburg",
          "Mainz",
          "Mannheim",
          "Moers",
          "Munich",
          "Mönchengladbach",
          "Mülheim",
          "Münster",
          "Neuss",
          "Nuremberg",
          "Oberhausen",
          "Offenbach",
          "Oldenburg",
          "Osnabrück",
          "Paderborn",
          "Pforzheim",
          "Potsdam",
          "Ratisbon",
          "Recklinghausen",
          "Remscheid",
          "Reutlingen",
          "Rostock",
          "Saarbrücken",
          "Salzgitter",
          "Siegen",
          "Solingen",
          "Stuttgart",
          "Trier",
          "Ulm",
          "Wiesbaden",
          "Witten",
          "Wolfsburg",
          "Wuppertal",
          "Würzburg"
         ],
         "y": [
          9.772,
          5.9819555555555555,
          9.772,
          9.871733333333333,
          9.816,
          9.816,
          9.772,
          9.816,
          9.105977777777778,
          9.105977777777778,
          9.321555555555555,
          9.332666666666666,
          9.772,
          9.871733333333333,
          9.204422222222222,
          9.816,
          9.332666666666666,
          9.772,
          9.772,
          8.620533333333334,
          9.824555555555555,
          9.772,
          9.204422222222222,
          8.03748888888889,
          9.824555555555555,
          9.816,
          8.620533333333334,
          9.321555555555555,
          9.816,
          8.620533333333334,
          9.105977777777778,
          9.816,
          9.321555555555555,
          9.824555555555555,
          9.824555555555555,
          9.816,
          9.321555555555555,
          8.96951111111111,
          10.15308888888889,
          9.204422222222222,
          9.105977777777778,
          9.772,
          9.772,
          8.620533333333334,
          9.772,
          10.15308888888889,
          9.105977777777778,
          9.321555555555555,
          9.204422222222222,
          10.15308888888889,
          9.772,
          5.9819555555555555,
          9.772,
          9.772,
          9.816,
          9.772,
          8.96951111111111,
          9.772,
          9.204422222222222,
          9.816,
          9.816,
          9.816,
          9.824555555555555,
          9.871733333333333,
          8.96951111111111,
          9.816,
          9.772,
          9.824555555555555,
          9.128955555555555,
          10.15308888888889,
          9.321555555555555,
          9.204422222222222,
          9.772,
          9.824555555555555,
          10.15308888888889,
          9.824555555555555,
          9.204422222222222,
          9.816,
          9.321555555555555,
          9.772,
          9.824555555555555
         ]
        },
        {
         "name": "2011",
         "type": "scatter",
         "x": [
          "Aachen",
          "Augsburg",
          "Bergisch Gladbach",
          "Berlin",
          "Bielefeld",
          "Bochum",
          "Bonn",
          "Bottrop",
          "Bremen",
          "Bremerhaven",
          "Brunswick",
          "Chemnitz",
          "Cologne",
          "Cottbus",
          "Darmstadt",
          "Dortmund",
          "Dresden",
          "Duisburg",
          "Düsseldorf",
          "Erfurt",
          "Erlangen",
          "Essen",
          "Frankfurt",
          "Freiburg",
          "Fürth",
          "Gelsenkirchen",
          "Gera",
          "Göttingen",
          "Hagen",
          "Halle",
          "Hamburg",
          "Hamm",
          "Hanover",
          "Heidelberg",
          "Heilbronn",
          "Herne",
          "Hildesheim",
          "Ingolstadt",
          "Karlsruhe",
          "Kassel",
          "Kiel",
          "Koblenz",
          "Krefeld",
          "Leipzig",
          "Leverkusen",
          "Ludwigshafen",
          "Lübeck",
          "Magdeburg",
          "Mainz",
          "Mannheim",
          "Moers",
          "Munich",
          "Mönchengladbach",
          "Mülheim",
          "Münster",
          "Neuss",
          "Nuremberg",
          "Oberhausen",
          "Offenbach",
          "Oldenburg",
          "Osnabrück",
          "Paderborn",
          "Pforzheim",
          "Potsdam",
          "Ratisbon",
          "Recklinghausen",
          "Remscheid",
          "Reutlingen",
          "Rostock",
          "Saarbrücken",
          "Salzgitter",
          "Siegen",
          "Solingen",
          "Stuttgart",
          "Trier",
          "Ulm",
          "Wiesbaden",
          "Witten",
          "Wolfsburg",
          "Wuppertal",
          "Würzburg"
         ],
         "y": [
          10.160454545454545,
          6.394363636363637,
          10.160454545454545,
          10.33169696969697,
          10.227757575757577,
          10.227757575757577,
          10.160454545454545,
          10.227757575757577,
          9.519,
          9.519,
          9.760121212121213,
          9.771484848484848,
          10.160454545454545,
          10.33169696969697,
          9.622151515151515,
          10.227757575757577,
          9.771484848484848,
          10.160454545454545,
          10.160454545454545,
          9.084727272727273,
          10.232757575757574,
          10.160454545454545,
          9.622151515151515,
          8.39130303030303,
          10.232757575757574,
          10.227757575757577,
          9.084727272727273,
          9.760121212121213,
          10.227757575757577,
          9.084727272727273,
          9.519,
          10.227757575757577,
          9.760121212121213,
          10.232757575757574,
          10.232757575757574,
          10.227757575757577,
          9.760121212121213,
          9.378181818181819,
          10.529333333333334,
          9.622151515151515,
          9.519,
          10.160454545454545,
          10.160454545454545,
          9.084727272727273,
          10.160454545454545,
          10.529333333333334,
          9.519,
          9.760121212121213,
          9.622151515151515,
          10.529333333333334,
          10.160454545454545,
          6.394363636363637,
          10.160454545454545,
          10.160454545454545,
          10.227757575757577,
          10.160454545454545,
          9.378181818181819,
          10.160454545454545,
          9.622151515151515,
          10.227757575757577,
          10.227757575757577,
          10.227757575757577,
          10.232757575757574,
          10.33169696969697,
          9.378181818181819,
          10.227757575757577,
          10.160454545454545,
          10.232757575757574,
          9.558909090909092,
          10.529333333333334,
          9.760121212121213,
          9.622151515151515,
          10.160454545454545,
          10.232757575757574,
          10.529333333333334,
          10.232757575757574,
          9.622151515151515,
          10.227757575757577,
          9.760121212121213,
          10.160454545454545,
          10.232757575757574
         ]
        },
        {
         "name": "2012",
         "type": "scatter",
         "x": [
          "Aachen",
          "Augsburg",
          "Bergisch Gladbach",
          "Berlin",
          "Bielefeld",
          "Bochum",
          "Bonn",
          "Bottrop",
          "Bremen",
          "Bremerhaven",
          "Brunswick",
          "Chemnitz",
          "Cologne",
          "Cottbus",
          "Darmstadt",
          "Dortmund",
          "Dresden",
          "Duisburg",
          "Düsseldorf",
          "Erfurt",
          "Erlangen",
          "Essen",
          "Frankfurt",
          "Freiburg",
          "Fürth",
          "Gelsenkirchen",
          "Gera",
          "Göttingen",
          "Hagen",
          "Halle",
          "Hamburg",
          "Hamm",
          "Hanover",
          "Heidelberg",
          "Heilbronn",
          "Herne",
          "Hildesheim",
          "Ingolstadt",
          "Karlsruhe",
          "Kassel",
          "Kiel",
          "Koblenz",
          "Krefeld",
          "Leipzig",
          "Leverkusen",
          "Ludwigshafen",
          "Lübeck",
          "Magdeburg",
          "Mainz",
          "Mannheim",
          "Moers",
          "Munich",
          "Mönchengladbach",
          "Mülheim",
          "Münster",
          "Neuss",
          "Nuremberg",
          "Oberhausen",
          "Offenbach",
          "Oldenburg",
          "Osnabrück",
          "Paderborn",
          "Pforzheim",
          "Potsdam",
          "Ratisbon",
          "Recklinghausen",
          "Remscheid",
          "Reutlingen",
          "Rostock",
          "Saarbrücken",
          "Salzgitter",
          "Siegen",
          "Solingen",
          "Stuttgart",
          "Trier",
          "Ulm",
          "Wiesbaden",
          "Witten",
          "Wolfsburg",
          "Wuppertal",
          "Würzburg"
         ],
         "y": [
          9.878047619047619,
          6.297952380952381,
          9.878047619047619,
          10.203285714285714,
          10.024428571428572,
          10.024428571428572,
          9.878047619047619,
          10.024428571428572,
          9.400190476190476,
          9.400190476190476,
          9.582190476190476,
          9.734857142857143,
          9.878047619047619,
          10.203285714285714,
          9.441809523809523,
          10.024428571428572,
          9.734857142857143,
          9.878047619047619,
          9.878047619047619,
          8.963619047619048,
          10.105,
          9.878047619047619,
          9.441809523809523,
          8.226095238095237,
          10.105,
          10.024428571428572,
          8.963619047619048,
          9.582190476190476,
          10.024428571428572,
          8.963619047619048,
          9.400190476190476,
          10.024428571428572,
          9.582190476190476,
          10.105,
          10.105,
          10.024428571428572,
          9.582190476190476,
          9.36490476190476,
          10.30052380952381,
          9.441809523809523,
          9.400190476190476,
          9.878047619047619,
          9.878047619047619,
          8.963619047619048,
          9.878047619047619,
          10.30052380952381,
          9.400190476190476,
          9.582190476190476,
          9.441809523809523,
          10.30052380952381,
          9.878047619047619,
          6.297952380952381,
          9.878047619047619,
          9.878047619047619,
          10.024428571428572,
          9.878047619047619,
          9.36490476190476,
          9.878047619047619,
          9.441809523809523,
          10.024428571428572,
          10.024428571428572,
          10.024428571428572,
          10.105,
          10.203285714285714,
          9.36490476190476,
          10.024428571428572,
          9.878047619047619,
          10.105,
          9.487428571428572,
          10.30052380952381,
          9.582190476190476,
          9.441809523809523,
          9.878047619047619,
          10.105,
          10.30052380952381,
          10.105,
          9.441809523809523,
          10.024428571428572,
          9.582190476190476,
          9.878047619047619,
          10.105
         ]
        },
        {
         "name": "2013",
         "type": "scatter",
         "x": [
          "Aachen",
          "Augsburg",
          "Bergisch Gladbach",
          "Berlin",
          "Bielefeld",
          "Bochum",
          "Bonn",
          "Bottrop",
          "Bremen",
          "Bremerhaven",
          "Brunswick",
          "Chemnitz",
          "Cologne",
          "Cottbus",
          "Darmstadt",
          "Dortmund",
          "Dresden",
          "Duisburg",
          "Düsseldorf",
          "Erfurt",
          "Erlangen",
          "Essen",
          "Frankfurt",
          "Freiburg",
          "Fürth",
          "Gelsenkirchen",
          "Gera",
          "Göttingen",
          "Hagen",
          "Halle",
          "Hamburg",
          "Hamm",
          "Hanover",
          "Heidelberg",
          "Heilbronn",
          "Herne",
          "Hildesheim",
          "Ingolstadt",
          "Karlsruhe",
          "Kassel",
          "Kiel",
          "Koblenz",
          "Krefeld",
          "Leipzig",
          "Leverkusen",
          "Ludwigshafen",
          "Lübeck",
          "Magdeburg",
          "Mainz",
          "Mannheim",
          "Moers",
          "Munich",
          "Mönchengladbach",
          "Mülheim",
          "Münster",
          "Neuss",
          "Nuremberg",
          "Oberhausen",
          "Offenbach",
          "Oldenburg",
          "Osnabrück",
          "Paderborn",
          "Pforzheim",
          "Potsdam",
          "Ratisbon",
          "Recklinghausen",
          "Remscheid",
          "Reutlingen",
          "Rostock",
          "Saarbrücken",
          "Salzgitter",
          "Siegen",
          "Solingen",
          "Stuttgart",
          "Trier",
          "Ulm",
          "Wiesbaden",
          "Witten",
          "Wolfsburg",
          "Wuppertal",
          "Würzburg"
         ],
         "y": [
          9.997444444444445,
          6.860444444444444,
          9.997444444444445,
          10.521888888888888,
          10.089888888888888,
          10.089888888888888,
          9.997444444444445,
          10.089888888888888,
          9.673666666666668,
          9.673666666666668,
          9.752666666666666,
          10.030555555555557,
          9.997444444444445,
          10.521888888888888,
          9.743333333333332,
          10.089888888888888,
          10.030555555555557,
          9.997444444444445,
          9.997444444444445,
          9.237333333333332,
          10.40611111111111,
          9.997444444444445,
          9.743333333333332,
          8.586,
          10.40611111111111,
          10.089888888888888,
          9.237333333333332,
          9.752666666666666,
          10.089888888888888,
          9.237333333333332,
          9.673666666666668,
          10.089888888888888,
          9.752666666666666,
          10.40611111111111,
          10.40611111111111,
          10.089888888888888,
          9.752666666666666,
          9.815555555555555,
          10.521888888888888,
          9.743333333333332,
          9.673666666666668,
          9.997444444444445,
          9.997444444444445,
          9.237333333333332,
          9.997444444444445,
          10.521888888888888,
          9.673666666666668,
          9.752666666666666,
          9.743333333333332,
          10.521888888888888,
          9.997444444444445,
          6.860444444444444,
          9.997444444444445,
          9.997444444444445,
          10.089888888888888,
          9.997444444444445,
          9.815555555555555,
          9.997444444444445,
          9.743333333333332,
          10.089888888888888,
          10.089888888888888,
          10.089888888888888,
          10.40611111111111,
          10.521888888888888,
          9.815555555555555,
          10.089888888888888,
          9.997444444444445,
          10.40611111111111,
          9.957444444444445,
          10.521888888888888,
          9.752666666666666,
          9.743333333333332,
          9.997444444444445,
          10.40611111111111,
          10.521888888888888,
          10.40611111111111,
          9.743333333333332,
          10.089888888888888,
          9.752666666666666,
          9.997444444444445,
          10.40611111111111
         ]
        }
       ],
       "layout": {
        "height": 800,
        "template": {
         "data": {
          "bar": [
           {
            "error_x": {
             "color": "#2a3f5f"
            },
            "error_y": {
             "color": "#2a3f5f"
            },
            "marker": {
             "line": {
              "color": "#E5ECF6",
              "width": 0.5
             },
             "pattern": {
              "fillmode": "overlay",
              "size": 10,
              "solidity": 0.2
             }
            },
            "type": "bar"
           }
          ],
          "barpolar": [
           {
            "marker": {
             "line": {
              "color": "#E5ECF6",
              "width": 0.5
             },
             "pattern": {
              "fillmode": "overlay",
              "size": 10,
              "solidity": 0.2
             }
            },
            "type": "barpolar"
           }
          ],
          "carpet": [
           {
            "aaxis": {
             "endlinecolor": "#2a3f5f",
             "gridcolor": "white",
             "linecolor": "white",
             "minorgridcolor": "white",
             "startlinecolor": "#2a3f5f"
            },
            "baxis": {
             "endlinecolor": "#2a3f5f",
             "gridcolor": "white",
             "linecolor": "white",
             "minorgridcolor": "white",
             "startlinecolor": "#2a3f5f"
            },
            "type": "carpet"
           }
          ],
          "choropleth": [
           {
            "colorbar": {
             "outlinewidth": 0,
             "ticks": ""
            },
            "type": "choropleth"
           }
          ],
          "contour": [
           {
            "colorbar": {
             "outlinewidth": 0,
             "ticks": ""
            },
            "colorscale": [
             [
              0,
              "#0d0887"
             ],
             [
              0.1111111111111111,
              "#46039f"
             ],
             [
              0.2222222222222222,
              "#7201a8"
             ],
             [
              0.3333333333333333,
              "#9c179e"
             ],
             [
              0.4444444444444444,
              "#bd3786"
             ],
             [
              0.5555555555555556,
              "#d8576b"
             ],
             [
              0.6666666666666666,
              "#ed7953"
             ],
             [
              0.7777777777777778,
              "#fb9f3a"
             ],
             [
              0.8888888888888888,
              "#fdca26"
             ],
             [
              1,
              "#f0f921"
             ]
            ],
            "type": "contour"
           }
          ],
          "contourcarpet": [
           {
            "colorbar": {
             "outlinewidth": 0,
             "ticks": ""
            },
            "type": "contourcarpet"
           }
          ],
          "heatmap": [
           {
            "colorbar": {
             "outlinewidth": 0,
             "ticks": ""
            },
            "colorscale": [
             [
              0,
              "#0d0887"
             ],
             [
              0.1111111111111111,
              "#46039f"
             ],
             [
              0.2222222222222222,
              "#7201a8"
             ],
             [
              0.3333333333333333,
              "#9c179e"
             ],
             [
              0.4444444444444444,
              "#bd3786"
             ],
             [
              0.5555555555555556,
              "#d8576b"
             ],
             [
              0.6666666666666666,
              "#ed7953"
             ],
             [
              0.7777777777777778,
              "#fb9f3a"
             ],
             [
              0.8888888888888888,
              "#fdca26"
             ],
             [
              1,
              "#f0f921"
             ]
            ],
            "type": "heatmap"
           }
          ],
          "heatmapgl": [
           {
            "colorbar": {
             "outlinewidth": 0,
             "ticks": ""
            },
            "colorscale": [
             [
              0,
              "#0d0887"
             ],
             [
              0.1111111111111111,
              "#46039f"
             ],
             [
              0.2222222222222222,
              "#7201a8"
             ],
             [
              0.3333333333333333,
              "#9c179e"
             ],
             [
              0.4444444444444444,
              "#bd3786"
             ],
             [
              0.5555555555555556,
              "#d8576b"
             ],
             [
              0.6666666666666666,
              "#ed7953"
             ],
             [
              0.7777777777777778,
              "#fb9f3a"
             ],
             [
              0.8888888888888888,
              "#fdca26"
             ],
             [
              1,
              "#f0f921"
             ]
            ],
            "type": "heatmapgl"
           }
          ],
          "histogram": [
           {
            "marker": {
             "pattern": {
              "fillmode": "overlay",
              "size": 10,
              "solidity": 0.2
             }
            },
            "type": "histogram"
           }
          ],
          "histogram2d": [
           {
            "colorbar": {
             "outlinewidth": 0,
             "ticks": ""
            },
            "colorscale": [
             [
              0,
              "#0d0887"
             ],
             [
              0.1111111111111111,
              "#46039f"
             ],
             [
              0.2222222222222222,
              "#7201a8"
             ],
             [
              0.3333333333333333,
              "#9c179e"
             ],
             [
              0.4444444444444444,
              "#bd3786"
             ],
             [
              0.5555555555555556,
              "#d8576b"
             ],
             [
              0.6666666666666666,
              "#ed7953"
             ],
             [
              0.7777777777777778,
              "#fb9f3a"
             ],
             [
              0.8888888888888888,
              "#fdca26"
             ],
             [
              1,
              "#f0f921"
             ]
            ],
            "type": "histogram2d"
           }
          ],
          "histogram2dcontour": [
           {
            "colorbar": {
             "outlinewidth": 0,
             "ticks": ""
            },
            "colorscale": [
             [
              0,
              "#0d0887"
             ],
             [
              0.1111111111111111,
              "#46039f"
             ],
             [
              0.2222222222222222,
              "#7201a8"
             ],
             [
              0.3333333333333333,
              "#9c179e"
             ],
             [
              0.4444444444444444,
              "#bd3786"
             ],
             [
              0.5555555555555556,
              "#d8576b"
             ],
             [
              0.6666666666666666,
              "#ed7953"
             ],
             [
              0.7777777777777778,
              "#fb9f3a"
             ],
             [
              0.8888888888888888,
              "#fdca26"
             ],
             [
              1,
              "#f0f921"
             ]
            ],
            "type": "histogram2dcontour"
           }
          ],
          "mesh3d": [
           {
            "colorbar": {
             "outlinewidth": 0,
             "ticks": ""
            },
            "type": "mesh3d"
           }
          ],
          "parcoords": [
           {
            "line": {
             "colorbar": {
              "outlinewidth": 0,
              "ticks": ""
             }
            },
            "type": "parcoords"
           }
          ],
          "pie": [
           {
            "automargin": true,
            "type": "pie"
           }
          ],
          "scatter": [
           {
            "fillpattern": {
             "fillmode": "overlay",
             "size": 10,
             "solidity": 0.2
            },
            "type": "scatter"
           }
          ],
          "scatter3d": [
           {
            "line": {
             "colorbar": {
              "outlinewidth": 0,
              "ticks": ""
             }
            },
            "marker": {
             "colorbar": {
              "outlinewidth": 0,
              "ticks": ""
             }
            },
            "type": "scatter3d"
           }
          ],
          "scattercarpet": [
           {
            "marker": {
             "colorbar": {
              "outlinewidth": 0,
              "ticks": ""
             }
            },
            "type": "scattercarpet"
           }
          ],
          "scattergeo": [
           {
            "marker": {
             "colorbar": {
              "outlinewidth": 0,
              "ticks": ""
             }
            },
            "type": "scattergeo"
           }
          ],
          "scattergl": [
           {
            "marker": {
             "colorbar": {
              "outlinewidth": 0,
              "ticks": ""
             }
            },
            "type": "scattergl"
           }
          ],
          "scattermapbox": [
           {
            "marker": {
             "colorbar": {
              "outlinewidth": 0,
              "ticks": ""
             }
            },
            "type": "scattermapbox"
           }
          ],
          "scatterpolar": [
           {
            "marker": {
             "colorbar": {
              "outlinewidth": 0,
              "ticks": ""
             }
            },
            "type": "scatterpolar"
           }
          ],
          "scatterpolargl": [
           {
            "marker": {
             "colorbar": {
              "outlinewidth": 0,
              "ticks": ""
             }
            },
            "type": "scatterpolargl"
           }
          ],
          "scatterternary": [
           {
            "marker": {
             "colorbar": {
              "outlinewidth": 0,
              "ticks": ""
             }
            },
            "type": "scatterternary"
           }
          ],
          "surface": [
           {
            "colorbar": {
             "outlinewidth": 0,
             "ticks": ""
            },
            "colorscale": [
             [
              0,
              "#0d0887"
             ],
             [
              0.1111111111111111,
              "#46039f"
             ],
             [
              0.2222222222222222,
              "#7201a8"
             ],
             [
              0.3333333333333333,
              "#9c179e"
             ],
             [
              0.4444444444444444,
              "#bd3786"
             ],
             [
              0.5555555555555556,
              "#d8576b"
             ],
             [
              0.6666666666666666,
              "#ed7953"
             ],
             [
              0.7777777777777778,
              "#fb9f3a"
             ],
             [
              0.8888888888888888,
              "#fdca26"
             ],
             [
              1,
              "#f0f921"
             ]
            ],
            "type": "surface"
           }
          ],
          "table": [
           {
            "cells": {
             "fill": {
              "color": "#EBF0F8"
             },
             "line": {
              "color": "white"
             }
            },
            "header": {
             "fill": {
              "color": "#C8D4E3"
             },
             "line": {
              "color": "white"
             }
            },
            "type": "table"
           }
          ]
         },
         "layout": {
          "annotationdefaults": {
           "arrowcolor": "#2a3f5f",
           "arrowhead": 0,
           "arrowwidth": 1
          },
          "autotypenumbers": "strict",
          "coloraxis": {
           "colorbar": {
            "outlinewidth": 0,
            "ticks": ""
           }
          },
          "colorscale": {
           "diverging": [
            [
             0,
             "#8e0152"
            ],
            [
             0.1,
             "#c51b7d"
            ],
            [
             0.2,
             "#de77ae"
            ],
            [
             0.3,
             "#f1b6da"
            ],
            [
             0.4,
             "#fde0ef"
            ],
            [
             0.5,
             "#f7f7f7"
            ],
            [
             0.6,
             "#e6f5d0"
            ],
            [
             0.7,
             "#b8e186"
            ],
            [
             0.8,
             "#7fbc41"
            ],
            [
             0.9,
             "#4d9221"
            ],
            [
             1,
             "#276419"
            ]
           ],
           "sequential": [
            [
             0,
             "#0d0887"
            ],
            [
             0.1111111111111111,
             "#46039f"
            ],
            [
             0.2222222222222222,
             "#7201a8"
            ],
            [
             0.3333333333333333,
             "#9c179e"
            ],
            [
             0.4444444444444444,
             "#bd3786"
            ],
            [
             0.5555555555555556,
             "#d8576b"
            ],
            [
             0.6666666666666666,
             "#ed7953"
            ],
            [
             0.7777777777777778,
             "#fb9f3a"
            ],
            [
             0.8888888888888888,
             "#fdca26"
            ],
            [
             1,
             "#f0f921"
            ]
           ],
           "sequentialminus": [
            [
             0,
             "#0d0887"
            ],
            [
             0.1111111111111111,
             "#46039f"
            ],
            [
             0.2222222222222222,
             "#7201a8"
            ],
            [
             0.3333333333333333,
             "#9c179e"
            ],
            [
             0.4444444444444444,
             "#bd3786"
            ],
            [
             0.5555555555555556,
             "#d8576b"
            ],
            [
             0.6666666666666666,
             "#ed7953"
            ],
            [
             0.7777777777777778,
             "#fb9f3a"
            ],
            [
             0.8888888888888888,
             "#fdca26"
            ],
            [
             1,
             "#f0f921"
            ]
           ]
          },
          "colorway": [
           "#636efa",
           "#EF553B",
           "#00cc96",
           "#ab63fa",
           "#FFA15A",
           "#19d3f3",
           "#FF6692",
           "#B6E880",
           "#FF97FF",
           "#FECB52"
          ],
          "font": {
           "color": "#2a3f5f"
          },
          "geo": {
           "bgcolor": "white",
           "lakecolor": "white",
           "landcolor": "#E5ECF6",
           "showlakes": true,
           "showland": true,
           "subunitcolor": "white"
          },
          "hoverlabel": {
           "align": "left"
          },
          "hovermode": "closest",
          "mapbox": {
           "style": "light"
          },
          "paper_bgcolor": "white",
          "plot_bgcolor": "#E5ECF6",
          "polar": {
           "angularaxis": {
            "gridcolor": "white",
            "linecolor": "white",
            "ticks": ""
           },
           "bgcolor": "#E5ECF6",
           "radialaxis": {
            "gridcolor": "white",
            "linecolor": "white",
            "ticks": ""
           }
          },
          "scene": {
           "xaxis": {
            "backgroundcolor": "#E5ECF6",
            "gridcolor": "white",
            "gridwidth": 2,
            "linecolor": "white",
            "showbackground": true,
            "ticks": "",
            "zerolinecolor": "white"
           },
           "yaxis": {
            "backgroundcolor": "#E5ECF6",
            "gridcolor": "white",
            "gridwidth": 2,
            "linecolor": "white",
            "showbackground": true,
            "ticks": "",
            "zerolinecolor": "white"
           },
           "zaxis": {
            "backgroundcolor": "#E5ECF6",
            "gridcolor": "white",
            "gridwidth": 2,
            "linecolor": "white",
            "showbackground": true,
            "ticks": "",
            "zerolinecolor": "white"
           }
          },
          "shapedefaults": {
           "line": {
            "color": "#2a3f5f"
           }
          },
          "ternary": {
           "aaxis": {
            "gridcolor": "white",
            "linecolor": "white",
            "ticks": ""
           },
           "baxis": {
            "gridcolor": "white",
            "linecolor": "white",
            "ticks": ""
           },
           "bgcolor": "#E5ECF6",
           "caxis": {
            "gridcolor": "white",
            "linecolor": "white",
            "ticks": ""
           }
          },
          "title": {
           "x": 0.05
          },
          "xaxis": {
           "automargin": true,
           "gridcolor": "white",
           "linecolor": "white",
           "ticks": "",
           "title": {
            "standoff": 15
           },
           "zerolinecolor": "white",
           "zerolinewidth": 2
          },
          "yaxis": {
           "automargin": true,
           "gridcolor": "white",
           "linecolor": "white",
           "ticks": "",
           "title": {
            "standoff": 15
           },
           "zerolinecolor": "white",
           "zerolinewidth": 2
          }
         }
        },
        "title": {
         "text": "Mean Temperature For Cities (Last Decade)"
        },
        "width": 1500,
        "xaxis": {
         "rangeslider": {
          "visible": true
         },
         "title": {
          "text": "Cities"
         }
        },
        "yaxis": {
         "title": {
          "text": "Mean Temperature"
         }
        }
       }
      }
     },
     "metadata": {},
     "output_type": "display_data"
    }
   ],
   "source": [
    "fig = go.Figure()\n",
    "fig.add_trace(go.Scatter(y=last_decade['AverageTemperature2003'], x=last_decade.index,name='2003'))\n",
    "fig.add_trace(go.Scatter(y=last_decade['AverageTemperature2004'], x=last_decade.index, name='2004'))\n",
    "fig.add_trace(go.Scatter(y=last_decade['AverageTemperature2005'], x=last_decade.index, name='2005'))\n",
    "fig.add_trace(go.Scatter(y=last_decade['AverageTemperature2006'], x=last_decade.index, name='2006'))\n",
    "fig.add_trace(go.Scatter(y=last_decade['AverageTemperature2007'], x=last_decade.index, name='2007'))\n",
    "fig.add_trace(go.Scatter(y=last_decade['AverageTemperature2008'], x=last_decade.index, name='2008'))\n",
    "fig.add_trace(go.Scatter(y=last_decade['AverageTemperature2009'], x=last_decade.index, name='2009'))\n",
    "fig.add_trace(go.Scatter(y=last_decade['AverageTemperature2010'], x=last_decade.index, name='2010'))\n",
    "fig.add_trace(go.Scatter(y=last_decade['AverageTemperature2011'], x=last_decade.index, name='2011'))\n",
    "fig.add_trace(go.Scatter(y=last_decade['AverageTemperature2012'], x=last_decade.index, name='2012'))\n",
    "fig.add_trace(go.Scatter(y=last_decade['AverageTemperature2013'], x=last_decade.index, name='2013'))\n",
    "\n",
    "fig.update_xaxes(rangeslider_visible=True, title_text = 'Cities')\n",
    "fig.update_yaxes(title_text='Mean Temperature')\n",
    "fig.update_layout(title = 'Mean Temperature For Cities (Last Decade)', height=800, width=1500)\n",
    "fig.show()"
   ]
  },
  {
   "cell_type": "markdown",
   "metadata": {},
   "source": [
    "Mean Temp Increase from 2003-2013 for cities"
   ]
  },
  {
   "cell_type": "code",
   "execution_count": 209,
   "metadata": {},
   "outputs": [
    {
     "data": {
      "application/vnd.plotly.v1+json": {
       "config": {
        "plotlyServerURL": "https://plot.ly"
       },
       "data": [
        {
         "name": "Temperature",
         "type": "scatter",
         "x": [
          "Aachen",
          "Augsburg",
          "Bergisch Gladbach",
          "Berlin",
          "Bielefeld",
          "Bochum",
          "Bonn",
          "Bottrop",
          "Bremen",
          "Bremerhaven",
          "Brunswick",
          "Chemnitz",
          "Cologne",
          "Cottbus",
          "Darmstadt",
          "Dortmund",
          "Dresden",
          "Duisburg",
          "Düsseldorf",
          "Erfurt",
          "Erlangen",
          "Essen",
          "Frankfurt",
          "Freiburg",
          "Fürth",
          "Gelsenkirchen",
          "Gera",
          "Göttingen",
          "Hagen",
          "Halle",
          "Hamburg",
          "Hamm",
          "Hanover",
          "Heidelberg",
          "Heilbronn",
          "Herne",
          "Hildesheim",
          "Ingolstadt",
          "Karlsruhe",
          "Kassel",
          "Kiel",
          "Koblenz",
          "Krefeld",
          "Leipzig",
          "Leverkusen",
          "Ludwigshafen",
          "Lübeck",
          "Magdeburg",
          "Mainz",
          "Mannheim",
          "Moers",
          "Munich",
          "Mönchengladbach",
          "Mülheim",
          "Münster",
          "Neuss",
          "Nuremberg",
          "Oberhausen",
          "Offenbach",
          "Oldenburg",
          "Osnabrück",
          "Paderborn",
          "Pforzheim",
          "Potsdam",
          "Ratisbon",
          "Recklinghausen",
          "Remscheid",
          "Reutlingen",
          "Rostock",
          "Saarbrücken",
          "Salzgitter",
          "Siegen",
          "Solingen",
          "Stuttgart",
          "Trier",
          "Ulm",
          "Wiesbaden",
          "Witten",
          "Wolfsburg",
          "Wuppertal",
          "Würzburg"
         ],
         "y": [
          -0.296555555555555,
          0.735777777777777,
          -0.296555555555555,
          0.45613888888888887,
          -0.12719444444444505,
          -0.12719444444444505,
          -0.296555555555555,
          -0.12719444444444505,
          0.1966666666666672,
          0.1966666666666672,
          0.06541666666666579,
          0.5178888888888906,
          -0.296555555555555,
          0.45613888888888887,
          0.08216666666666583,
          -0.12719444444444505,
          0.5178888888888906,
          -0.296555555555555,
          -0.296555555555555,
          0.3006666666666664,
          0.19002777777777702,
          -0.296555555555555,
          0.08216666666666583,
          0.10308333333333408,
          0.19002777777777702,
          -0.12719444444444505,
          0.3006666666666664,
          0.06541666666666579,
          -0.12719444444444505,
          0.3006666666666664,
          0.1966666666666672,
          -0.12719444444444505,
          0.06541666666666579,
          0.19002777777777702,
          0.19002777777777702,
          -0.12719444444444505,
          0.06541666666666579,
          0.6614722222222209,
          -0.23302777777777806,
          0.08216666666666583,
          0.1966666666666672,
          -0.296555555555555,
          -0.296555555555555,
          0.3006666666666664,
          -0.296555555555555,
          -0.23302777777777806,
          0.1966666666666672,
          0.06541666666666579,
          0.08216666666666583,
          -0.23302777777777806,
          -0.296555555555555,
          0.735777777777777,
          -0.296555555555555,
          -0.296555555555555,
          -0.12719444444444505,
          -0.296555555555555,
          0.6614722222222209,
          -0.296555555555555,
          0.08216666666666583,
          -0.12719444444444505,
          -0.12719444444444505,
          -0.12719444444444505,
          0.19002777777777702,
          0.45613888888888887,
          0.6614722222222209,
          -0.12719444444444505,
          -0.296555555555555,
          0.19002777777777702,
          0.5468611111111112,
          -0.23302777777777806,
          0.06541666666666579,
          0.08216666666666583,
          -0.296555555555555,
          0.19002777777777702,
          -0.23302777777777806,
          0.19002777777777702,
          0.08216666666666583,
          -0.12719444444444505,
          0.06541666666666579,
          -0.296555555555555,
          0.19002777777777702
         ]
        }
       ],
       "layout": {
        "height": 800,
        "template": {
         "data": {
          "bar": [
           {
            "error_x": {
             "color": "#2a3f5f"
            },
            "error_y": {
             "color": "#2a3f5f"
            },
            "marker": {
             "line": {
              "color": "#E5ECF6",
              "width": 0.5
             },
             "pattern": {
              "fillmode": "overlay",
              "size": 10,
              "solidity": 0.2
             }
            },
            "type": "bar"
           }
          ],
          "barpolar": [
           {
            "marker": {
             "line": {
              "color": "#E5ECF6",
              "width": 0.5
             },
             "pattern": {
              "fillmode": "overlay",
              "size": 10,
              "solidity": 0.2
             }
            },
            "type": "barpolar"
           }
          ],
          "carpet": [
           {
            "aaxis": {
             "endlinecolor": "#2a3f5f",
             "gridcolor": "white",
             "linecolor": "white",
             "minorgridcolor": "white",
             "startlinecolor": "#2a3f5f"
            },
            "baxis": {
             "endlinecolor": "#2a3f5f",
             "gridcolor": "white",
             "linecolor": "white",
             "minorgridcolor": "white",
             "startlinecolor": "#2a3f5f"
            },
            "type": "carpet"
           }
          ],
          "choropleth": [
           {
            "colorbar": {
             "outlinewidth": 0,
             "ticks": ""
            },
            "type": "choropleth"
           }
          ],
          "contour": [
           {
            "colorbar": {
             "outlinewidth": 0,
             "ticks": ""
            },
            "colorscale": [
             [
              0,
              "#0d0887"
             ],
             [
              0.1111111111111111,
              "#46039f"
             ],
             [
              0.2222222222222222,
              "#7201a8"
             ],
             [
              0.3333333333333333,
              "#9c179e"
             ],
             [
              0.4444444444444444,
              "#bd3786"
             ],
             [
              0.5555555555555556,
              "#d8576b"
             ],
             [
              0.6666666666666666,
              "#ed7953"
             ],
             [
              0.7777777777777778,
              "#fb9f3a"
             ],
             [
              0.8888888888888888,
              "#fdca26"
             ],
             [
              1,
              "#f0f921"
             ]
            ],
            "type": "contour"
           }
          ],
          "contourcarpet": [
           {
            "colorbar": {
             "outlinewidth": 0,
             "ticks": ""
            },
            "type": "contourcarpet"
           }
          ],
          "heatmap": [
           {
            "colorbar": {
             "outlinewidth": 0,
             "ticks": ""
            },
            "colorscale": [
             [
              0,
              "#0d0887"
             ],
             [
              0.1111111111111111,
              "#46039f"
             ],
             [
              0.2222222222222222,
              "#7201a8"
             ],
             [
              0.3333333333333333,
              "#9c179e"
             ],
             [
              0.4444444444444444,
              "#bd3786"
             ],
             [
              0.5555555555555556,
              "#d8576b"
             ],
             [
              0.6666666666666666,
              "#ed7953"
             ],
             [
              0.7777777777777778,
              "#fb9f3a"
             ],
             [
              0.8888888888888888,
              "#fdca26"
             ],
             [
              1,
              "#f0f921"
             ]
            ],
            "type": "heatmap"
           }
          ],
          "heatmapgl": [
           {
            "colorbar": {
             "outlinewidth": 0,
             "ticks": ""
            },
            "colorscale": [
             [
              0,
              "#0d0887"
             ],
             [
              0.1111111111111111,
              "#46039f"
             ],
             [
              0.2222222222222222,
              "#7201a8"
             ],
             [
              0.3333333333333333,
              "#9c179e"
             ],
             [
              0.4444444444444444,
              "#bd3786"
             ],
             [
              0.5555555555555556,
              "#d8576b"
             ],
             [
              0.6666666666666666,
              "#ed7953"
             ],
             [
              0.7777777777777778,
              "#fb9f3a"
             ],
             [
              0.8888888888888888,
              "#fdca26"
             ],
             [
              1,
              "#f0f921"
             ]
            ],
            "type": "heatmapgl"
           }
          ],
          "histogram": [
           {
            "marker": {
             "pattern": {
              "fillmode": "overlay",
              "size": 10,
              "solidity": 0.2
             }
            },
            "type": "histogram"
           }
          ],
          "histogram2d": [
           {
            "colorbar": {
             "outlinewidth": 0,
             "ticks": ""
            },
            "colorscale": [
             [
              0,
              "#0d0887"
             ],
             [
              0.1111111111111111,
              "#46039f"
             ],
             [
              0.2222222222222222,
              "#7201a8"
             ],
             [
              0.3333333333333333,
              "#9c179e"
             ],
             [
              0.4444444444444444,
              "#bd3786"
             ],
             [
              0.5555555555555556,
              "#d8576b"
             ],
             [
              0.6666666666666666,
              "#ed7953"
             ],
             [
              0.7777777777777778,
              "#fb9f3a"
             ],
             [
              0.8888888888888888,
              "#fdca26"
             ],
             [
              1,
              "#f0f921"
             ]
            ],
            "type": "histogram2d"
           }
          ],
          "histogram2dcontour": [
           {
            "colorbar": {
             "outlinewidth": 0,
             "ticks": ""
            },
            "colorscale": [
             [
              0,
              "#0d0887"
             ],
             [
              0.1111111111111111,
              "#46039f"
             ],
             [
              0.2222222222222222,
              "#7201a8"
             ],
             [
              0.3333333333333333,
              "#9c179e"
             ],
             [
              0.4444444444444444,
              "#bd3786"
             ],
             [
              0.5555555555555556,
              "#d8576b"
             ],
             [
              0.6666666666666666,
              "#ed7953"
             ],
             [
              0.7777777777777778,
              "#fb9f3a"
             ],
             [
              0.8888888888888888,
              "#fdca26"
             ],
             [
              1,
              "#f0f921"
             ]
            ],
            "type": "histogram2dcontour"
           }
          ],
          "mesh3d": [
           {
            "colorbar": {
             "outlinewidth": 0,
             "ticks": ""
            },
            "type": "mesh3d"
           }
          ],
          "parcoords": [
           {
            "line": {
             "colorbar": {
              "outlinewidth": 0,
              "ticks": ""
             }
            },
            "type": "parcoords"
           }
          ],
          "pie": [
           {
            "automargin": true,
            "type": "pie"
           }
          ],
          "scatter": [
           {
            "fillpattern": {
             "fillmode": "overlay",
             "size": 10,
             "solidity": 0.2
            },
            "type": "scatter"
           }
          ],
          "scatter3d": [
           {
            "line": {
             "colorbar": {
              "outlinewidth": 0,
              "ticks": ""
             }
            },
            "marker": {
             "colorbar": {
              "outlinewidth": 0,
              "ticks": ""
             }
            },
            "type": "scatter3d"
           }
          ],
          "scattercarpet": [
           {
            "marker": {
             "colorbar": {
              "outlinewidth": 0,
              "ticks": ""
             }
            },
            "type": "scattercarpet"
           }
          ],
          "scattergeo": [
           {
            "marker": {
             "colorbar": {
              "outlinewidth": 0,
              "ticks": ""
             }
            },
            "type": "scattergeo"
           }
          ],
          "scattergl": [
           {
            "marker": {
             "colorbar": {
              "outlinewidth": 0,
              "ticks": ""
             }
            },
            "type": "scattergl"
           }
          ],
          "scattermapbox": [
           {
            "marker": {
             "colorbar": {
              "outlinewidth": 0,
              "ticks": ""
             }
            },
            "type": "scattermapbox"
           }
          ],
          "scatterpolar": [
           {
            "marker": {
             "colorbar": {
              "outlinewidth": 0,
              "ticks": ""
             }
            },
            "type": "scatterpolar"
           }
          ],
          "scatterpolargl": [
           {
            "marker": {
             "colorbar": {
              "outlinewidth": 0,
              "ticks": ""
             }
            },
            "type": "scatterpolargl"
           }
          ],
          "scatterternary": [
           {
            "marker": {
             "colorbar": {
              "outlinewidth": 0,
              "ticks": ""
             }
            },
            "type": "scatterternary"
           }
          ],
          "surface": [
           {
            "colorbar": {
             "outlinewidth": 0,
             "ticks": ""
            },
            "colorscale": [
             [
              0,
              "#0d0887"
             ],
             [
              0.1111111111111111,
              "#46039f"
             ],
             [
              0.2222222222222222,
              "#7201a8"
             ],
             [
              0.3333333333333333,
              "#9c179e"
             ],
             [
              0.4444444444444444,
              "#bd3786"
             ],
             [
              0.5555555555555556,
              "#d8576b"
             ],
             [
              0.6666666666666666,
              "#ed7953"
             ],
             [
              0.7777777777777778,
              "#fb9f3a"
             ],
             [
              0.8888888888888888,
              "#fdca26"
             ],
             [
              1,
              "#f0f921"
             ]
            ],
            "type": "surface"
           }
          ],
          "table": [
           {
            "cells": {
             "fill": {
              "color": "#EBF0F8"
             },
             "line": {
              "color": "white"
             }
            },
            "header": {
             "fill": {
              "color": "#C8D4E3"
             },
             "line": {
              "color": "white"
             }
            },
            "type": "table"
           }
          ]
         },
         "layout": {
          "annotationdefaults": {
           "arrowcolor": "#2a3f5f",
           "arrowhead": 0,
           "arrowwidth": 1
          },
          "autotypenumbers": "strict",
          "coloraxis": {
           "colorbar": {
            "outlinewidth": 0,
            "ticks": ""
           }
          },
          "colorscale": {
           "diverging": [
            [
             0,
             "#8e0152"
            ],
            [
             0.1,
             "#c51b7d"
            ],
            [
             0.2,
             "#de77ae"
            ],
            [
             0.3,
             "#f1b6da"
            ],
            [
             0.4,
             "#fde0ef"
            ],
            [
             0.5,
             "#f7f7f7"
            ],
            [
             0.6,
             "#e6f5d0"
            ],
            [
             0.7,
             "#b8e186"
            ],
            [
             0.8,
             "#7fbc41"
            ],
            [
             0.9,
             "#4d9221"
            ],
            [
             1,
             "#276419"
            ]
           ],
           "sequential": [
            [
             0,
             "#0d0887"
            ],
            [
             0.1111111111111111,
             "#46039f"
            ],
            [
             0.2222222222222222,
             "#7201a8"
            ],
            [
             0.3333333333333333,
             "#9c179e"
            ],
            [
             0.4444444444444444,
             "#bd3786"
            ],
            [
             0.5555555555555556,
             "#d8576b"
            ],
            [
             0.6666666666666666,
             "#ed7953"
            ],
            [
             0.7777777777777778,
             "#fb9f3a"
            ],
            [
             0.8888888888888888,
             "#fdca26"
            ],
            [
             1,
             "#f0f921"
            ]
           ],
           "sequentialminus": [
            [
             0,
             "#0d0887"
            ],
            [
             0.1111111111111111,
             "#46039f"
            ],
            [
             0.2222222222222222,
             "#7201a8"
            ],
            [
             0.3333333333333333,
             "#9c179e"
            ],
            [
             0.4444444444444444,
             "#bd3786"
            ],
            [
             0.5555555555555556,
             "#d8576b"
            ],
            [
             0.6666666666666666,
             "#ed7953"
            ],
            [
             0.7777777777777778,
             "#fb9f3a"
            ],
            [
             0.8888888888888888,
             "#fdca26"
            ],
            [
             1,
             "#f0f921"
            ]
           ]
          },
          "colorway": [
           "#636efa",
           "#EF553B",
           "#00cc96",
           "#ab63fa",
           "#FFA15A",
           "#19d3f3",
           "#FF6692",
           "#B6E880",
           "#FF97FF",
           "#FECB52"
          ],
          "font": {
           "color": "#2a3f5f"
          },
          "geo": {
           "bgcolor": "white",
           "lakecolor": "white",
           "landcolor": "#E5ECF6",
           "showlakes": true,
           "showland": true,
           "subunitcolor": "white"
          },
          "hoverlabel": {
           "align": "left"
          },
          "hovermode": "closest",
          "mapbox": {
           "style": "light"
          },
          "paper_bgcolor": "white",
          "plot_bgcolor": "#E5ECF6",
          "polar": {
           "angularaxis": {
            "gridcolor": "white",
            "linecolor": "white",
            "ticks": ""
           },
           "bgcolor": "#E5ECF6",
           "radialaxis": {
            "gridcolor": "white",
            "linecolor": "white",
            "ticks": ""
           }
          },
          "scene": {
           "xaxis": {
            "backgroundcolor": "#E5ECF6",
            "gridcolor": "white",
            "gridwidth": 2,
            "linecolor": "white",
            "showbackground": true,
            "ticks": "",
            "zerolinecolor": "white"
           },
           "yaxis": {
            "backgroundcolor": "#E5ECF6",
            "gridcolor": "white",
            "gridwidth": 2,
            "linecolor": "white",
            "showbackground": true,
            "ticks": "",
            "zerolinecolor": "white"
           },
           "zaxis": {
            "backgroundcolor": "#E5ECF6",
            "gridcolor": "white",
            "gridwidth": 2,
            "linecolor": "white",
            "showbackground": true,
            "ticks": "",
            "zerolinecolor": "white"
           }
          },
          "shapedefaults": {
           "line": {
            "color": "#2a3f5f"
           }
          },
          "ternary": {
           "aaxis": {
            "gridcolor": "white",
            "linecolor": "white",
            "ticks": ""
           },
           "baxis": {
            "gridcolor": "white",
            "linecolor": "white",
            "ticks": ""
           },
           "bgcolor": "#E5ECF6",
           "caxis": {
            "gridcolor": "white",
            "linecolor": "white",
            "ticks": ""
           }
          },
          "title": {
           "x": 0.05
          },
          "xaxis": {
           "automargin": true,
           "gridcolor": "white",
           "linecolor": "white",
           "ticks": "",
           "title": {
            "standoff": 15
           },
           "zerolinecolor": "white",
           "zerolinewidth": 2
          },
          "yaxis": {
           "automargin": true,
           "gridcolor": "white",
           "linecolor": "white",
           "ticks": "",
           "title": {
            "standoff": 15
           },
           "zerolinecolor": "white",
           "zerolinewidth": 2
          }
         }
        },
        "title": {
         "text": "Mean Temperature Increase from 2003-2013 (For Cities)"
        },
        "width": 1500,
        "xaxis": {
         "rangeslider": {
          "visible": true
         },
         "title": {
          "text": "Cities"
         }
        },
        "yaxis": {
         "title": {
          "text": "Mean Temperature"
         }
        }
       }
      }
     },
     "metadata": {},
     "output_type": "display_data"
    }
   ],
   "source": [
    "fig = go.Figure()\n",
    "fig.add_trace(go.Scatter(y=last_decade['diff03_13'], x=last_decade.index,name='Temperature'))\n",
    "\n",
    "fig.update_xaxes(rangeslider_visible=True, title_text = 'Cities')\n",
    "fig.update_yaxes(title_text='Mean Temperature')\n",
    "fig.update_layout(title = 'Mean Temperature Increase from 2003-2013 (For Cities)', height=800, width=1500)\n",
    "fig.show()"
   ]
  },
  {
   "cell_type": "code",
   "execution_count": 210,
   "metadata": {},
   "outputs": [
    {
     "name": "stdout",
     "output_type": "stream",
     "text": [
      "Index(['Augsburg', 'Munich', 'Ratisbon', 'Ingolstadt', 'Nuremberg'], dtype='object', name='City')\n",
      "Index(['Mülheim', 'Neuss', 'Mönchengladbach', 'Remscheid', 'Solingen'], dtype='object', name='City')\n"
     ]
    }
   ],
   "source": [
    "print(order_last_decade[:5].index)\n",
    "print(order_last_decade[-6:-1].index)"
   ]
  },
  {
   "cell_type": "code",
   "execution_count": 211,
   "metadata": {},
   "outputs": [
    {
     "data": {
      "text/html": [
       "<div style=\"width:100%;\"><div style=\"position:relative;width:100%;height:0;padding-bottom:60%;\"><span style=\"color:#565656\">Make this Notebook Trusted to load map: File -> Trust Notebook</span><iframe srcdoc=\"&lt;!DOCTYPE html&gt;\n",
       "&lt;html&gt;\n",
       "&lt;head&gt;\n",
       "    \n",
       "    &lt;meta http-equiv=&quot;content-type&quot; content=&quot;text/html; charset=UTF-8&quot; /&gt;\n",
       "    \n",
       "        &lt;script&gt;\n",
       "            L_NO_TOUCH = false;\n",
       "            L_DISABLE_3D = false;\n",
       "        &lt;/script&gt;\n",
       "    \n",
       "    &lt;style&gt;html, body {width: 100%;height: 100%;margin: 0;padding: 0;}&lt;/style&gt;\n",
       "    &lt;style&gt;#map {position:absolute;top:0;bottom:0;right:0;left:0;}&lt;/style&gt;\n",
       "    &lt;script src=&quot;https://cdn.jsdelivr.net/npm/leaflet@1.9.3/dist/leaflet.js&quot;&gt;&lt;/script&gt;\n",
       "    &lt;script src=&quot;https://code.jquery.com/jquery-3.7.1.min.js&quot;&gt;&lt;/script&gt;\n",
       "    &lt;script src=&quot;https://cdn.jsdelivr.net/npm/bootstrap@5.2.2/dist/js/bootstrap.bundle.min.js&quot;&gt;&lt;/script&gt;\n",
       "    &lt;script src=&quot;https://cdnjs.cloudflare.com/ajax/libs/Leaflet.awesome-markers/2.0.2/leaflet.awesome-markers.js&quot;&gt;&lt;/script&gt;\n",
       "    &lt;link rel=&quot;stylesheet&quot; href=&quot;https://cdn.jsdelivr.net/npm/leaflet@1.9.3/dist/leaflet.css&quot;/&gt;\n",
       "    &lt;link rel=&quot;stylesheet&quot; href=&quot;https://cdn.jsdelivr.net/npm/bootstrap@5.2.2/dist/css/bootstrap.min.css&quot;/&gt;\n",
       "    &lt;link rel=&quot;stylesheet&quot; href=&quot;https://netdna.bootstrapcdn.com/bootstrap/3.0.0/css/bootstrap-glyphicons.css&quot;/&gt;\n",
       "    &lt;link rel=&quot;stylesheet&quot; href=&quot;https://cdn.jsdelivr.net/npm/@fortawesome/fontawesome-free@6.2.0/css/all.min.css&quot;/&gt;\n",
       "    &lt;link rel=&quot;stylesheet&quot; href=&quot;https://cdnjs.cloudflare.com/ajax/libs/Leaflet.awesome-markers/2.0.2/leaflet.awesome-markers.css&quot;/&gt;\n",
       "    &lt;link rel=&quot;stylesheet&quot; href=&quot;https://cdn.jsdelivr.net/gh/python-visualization/folium/folium/templates/leaflet.awesome.rotate.min.css&quot;/&gt;\n",
       "    \n",
       "            &lt;meta name=&quot;viewport&quot; content=&quot;width=device-width,\n",
       "                initial-scale=1.0, maximum-scale=1.0, user-scalable=no&quot; /&gt;\n",
       "            &lt;style&gt;\n",
       "                #map_670e9c0233a28326ce53484b37067c2d {\n",
       "                    position: relative;\n",
       "                    width: 100.0%;\n",
       "                    height: 100.0%;\n",
       "                    left: 0.0%;\n",
       "                    top: 0.0%;\n",
       "                }\n",
       "                .leaflet-container { font-size: 1rem; }\n",
       "            &lt;/style&gt;\n",
       "        \n",
       "    &lt;script src=&quot;https://cdn.jsdelivr.net/gh/python-visualization/folium@main/folium/templates/leaflet_heat.min.js&quot;&gt;&lt;/script&gt;\n",
       "&lt;/head&gt;\n",
       "&lt;body&gt;\n",
       "    \n",
       "    \n",
       "            &lt;div class=&quot;folium-map&quot; id=&quot;map_670e9c0233a28326ce53484b37067c2d&quot; &gt;&lt;/div&gt;\n",
       "        \n",
       "&lt;/body&gt;\n",
       "&lt;script&gt;\n",
       "    \n",
       "    \n",
       "            var map_670e9c0233a28326ce53484b37067c2d = L.map(\n",
       "                &quot;map_670e9c0233a28326ce53484b37067c2d&quot;,\n",
       "                {\n",
       "                    center: [20.5937, 78.9629],\n",
       "                    crs: L.CRS.EPSG3857,\n",
       "                    ...{\n",
       "  &quot;zoom&quot;: 5,\n",
       "  &quot;zoomControl&quot;: true,\n",
       "  &quot;preferCanvas&quot;: false,\n",
       "}\n",
       "\n",
       "                }\n",
       "            );\n",
       "            L.control.scale().addTo(map_670e9c0233a28326ce53484b37067c2d);\n",
       "\n",
       "            \n",
       "\n",
       "        \n",
       "    \n",
       "            var tile_layer_789c3d523be2f2c3a042ef29202a1abf = L.tileLayer(\n",
       "                &quot;https://tile.openstreetmap.org/{z}/{x}/{y}.png&quot;,\n",
       "                {\n",
       "  &quot;minZoom&quot;: 0,\n",
       "  &quot;maxZoom&quot;: 19,\n",
       "  &quot;maxNativeZoom&quot;: 19,\n",
       "  &quot;noWrap&quot;: false,\n",
       "  &quot;attribution&quot;: &quot;\\u0026copy; \\u003ca href=\\&quot;https://www.openstreetmap.org/copyright\\&quot;\\u003eOpenStreetMap\\u003c/a\\u003e contributors&quot;,\n",
       "  &quot;subdomains&quot;: &quot;abc&quot;,\n",
       "  &quot;detectRetina&quot;: false,\n",
       "  &quot;tms&quot;: false,\n",
       "  &quot;opacity&quot;: 1,\n",
       "}\n",
       "\n",
       "            );\n",
       "        \n",
       "    \n",
       "            tile_layer_789c3d523be2f2c3a042ef29202a1abf.addTo(map_670e9c0233a28326ce53484b37067c2d);\n",
       "        \n",
       "    \n",
       "            var heat_map_d83b07a759d5d2aa6e58bf27de00ec11 = L.heatLayer(\n",
       "                [[50.776351, 6.083862, -0.296555555555555], [48.3690341, 10.8979522, 0.735777777777777], [50.9929303, 7.1277379, -0.296555555555555], [52.510885, 13.3989367, 0.45613888888888887], [52.0191005, 8.531007, -0.12719444444444505], [51.4818111, 7.2196635, -0.12719444444444505], [50.7352621, 7.1024635, -0.296555555555555], [51.521581, 6.929204, -0.12719444444444505], [53.0758196, 8.8071646, 0.1966666666666672], [53.5505392, 8.5851945, 0.1966666666666672], [52.2646577, 10.5236066, 0.06541666666666579], [50.8323531, 12.918914, 0.5178888888888906], [43.7218277, 0.9774958, -0.296555555555555], [51.7567447, 14.3357307, 0.45613888888888887], [49.8851869, 8.6736295, 0.08216666666666583], [51.5142273, 7.4652789, -0.12719444444444505], [51.0493286, 13.7381437, 0.5178888888888906], [51.434999, 6.759562, -0.296555555555555], [51.2254018, 6.7763137, -0.296555555555555], [50.9777974, 11.0287364, 0.3006666666666664], [49.589157099999994, 10.98120719922546, 0.19002777777777702], [51.4582235, 7.0158171, -0.296555555555555], [50.1106444, 8.6820917, 0.08216666666666583], [47.9960901, 7.8494005, 0.10308333333333408], [49.488571050000004, 10.95872031326412, 0.19002777777777702], [51.5110321, 7.0960124, -0.12719444444444505], [50.8765537, 12.0832666, 0.3006666666666664], [51.5328328, 9.9351811, 0.06541666666666579], [51.3582945, 7.473296, -0.12719444444444505], [51.4825041, 11.9705452, 0.3006666666666664], [53.550341, 10.000654, 0.1966666666666672], [51.681281, 7.8191185, -0.12719444444444505], [52.3744779, 9.7385532, 0.06541666666666579], [49.4093582, 8.694724, 0.19002777777777702], [49.142291, 9.218655, 0.19002777777777702], [51.5380394, 7.219985, -0.12719444444444505], [52.1527188, 9.9518083, 0.06541666666666579], [48.7630165, 11.4250395, 0.6614722222222209], [49.0068705, 8.4034195, -0.23302777777777806], [51.3157833, 9.4978479, 0.08216666666666583], [54.3227085, 10.135555, 0.1966666666666672], [50.3533278, 7.5943951, -0.296555555555555], [51.3331205, 6.5623343, -0.296555555555555], [51.3406321, 12.3747329, 0.3006666666666664], [51.0324743, 6.9881194, -0.296555555555555], [49.4704113, 8.4381568, -0.23302777777777806], [53.866444, 10.684738, 0.1966666666666672], [52.1315889, 11.6399609, 0.06541666666666579], [49.9995205, 8.2736253, 0.08216666666666583], [49.4892913, 8.4673098, -0.23302777777777806], [51.451283, 6.62843, -0.296555555555555], [48.1371079, 11.5753822, 0.735777777777777], [51.1947131, 6.4353792, -0.296555555555555], [51.4272925, 6.8829192, -0.296555555555555], [51.9625101, 7.6251879, -0.12719444444444505], [51.1981778, 6.6916476, -0.296555555555555], [49.453872, 11.077298, 0.6614722222222209], [51.4696137, 6.8514435, -0.296555555555555], [50.1055002, 8.7610698, 0.08216666666666583], [53.1389753, 8.2146017, -0.12719444444444505], [52.2719595, 8.047635, -0.12719444444444505], [51.7177044, 8.752653, -0.12719444444444505], [48.8908846, 8.7029532, 0.19002777777777702], [52.4009309, 13.0591397, 0.45613888888888887], [49.0195333, 12.0974869, 0.6614722222222209], [51.6143815, 7.1978546, -0.12719444444444505], [51.1798706, 7.1943544, -0.296555555555555], [48.4919508, 9.2114144, 0.19002777777777702], [54.0886707, 12.1400211, 0.5468611111111112], [49.234362, 6.996379, -0.23302777777777806], [52.1503721, 10.3593147, 0.06541666666666579], [50.8751175, 8.0256131, 0.08216666666666583], [51.1721629, 7.0845893, -0.296555555555555], [48.7784485, 9.1800132, 0.19002777777777702], [49.7596208, 6.6441878, -0.23302777777777806], [48.3984968, 9.9912458, 0.19002777777777702], [50.0820384, 8.2416556, 0.08216666666666583], [51.4370171, 7.335124, -0.12719444444444505], [52.4205588, 10.7861682, 0.06541666666666579], [51.264018, 7.1780374, -0.296555555555555], [49.7933723, 9.9309779, 0.19002777777777702]],\n",
       "                {\n",
       "  &quot;minOpacity&quot;: 0.5,\n",
       "  &quot;maxZoom&quot;: 18,\n",
       "  &quot;radius&quot;: 15,\n",
       "  &quot;blur&quot;: 15,\n",
       "}\n",
       "            );\n",
       "        \n",
       "    \n",
       "            heat_map_d83b07a759d5d2aa6e58bf27de00ec11.addTo(map_670e9c0233a28326ce53484b37067c2d);\n",
       "        \n",
       "&lt;/script&gt;\n",
       "&lt;/html&gt;\" style=\"position:absolute;width:100%;height:100%;left:0;top:0;border:none !important;\" allowfullscreen webkitallowfullscreen mozallowfullscreen></iframe></div></div>"
      ],
      "text/plain": [
       "<folium.folium.Map at 0x22d558d3350>"
      ]
     },
     "execution_count": 211,
     "metadata": {},
     "output_type": "execute_result"
    }
   ],
   "source": [
    "last_decade['lat']  = century_comb_copy['lat'] \n",
    "last_decade['lon']= century_comb_copy['lon'] \n",
    "last_decade_copy = last_decade.copy()\n",
    "last_decade_copy.dropna(inplace=True)\n",
    "\n",
    "basemap = folium.Map(control_scale=True, zoom_start=5, location=(20.5937, 78.9629))\n",
    "HeatMap(last_decade_copy[['lat','lon', 'diff03_13']].values.tolist(), radius=15).add_to(basemap)\n",
    "\n",
    "basemap"
   ]
  }
 ],
 "metadata": {
  "kernelspec": {
   "display_name": "model",
   "language": "python",
   "name": "python3"
  },
  "language_info": {
   "codemirror_mode": {
    "name": "ipython",
    "version": 3
   },
   "file_extension": ".py",
   "mimetype": "text/x-python",
   "name": "python",
   "nbconvert_exporter": "python",
   "pygments_lexer": "ipython3",
   "version": "3.12.5"
  }
 },
 "nbformat": 4,
 "nbformat_minor": 2
}
