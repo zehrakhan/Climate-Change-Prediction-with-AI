{
 "cells": [
  {
   "cell_type": "code",
   "execution_count": 24,
   "metadata": {},
   "outputs": [],
   "source": [
    "import pandas as pd\n",
    "import numpy as np \n",
    "import plotly.offline as py\n",
    "import plotly.graph_objects as go\n",
    "import matplotlib.pyplot as plt\n",
    "import seaborn as sns\n",
    "from functools import reduce\n",
    "from geopy.geocoders import Nominatim\n",
    "import folium\n",
    "from sklearn.linear_model import LinearRegression\n",
    "from sklearn.metrics import mean_squared_error, r2_score\n",
    "from sklearn.model_selection import train_test_split\n",
    "from folium.plugins import HeatMap\n",
    "sns.set_style('white')"
   ]
  },
  {
   "cell_type": "code",
   "execution_count": 25,
   "metadata": {},
   "outputs": [
    {
     "name": "stdout",
     "output_type": "stream",
     "text": [
      "          dt  AverageTemperature  AverageTemperatureUncertainty    City  \\\n",
      "0 1743-11-01               6.425                          1.628  Aachen   \n",
      "1 1743-12-01               0.689                          1.821  Aachen   \n",
      "2 1744-01-01              -0.673                          2.095  Aachen   \n",
      "3 1744-02-01               0.762                          1.923  Aachen   \n",
      "4 1744-03-01               3.754                          1.626  Aachen   \n",
      "\n",
      "   Country Latitude Longitude  \n",
      "0  Germany   50.63N     6.34E  \n",
      "1  Germany   50.63N     6.34E  \n",
      "2  Germany   50.63N     6.34E  \n",
      "3  Germany   50.63N     6.34E  \n",
      "4  Germany   50.63N     6.34E  \n"
     ]
    }
   ],
   "source": [
    "#after imputation\n",
    "data_deu = pd.read_csv('C:/Users/a0095989/Desktop/important/Thesis/Model_Thesis/imputed_deu_data.csv', parse_dates=[0])\n",
    "# Verify dataset loading\n",
    "print(data_deu.head())\n",
    "data_ind = data_deu[data_deu['Country']=='Germany']"
   ]
  },
  {
   "cell_type": "code",
   "execution_count": 26,
   "metadata": {},
   "outputs": [
    {
     "name": "stdout",
     "output_type": "stream",
     "text": [
      "1.6144728825769268\n"
     ]
    }
   ],
   "source": [
    "mean_uncertainty = data_deu['AverageTemperatureUncertainty'].mean()\n",
    "print(mean_uncertainty)"
   ]
  },
  {
   "cell_type": "code",
   "execution_count": 27,
   "metadata": {},
   "outputs": [],
   "source": [
    "# Adding Temperature Anomaly Feature\n",
    "\n",
    "# Calculate the long-term mean temperature for each city\n",
    "long_term_means = data_ind.groupby('City')['AverageTemperature'].mean()\n",
    "\n",
    "# Add the anomaly feature by subtracting the long-term mean from each temperature value\n",
    "data_ind['TemperatureAnomaly'] = data_ind.apply(\n",
    "    lambda row: row['AverageTemperature'] - long_term_means[row['City']], axis=1\n",
    ")\n",
    "\n",
    "# Verify the added feature\n",
    "#print(data_ind[['City', 'AverageTemperature', 'TemperatureAnomaly']].head(20))\n",
    "\n",
    "# Extract Year and Month\n",
    "data_ind['Year'] = data_ind['dt'].dt.year\n",
    "data_ind['Month'] = data_ind['dt'].dt.month\n",
    "\n",
    "# Add Seasons (example for northern hemisphere)\n",
    "data_ind['Season'] = data_ind['Month'].apply(lambda x: 'Winter' if x in [12, 1, 2] \n",
    "                                      else 'Spring' if x in [3, 4, 5]\n",
    "                                      else 'Summer' if x in [6, 7, 8]\n",
    "                                      else 'Fall')\n",
    "\n",
    "# Calculate Year-over-Year Temperature Changes\n",
    "data_ind['TemperatureChange'] = data_ind.groupby('City')['AverageTemperature'].diff()\n"
   ]
  },
  {
   "cell_type": "code",
   "execution_count": 28,
   "metadata": {},
   "outputs": [],
   "source": [
    "# Save the updated dataset to a CSV file\n",
    "data_ind.to_csv('imputed_deu_data1.csv', index=False)\n"
   ]
  },
  {
   "cell_type": "code",
   "execution_count": 32,
   "metadata": {},
   "outputs": [
    {
     "name": "stdout",
     "output_type": "stream",
     "text": [
      "Year\n",
      "1744     8.294\n",
      "1745     8.099\n",
      "1746     8.489\n",
      "1747     8.489\n",
      "1748     8.489\n",
      "         ...  \n",
      "2008     9.836\n",
      "2009     9.684\n",
      "2010     8.332\n",
      "2011    10.193\n",
      "2012     9.531\n",
      "Name: AverageTemperature, Length: 269, dtype: float64\n"
     ]
    }
   ],
   "source": [
    "import pandas as pd\n",
    "\n",
    "# Load the existing dataset\n",
    "data_ind = pd.read_csv('C:/Users/a0095989/Desktop/important/Thesis/Model_Thesis/imputed_deu_data1.csv')\n",
    "\n",
    "# Group by 'Year' and calculate the average temperature for each year\n",
    "yearly_avg = data_ind.groupby('Year', as_index=False)['AverageTemperature'].mean()\n",
    "\n",
    "# Rename the column to match your desired output\n",
    "yearly_avg.rename(columns={'AverageTemperature': 'Yearly_Avg_Temperature'}, inplace=True)\n",
    "\n",
    "# Merge the Yearly Average Temperature back into the original dataset\n",
    "data_ind = data_ind.merge(yearly_avg, on='Year', how='left')\n",
    "\n",
    "# Save the updated dataset, overwriting the original one\n",
    "data_ind.to_csv('C:/Users/a0095989/Desktop/important/Thesis/Model_Thesis/imputed_deu_data1.csv', index=False)\n"
   ]
  },
  {
   "cell_type": "code",
   "execution_count": 30,
   "metadata": {},
   "outputs": [
    {
     "data": {
      "text/plain": [
       "City\n",
       "Aachen               8.823997\n",
       "Augsburg             4.736021\n",
       "Bergisch Gladbach    8.823997\n",
       "Berlin               8.913005\n",
       "Bielefeld            8.980344\n",
       "Bochum               8.980344\n",
       "Bonn                 8.823997\n",
       "Bottrop              8.980344\n",
       "Bremen               8.337281\n",
       "Bremerhaven          8.337281\n",
       "Brunswick            8.456355\n",
       "Chemnitz             8.245591\n",
       "Cologne              8.823997\n",
       "Cottbus              8.913005\n",
       "Darmstadt            8.173076\n",
       "Dortmund             8.980344\n",
       "Dresden              8.245591\n",
       "Duisburg             8.823997\n",
       "Düsseldorf           8.823997\n",
       "Erfurt               7.596735\n",
       "Name: AverageTemperature, dtype: float64"
      ]
     },
     "execution_count": 30,
     "metadata": {},
     "output_type": "execute_result"
    }
   ],
   "source": [
    "long_term_means.head(20)"
   ]
  }
 ],
 "metadata": {
  "kernelspec": {
   "display_name": "model",
   "language": "python",
   "name": "python3"
  },
  "language_info": {
   "codemirror_mode": {
    "name": "ipython",
    "version": 3
   },
   "file_extension": ".py",
   "mimetype": "text/x-python",
   "name": "python",
   "nbconvert_exporter": "python",
   "pygments_lexer": "ipython3",
   "version": "3.12.5"
  }
 },
 "nbformat": 4,
 "nbformat_minor": 2
}
